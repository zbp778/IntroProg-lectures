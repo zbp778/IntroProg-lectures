{
 "cells": [
  {
   "cell_type": "markdown",
   "metadata": {},
   "source": [
    "# Production economy: Workers and capitalists"
   ]
  },
  {
   "cell_type": "markdown",
   "metadata": {},
   "source": [
    "**Table of contents**<a id='toc0_'></a>    \n",
    "- 1. [Model](#toc1_)    \n",
    "  - 1.1. [Parameters](#toc1_1_)    \n",
    "  - 1.2. [Workers](#toc1_2_)    \n",
    "  - 1.3. [Capitalists](#toc1_3_)    \n",
    "  - 1.4. [Firm](#toc1_4_)    \n",
    "  - 1.5. [Equilibrium](#toc1_5_)    \n",
    "- 2. [Experiments](#toc2_)    \n",
    "- 3. [Using a class](#toc3_)    \n",
    "\n",
    "<!-- vscode-jupyter-toc-config\n",
    "\tnumbering=true\n",
    "\tanchor=true\n",
    "\tflat=false\n",
    "\tminLevel=2\n",
    "\tmaxLevel=6\n",
    "\t/vscode-jupyter-toc-config -->\n",
    "<!-- THIS CELL WILL BE REPLACED ON TOC UPDATE. DO NOT WRITE YOUR TEXT IN THIS CELL -->"
   ]
  },
  {
   "cell_type": "code",
   "execution_count": 2,
   "metadata": {},
   "outputs": [],
   "source": [
    "from types import SimpleNamespace\n",
    "\n",
    "import numpy as np\n",
    "from scipy import optimize\n",
    "\n",
    "%load_ext autoreload\n",
    "%autoreload 2\n",
    "\n",
    "import ProductionEconomy"
   ]
  },
  {
   "cell_type": "markdown",
   "metadata": {},
   "source": [
    "## 1. <a id='toc1_'></a>[Model](#toc0_)"
   ]
  },
  {
   "cell_type": "markdown",
   "metadata": {},
   "source": [
    "Consider an economy consisting of $N_w$ **workers**, and $N_c$ **capitalists** and a single **firm** owned equally by the capitalists."
   ]
  },
  {
   "cell_type": "markdown",
   "metadata": {},
   "source": [
    "**Workers:** Consume, $c_w$, at a price $p$, and supply labor, $\\ell_w$, at a wage of $w$. Maximize utility:\n",
    "        \n",
    "$$\\max_{c_w\\geq0,\\ell_w\\in[0,1]} \\log (c_w+\\kappa)- \\omega \\ell_w^{\\eta} \\text{ s.t } pc_w \\leq w \\ell_w,\\,\\,\\,\\omega,\\kappa > 0, \\eta \\geq 1$$ \n",
    "\n",
    "Equivalently, substituting in the budget constraint with equality:\n",
    "\n",
    "$$\\max_{\\ell_w\\in[0,1]} \\log \\left( \\frac{w \\ell_w}{p}+\\kappa \\right)- \\omega \\ell_w^{\\eta}$$ \n",
    "\n",
    "Denote ***optimal behavior*** $c_w^{\\star}(p,w)$ and $\\ell_w^{\\star}(p,w)$."
   ]
  },
  {
   "cell_type": "markdown",
   "metadata": {},
   "source": [
    "**Capitalists:** Consume, $c_c$, at a price $p$, supply labor, $\\ell_c$, at a wage $w$, and receives profits $\\pi$. Maximize utility:\n",
    "        \n",
    "$$\\max_{c_c\\geq0,\\ell_c\\in[0,1]} \\log (c_c+\\kappa) - \\omega \\ell_c^{\\eta} \\text{ s.t } pc_c = w \\ell_c + \\pi, ,\\,\\,\\,\\omega,\\kappa > 0, \\eta \\geq 1$$ \n",
    "\n",
    "Equivalently, substituting in the budget constraint with equality:\n",
    "\n",
    "$$\\max_{\\ell_c\\in[0,1]} \\log \\left( \\frac{w \\ell_c + \\pi}{p}+\\kappa \\right)- \\omega \\ell_c^{\\eta}$$ \n",
    "\n",
    "Denote ***optimal behavior*** $c_c^{\\star}(p,w,\\pi)$ and $\\ell_c^{\\star}(p,w,\\pi)$."
   ]
  },
  {
   "cell_type": "markdown",
   "metadata": {},
   "source": [
    "**Firm:** Use the production function $f(\\ell) = \\ell^\\alpha, \\alpha \\in (0,1)$. Maximize profits:\n",
    "\n",
    "$$\\max_{\\ell\\geq0} p f(\\ell) - w\\ell $$ \n",
    "\n",
    "Denote ***optional behavior*** by $\\ell^{\\star}(p,w)$. \n",
    "\n",
    "Implied ***production*** is $y^{\\star}(p,w) = f(\\ell^{\\star}(p,w))$ and implied ***total profits*** are $\\Pi^\\star(p,w) = py^{\\star}(p,w) - w\\ell^{\\star}(p,w)$ "
   ]
  },
  {
   "cell_type": "markdown",
   "metadata": {},
   "source": [
    "**Equilibrium:** A set of prices $(p,w)$ such that workers, capitalists and firms act optimally given prices and profit, and\n",
    "\n",
    "1. **Goods market clears**: $N_w c_w^{\\star}(p,w) + N_c c_c^{\\star}(p,w,\\pi) = y^\\star(p,w)$\n",
    "2. **Labor market clears**: $N_w \\ell_w^{\\star}(p,w) + N_c \\ell_c^{\\star}(p,w,\\pi) = \\ell^\\star(p,w)$\n",
    "3. **Profits received equal profits distributed**: $\\pi = \\frac{py^{\\star}(p,w) - w\\ell^{\\star}(p,w)}{N_c}$\n",
    "\n",
    "**Note I:** We can use $p=1$ as numeraire.\n",
    "\n",
    "**Note II:** *Walras' Law* imply that if one of the markets clear, then the other one does too."
   ]
  },
  {
   "cell_type": "markdown",
   "metadata": {},
   "source": [
    "### 1.1. <a id='toc1_1_'></a>[Parameters](#toc0_)"
   ]
  },
  {
   "cell_type": "markdown",
   "metadata": {},
   "source": [
    "Choose parameters:"
   ]
  },
  {
   "cell_type": "code",
   "execution_count": 6,
   "metadata": {},
   "outputs": [
    {
     "name": "stdout",
     "output_type": "stream",
     "text": [
      "namespace(kappa=0.1, omega=10, eta=1.5, alpha=0.5, Nw=99, Nc=1)\n"
     ]
    },
    {
     "data": {
      "text/plain": [
       "0.1"
      ]
     },
     "execution_count": 6,
     "metadata": {},
     "output_type": "execute_result"
    }
   ],
   "source": [
    "par = SimpleNamespace()\n",
    "par.kappa = 0.1\n",
    "par.omega = 10\n",
    "par.eta = 1.50\n",
    "par.alpha = 0.50\n",
    "par.Nw = 99\n",
    "par.Nc = 1\n",
    "\n",
    "#SimpleNameSpace use\n",
    "print(par)\n",
    "par.__dict__['kappa']"
   ]
  },
  {
   "cell_type": "markdown",
   "metadata": {},
   "source": [
    "### 1.2. <a id='toc1_2_'></a>[Workers](#toc0_)"
   ]
  },
  {
   "cell_type": "code",
   "execution_count": 7,
   "metadata": {},
   "outputs": [],
   "source": [
    "def utility_w(c,l,par):\n",
    "    \"\"\" utility of workers \"\"\"\n",
    "    \n",
    "    return np.log(c+par.kappa)-par.omega*l**par.eta\n",
    "\n",
    "def workers(p,w,par):\n",
    "    \"\"\" maximize utility for workers \"\"\"\n",
    "    \n",
    "    # a. solve\n",
    "    obj = lambda l: -utility_w((w*l)/p,l,par)\n",
    "    res = optimize.minimize_scalar(obj,bounds=(0,1),method='bounded')\n",
    "    \n",
    "    # b. save\n",
    "    l_w_star = res.x\n",
    "    c_w_star = (w*l_w_star)/p\n",
    "    \n",
    "    return c_w_star,l_w_star"
   ]
  },
  {
   "cell_type": "markdown",
   "metadata": {},
   "source": [
    "**Small test:**"
   ]
  },
  {
   "cell_type": "code",
   "execution_count": 8,
   "metadata": {},
   "outputs": [
    {
     "name": "stdout",
     "output_type": "stream",
     "text": [
      "w = 0.50 -> c = 0.03, l = 0.06\n",
      "w = 1.00 -> c = 0.11, l = 0.11\n",
      "w = 1.50 -> c = 0.18, l = 0.12\n"
     ]
    }
   ],
   "source": [
    "p = 1\n",
    "for w in [0.5,1,1.5]:\n",
    "    c,l = workers(p,w,par)\n",
    "    print(f'w = {w:.2f} -> c = {c:.2f}, l = {l:.2f}')"
   ]
  },
  {
   "cell_type": "markdown",
   "metadata": {},
   "source": [
    "### 1.3. <a id='toc1_3_'></a>[Capitalists](#toc0_)"
   ]
  },
  {
   "cell_type": "code",
   "execution_count": 9,
   "metadata": {},
   "outputs": [],
   "source": [
    "def utility_c(c,l,par):\n",
    "    \"\"\" utility of capitalists \"\"\"\n",
    "    \n",
    "    return np.log(c+par.kappa)-par.omega*l**par.eta\n",
    "\n",
    "def capitalists(p,w,pi,par):\n",
    "    \"\"\" maximize utility of capitalists \"\"\"\n",
    "    \n",
    "    # a. solve\n",
    "    obj = lambda l: -utility_c((w*l+pi)/p,l,par) # subsittute in the budget constraint\n",
    "    res = optimize.minimize_scalar(obj,bounds=(0,1),method='bounded')\n",
    "    \n",
    "    # b. save\n",
    "    l_c_star = res.x\n",
    "    c_c_star = (w*l_c_star+pi)/p\n",
    "    \n",
    "    return c_c_star,l_c_star"
   ]
  },
  {
   "cell_type": "markdown",
   "metadata": {},
   "source": [
    "**Small test:**"
   ]
  },
  {
   "cell_type": "code",
   "execution_count": 10,
   "metadata": {},
   "outputs": [
    {
     "name": "stdout",
     "output_type": "stream",
     "text": [
      "w = 0.50 -> c = 0.11, l = 0.02\n",
      "w = 1.00 -> c = 0.16, l = 0.06\n",
      "w = 1.50 -> c = 0.23, l = 0.09\n"
     ]
    }
   ],
   "source": [
    "p = 1\n",
    "pi = 0.1\n",
    "for w in [0.5,1,1.5]:\n",
    "    c,l = capitalists(p,w,pi,par)\n",
    "    print(f'w = {w:.2f} -> c = {c:.2f}, l = {l:.2f}')"
   ]
  },
  {
   "cell_type": "code",
   "execution_count": 12,
   "metadata": {},
   "outputs": [
    {
     "name": "stdout",
     "output_type": "stream",
     "text": [
      "w = 1.00 -> c = 0.24, l = 0.04\n",
      "w = 1.00 -> c = 0.42, l = 0.02\n",
      "w = 1.00 -> c = 0.61, l = 0.01\n"
     ]
    }
   ],
   "source": [
    "p = 1\n",
    "w=1\n",
    "for pi in [0.2,0.4,0.6]:\n",
    "    c,l = capitalists(p,w,pi,par)\n",
    "    print(f'w = {w:.2f} -> c = {c:.2f}, l = {l:.2f}')"
   ]
  },
  {
   "cell_type": "markdown",
   "metadata": {},
   "source": [
    "### 1.4. <a id='toc1_4_'></a>[Firm](#toc0_)"
   ]
  },
  {
   "cell_type": "code",
   "execution_count": 13,
   "metadata": {},
   "outputs": [],
   "source": [
    "def firm(p,w,par):\n",
    "    \"\"\" maximize firm profits \"\"\"\n",
    "    \n",
    "    # a. solve\n",
    "    f = lambda l: l**par.alpha\n",
    "    obj = lambda l: -(p*f(l)-w*l)\n",
    "    x0 = [0.0]\n",
    "    res = optimize.minimize(obj,x0,bounds=((0,None),),method='L-BFGS-B')\n",
    "    \n",
    "    # b. save\n",
    "    l_star = res.x[0]\n",
    "    y_star = f(l_star)\n",
    "    Pi = p*y_star - w*l_star\n",
    "    \n",
    "    return y_star,l_star,Pi"
   ]
  },
  {
   "cell_type": "markdown",
   "metadata": {},
   "source": [
    "**Small test:**"
   ]
  },
  {
   "cell_type": "code",
   "execution_count": 14,
   "metadata": {},
   "outputs": [
    {
     "name": "stdout",
     "output_type": "stream",
     "text": [
      "w = 0.50 -> y = 1.00, l = 1.00, Pi = 0.50\n",
      "w = 1.00 -> y = 0.50, l = 0.25, Pi = 0.25\n",
      "w = 1.50 -> y = 0.33, l = 0.11, Pi = 0.17\n"
     ]
    }
   ],
   "source": [
    "p = 1\n",
    "for w in [0.5,1,1.5]:\n",
    "    y,l,Pi = firm(p,w,par)\n",
    "    print(f'w = {w:.2f} -> y = {y:.2f}, l = {l:.2f}, Pi = {Pi:.2f}')"
   ]
  },
  {
   "cell_type": "markdown",
   "metadata": {},
   "source": [
    "### 1.5. <a id='toc1_5_'></a>[Equilibrium](#toc0_)"
   ]
  },
  {
   "attachments": {},
   "cell_type": "markdown",
   "metadata": {},
   "source": [
    "NOT DONE HERE.\n",
    "\n",
    "Method: Find price that clears labour market:\n",
    "\n",
    "define an object, which is the sum of capitalists and workers labour supply, this will depend on prices, for a given profit [making them de-facto not capitalists].\n",
    "make a new object which is the difference in labour supply(price) minus capitalists labour demand(price).\n",
    "Make it such that capitalists find their labour demand first - which then yields profits that is required in the capitalist labour supply function.\n",
    "\n",
    "Entities:\n",
    "1. Run workers to find optimal labour supply for given price\n",
    "2. Run capitalists to find optimal labor supply for given price and profits\n",
    "3. Run firm to find labour demand for given price\n",
    "\n"
   ]
  },
  {
   "cell_type": "code",
   "execution_count": 9,
   "metadata": {},
   "outputs": [],
   "source": [
    "def evaluate_equilibrium(w,par,p=None,do_print=False):\n",
    "    \"\"\" evaluate equilirium \"\"\"\n",
    "    \n",
    "    # a. normalize output price\n",
    "    p = 1 if p is None else p\n",
    "    \n",
    "    # b. optimal behavior of firm\n",
    "    y_star,l_star,Pi = firm(p,w,par)\n",
    "    pi = Pi/par.Nc\n",
    "    \n",
    "    # c. optimal behavior of households\n",
    "    c_w_star,l_w_star = workers(p,w,par)\n",
    "    c_c_star,l_c_star = capitalists(p,w,pi,par)\n",
    "    \n",
    "    # d. market clearing\n",
    "    goods_mkt_clearing = par.Nw*c_w_star + par.Nc*c_c_star - y_star\n",
    "    labor_mkt_clearing = par.Nw*l_w_star + par.Nc*l_c_star - l_star\n",
    "    \n",
    "    if do_print:\n",
    "        \n",
    "        u_w = utility_w(c_w_star,l_w_star,par)\n",
    "        print(f'workers      : c = {c_w_star:6.4f}, l = {l_w_star:6.4f}, u = {u_w:7.4f}')\n",
    "        u_c = utility_c(c_c_star,l_c_star,par)\n",
    "        print(f'capitalists  : c = {c_c_star:6.4f}, l = {l_c_star:6.4f}, u = {u_c:7.4f}')        \n",
    "        print(f'goods market : {goods_mkt_clearing:.8f}')\n",
    "        print(f'labor market : {labor_mkt_clearing:.8f}')\n",
    "        \n",
    "    else:\n",
    "    \n",
    "        return goods_mkt_clearing\n"
   ]
  },
  {
   "cell_type": "markdown",
   "metadata": {},
   "source": [
    "**Step 1:** Perform rough grid search to check when the goods market clears."
   ]
  },
  {
   "cell_type": "code",
   "execution_count": 10,
   "metadata": {},
   "outputs": [
    {
     "name": "stdout",
     "output_type": "stream",
     "text": [
      "w = 0.10 -> excess demand =  -2.45597063\n",
      "w = 0.26 -> excess demand =  -0.33115179\n",
      "w = 0.41 -> excess demand =   1.47824268\n",
      "w = 0.57 -> excess demand =   3.60037473\n",
      "w = 0.72 -> excess demand =   5.89988125\n",
      "w = 0.88 -> excess demand =   8.29317023\n",
      "w = 1.03 -> excess demand =  10.74049294\n",
      "w = 1.19 -> excess demand =  13.22157416\n",
      "w = 1.34 -> excess demand =  15.72439188\n",
      "w = 1.50 -> excess demand =  18.24150339\n"
     ]
    }
   ],
   "source": [
    "num_w = 10\n",
    "grid_w = np.linspace(0.1,1.5,num_w)\n",
    "grid_mkt_clearing = np.zeros(num_w)\n",
    "\n",
    "for i,w in enumerate(grid_w):\n",
    "    grid_mkt_clearing[i] = evaluate_equilibrium(w,par)\n",
    "    print(f'w = {w:.2f} -> excess demand = {grid_mkt_clearing[i]:12.8f}')"
   ]
  },
  {
   "cell_type": "markdown",
   "metadata": {},
   "source": [
    "**Step 2:** Find where *excess demand* changes sign - the equilibrium price must be within this range"
   ]
  },
  {
   "cell_type": "code",
   "execution_count": 11,
   "metadata": {},
   "outputs": [
    {
     "name": "stdout",
     "output_type": "stream",
     "text": [
      "equilibrium price must be in [0.26,0.41]\n"
     ]
    }
   ],
   "source": [
    "left = np.max(grid_w[grid_mkt_clearing < 0])\n",
    "right = np.min(grid_w[grid_mkt_clearing > 0])\n",
    "print(f'equilibrium price must be in [{left:.2f},{right:.2f}]')"
   ]
  },
  {
   "cell_type": "markdown",
   "metadata": {},
   "source": [
    "**Step 3:** Use equation-solver / root-finder"
   ]
  },
  {
   "cell_type": "code",
   "execution_count": 12,
   "metadata": {},
   "outputs": [
    {
     "name": "stdout",
     "output_type": "stream",
     "text": [
      "the equilibrium wage is 0.2864\n"
     ]
    }
   ],
   "source": [
    "res = optimize.root_scalar(evaluate_equilibrium,bracket=[left,right],method='bisect',args=(par,))\n",
    "w = res.root\n",
    "print(f'the equilibrium wage is {w:.4f}')"
   ]
  },
  {
   "cell_type": "markdown",
   "metadata": {},
   "source": [
    "**Show details:**"
   ]
  },
  {
   "cell_type": "code",
   "execution_count": 13,
   "metadata": {},
   "outputs": [
    {
     "name": "stdout",
     "output_type": "stream",
     "text": [
      "workers      : c = 0.0088, l = 0.0308, u = -2.2721\n",
      "capitalists  : c = 0.8731, l = 0.0004, u = -0.0274\n",
      "goods market : 0.00000004\n",
      "labor market : 0.00000013\n"
     ]
    }
   ],
   "source": [
    "evaluate_equilibrium(w,par,do_print=True)"
   ]
  },
  {
   "cell_type": "markdown",
   "metadata": {},
   "source": [
    "**Check I:** Does both markets clear?\n",
    "\n",
    "**Check II:** Can we multiply both prices with the same factor? I.e. can we change the numeraire?"
   ]
  },
  {
   "cell_type": "code",
   "execution_count": 14,
   "metadata": {},
   "outputs": [
    {
     "name": "stdout",
     "output_type": "stream",
     "text": [
      "workers      : c = 0.0088, l = 0.0308, u = -2.2721\n",
      "capitalists  : c = 0.8731, l = 0.0004, u = -0.0274\n",
      "goods market : -0.00000240\n",
      "labor market : -0.00000840\n"
     ]
    }
   ],
   "source": [
    "fac = 100\n",
    "p_ = fac*1.0 \n",
    "w_ = fac*w\n",
    "evaluate_equilibrium(w_,par,p=p_,do_print=True)"
   ]
  },
  {
   "cell_type": "markdown",
   "metadata": {},
   "source": [
    "## 2. <a id='toc2_'></a>[Experiments](#toc0_)"
   ]
  },
  {
   "cell_type": "markdown",
   "metadata": {},
   "source": [
    "It is easy to extend this model in many directions: \n",
    "\n",
    "1. Should workers and capitalists have different tastes or producitvity?\n",
    "1. Should there be government redistribution?\n",
    "2. Other ideas?"
   ]
  },
  {
   "cell_type": "markdown",
   "metadata": {},
   "source": [
    "## 3. <a id='toc3_'></a>[Using a class](#toc0_)"
   ]
  },
  {
   "cell_type": "code",
   "execution_count": 15,
   "metadata": {},
   "outputs": [],
   "source": [
    "from ProductionEconomy import ProductionEconomyClass"
   ]
  },
  {
   "attachments": {},
   "cell_type": "markdown",
   "metadata": {},
   "source": [
    "**Look at `ProductionEconomy.py`:** Same code, but written as a class! "
   ]
  },
  {
   "cell_type": "code",
   "execution_count": 16,
   "metadata": {},
   "outputs": [
    {
     "name": "stdout",
     "output_type": "stream",
     "text": [
      "0.1\n"
     ]
    }
   ],
   "source": [
    "model = ProductionEconomyClass()\n",
    "print(model.par.kappa)"
   ]
  },
  {
   "cell_type": "code",
   "execution_count": 17,
   "metadata": {},
   "outputs": [
    {
     "name": "stdout",
     "output_type": "stream",
     "text": [
      "grid search:\n",
      " w = 0.10 ->  -2.45597063\n",
      " w = 0.26 ->  -0.33115179\n",
      " w = 0.41 ->   1.47824268\n",
      " w = 0.57 ->   3.60037473\n",
      " w = 0.72 ->   5.89988125\n",
      " w = 0.88 ->   8.29317023\n",
      " w = 1.03 ->  10.74049294\n",
      " w = 1.19 ->  13.22157416\n",
      " w = 1.34 ->  15.72439188\n",
      " w = 1.50 ->  18.24150339\n",
      "\n",
      "equilibrium price must be in [0.26,0.41]\n",
      "\n",
      "the equilibrium wage is 0.2864\n",
      "\n",
      "workers      : c = 0.0088, l = 0.0308, u = -2.2721\n",
      "capitalists  : c = 0.8731, l = 0.0004, u = -0.0274\n",
      "goods market : 0.00000004\n",
      "labor market : 0.00000013\n"
     ]
    }
   ],
   "source": [
    "model.find_equilibrium()"
   ]
  },
  {
   "cell_type": "markdown",
   "metadata": {},
   "source": [
    "**Benefit I:** Fewer inputs and outputs, less risk of wrong ordering."
   ]
  },
  {
   "cell_type": "markdown",
   "metadata": {},
   "source": [
    "**Benefit II of class-based solution:** Easy access to all data.\n",
    "E.g. capitalists share of total consumption."
   ]
  },
  {
   "cell_type": "code",
   "execution_count": 18,
   "metadata": {},
   "outputs": [
    {
     "name": "stdout",
     "output_type": "stream",
     "text": [
      "capitalists share of total consumption is: 0.50\n"
     ]
    }
   ],
   "source": [
    "C_w = model.par.Nw*model.sol.c_w_star\n",
    "C_c = model.par.Nc*model.sol.c_c_star\n",
    "print(f'capitalists share of total consumption is: {C_c/(C_c+C_w):.2f}')"
   ]
  },
  {
   "cell_type": "markdown",
   "metadata": {},
   "source": [
    "**Benefit III of class-based solution:** Easy to experiment with different parameters."
   ]
  },
  {
   "cell_type": "code",
   "execution_count": 19,
   "metadata": {},
   "outputs": [
    {
     "name": "stdout",
     "output_type": "stream",
     "text": [
      "grid search:\n",
      " w = 0.10 ->  -0.93720172\n",
      " w = 0.26 ->   3.11578788\n",
      " w = 0.41 ->   6.01856761\n",
      " w = 0.57 ->   8.72067391\n",
      " w = 0.72 ->  11.35650742\n",
      " w = 0.88 ->  13.96702518\n",
      " w = 1.03 ->  16.56693675\n",
      " w = 1.19 ->  19.16044548\n",
      " w = 1.34 ->  21.74865061\n",
      " w = 1.50 ->  24.33227156\n",
      "\n",
      "equilibrium price must be in [0.10,0.26]\n",
      "\n",
      "the equilibrium wage is 0.1260\n",
      "\n",
      "workers      : c = 0.0200, l = 0.1592, u = -4.4959\n",
      "capitalists  : c = 1.9848, l = 0.0000, u =  0.6860\n",
      "goods market : 0.00000037\n",
      "labor market : 0.00000291\n"
     ]
    }
   ],
   "source": [
    "model.par.kappa = model.par.kappa/100 # lower kappa\n",
    "model.find_equilibrium()"
   ]
  },
  {
   "cell_type": "code",
   "execution_count": 20,
   "metadata": {},
   "outputs": [
    {
     "name": "stdout",
     "output_type": "stream",
     "text": [
      "p                    =   1.00\n",
      "w                    =   0.13\n",
      "l_star               =  15.76\n",
      "y_star               =   3.97\n",
      "Pi                   =   1.98\n",
      "pi                   =   1.98\n",
      "l_w_star             =   0.16\n",
      "c_w_star             =   0.02\n",
      "l_c_star             =   0.00\n",
      "c_c_star             =   1.98\n",
      "goods_mkt_clearing   =   0.00\n",
      "labor_mkt_clearing   =   0.00\n"
     ]
    }
   ],
   "source": [
    "for k,v in model.sol.__dict__.items():\n",
    "    print(f'{k:20s} = {v:6.2f}')"
   ]
  }
 ],
 "metadata": {
  "kernelspec": {
   "display_name": "base",
   "language": "python",
   "name": "python3"
  },
  "language_info": {
   "codemirror_mode": {
    "name": "ipython",
    "version": 3
   },
   "file_extension": ".py",
   "mimetype": "text/x-python",
   "name": "python",
   "nbconvert_exporter": "python",
   "pygments_lexer": "ipython3",
   "version": "3.9.16"
  },
  "toc-autonumbering": true,
  "vscode": {
   "interpreter": {
    "hash": "47ef90cdf3004d3f859f1fb202523c65c07ba7c22eefd261b181f4744e2d0403"
   }
  }
 },
 "nbformat": 4,
 "nbformat_minor": 4
}
