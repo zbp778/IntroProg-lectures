{
 "cells": [
  {
   "cell_type": "markdown",
   "metadata": {},
   "source": [
    "# Ramsey model"
   ]
  },
  {
   "cell_type": "markdown",
   "metadata": {},
   "source": [
    "**Table of contents**<a id='toc0_'></a>    \n",
    "- 1. [Model descripton](#toc1_)    \n",
    "- 2. [Solution](#toc2_)    \n",
    "- 3. [Comparison with scipy solution](#toc3_)    \n",
    "- 4. [Persistent technology shock](#toc4_)    \n",
    "- 5. [Future persistent technology shock](#toc5_)    \n",
    "- 6. [Potential analysis and extension](#toc6_)    \n",
    "\n",
    "<!-- vscode-jupyter-toc-config\n",
    "\tnumbering=true\n",
    "\tanchor=true\n",
    "\tflat=false\n",
    "\tminLevel=2\n",
    "\tmaxLevel=6\n",
    "\t/vscode-jupyter-toc-config -->\n",
    "<!-- THIS CELL WILL BE REPLACED ON TOC UPDATE. DO NOT WRITE YOUR TEXT IN THIS CELL -->"
   ]
  },
  {
   "attachments": {},
   "cell_type": "markdown",
   "metadata": {},
   "source": [
    "You will learn how to solve the **Ramsey model**.<br>\n",
    "... also called the Ramsey-Cass-Koopman model."
   ]
  },
  {
   "cell_type": "code",
   "execution_count": 11,
   "metadata": {},
   "outputs": [
    {
     "name": "stdout",
     "output_type": "stream",
     "text": [
      "The autoreload extension is already loaded. To reload it, use:\n",
      "  %reload_ext autoreload\n"
     ]
    }
   ],
   "source": [
    "%load_ext autoreload\n",
    "%autoreload 2\n",
    "\n",
    "import numpy as np\n",
    "from scipy import optimize\n",
    "\n",
    "# plotting\n",
    "import matplotlib.pyplot as plt\n",
    "plt.rcParams.update({\"axes.grid\":True,\"grid.color\":\"black\",\"grid.alpha\":\"0.25\",\"grid.linestyle\":\"--\"})\n",
    "plt.rcParams.update({'font.size': 14})\n",
    "\n",
    "from RamseyModel import RamseyModelClass"
   ]
  },
  {
   "attachments": {},
   "cell_type": "markdown",
   "metadata": {},
   "source": [
    "## 1. <a id='toc1_'></a>[Model descripton](#toc0_)"
   ]
  },
  {
   "cell_type": "markdown",
   "metadata": {},
   "source": [
    "**Time:** Discrete and indexed by $t\\in\\{0,1,\\dots\\}$."
   ]
  },
  {
   "cell_type": "markdown",
   "metadata": {},
   "source": [
    "**Demographics::** Population is constant. Everybody lives forever."
   ]
  },
  {
   "cell_type": "markdown",
   "metadata": {},
   "source": [
    "**Household:** Households supply labor exogenously, $L_{t}=1$, and earns a wage $w_{t}$. The return on saving is $r_{t+1}$. Utility is \n",
    "\n",
    "$$\n",
    "\\begin{aligned}\n",
    "U & =\\max_{\\{C_{t}\\}_{t=0}^{\\infty}}\\sum_{t=0}^{\\infty}\\beta^{t}\\frac{C_{t}^{1-\\sigma}}{1-\\sigma},\\beta\\in(0,1),\\sigma>0\\\\\n",
    " & \\text{s.t.}\\\\\n",
    " & M_{t}=(1+r_{t})N_{t-1}+w_{t}\\\\\n",
    " & N_{t}=M_{t}-C_{t}\n",
    "\\end{aligned}\n",
    "$$\n",
    "\n",
    "where $M_{t}$ is cash-on-hand and $N_{t}$ is end-of-period assets."
   ]
  },
  {
   "cell_type": "markdown",
   "metadata": {},
   "source": [
    "**Firms:** Firms rent capital $K_{t-1}$ at the rental rate $r_{t}^{K}$\n",
    "and hires labor $E_{t}$ at the wage rate $w_{t}$. Firms have access\n",
    "to the production function\n",
    "    \n",
    "$$\n",
    "\\begin{aligned}\n",
    "Y_{t}= F(K_{t-1},E_{t})=A_t(\\alpha K_{t-1}^{-\\theta}+(1-\\alpha)E_{t}^{-\\theta})^{\\frac{1}{-\\theta}},\\,\\,\\,\\theta>-1,\\alpha\\in(0,1),A_t>0\n",
    "\\end{aligned}\n",
    "$$\n",
    "\n",
    "Profits are\n",
    "\n",
    "$$\n",
    "\\begin{aligned}\n",
    "\\Pi_{t}=Y_{t}-w_{t}E_{t}-r_{t}^{K}K_{t-1}\n",
    "\\end{aligned}\n",
    "$$"
   ]
  },
  {
   "cell_type": "markdown",
   "metadata": {},
   "source": [
    "**Equilibrium:**\n",
    "\n",
    "1. Households maximize utility\n",
    "2. Firms maximize profits\n",
    "3. Labor market clear: $E_{t}=L_{t}=1$\n",
    "4. Goods market clear: $Y_{t}=C_{t}+I_{t}$\n",
    "5. Asset market clear: $N_{t}=K_{t}$ and $r_{t}=r_{t}^{k}-\\delta$\n",
    "6. Capital follows its law of motion: $K_{t}=(1-\\delta)K_{t-1}+I_{t}$\n",
    "\n",
    "**Implication of profit maximization:** From FOCs\n",
    "\n",
    "$$\n",
    "\\begin{aligned}\n",
    "r_{t}^{k} & = F_{K}(K_{t-1},E_{t})=A_t \\alpha K_{t-1}^{-\\theta-1}Y_{t}^{-1}\\\\\n",
    "w_{t} & = F_{E}(K_{t-1},E_{t})=A_t (1-\\alpha)E_{t}^{-\\theta-1}Y_{t}^{-1}\n",
    "\\end{aligned}\n",
    "$$\n",
    "\n",
    "**Implication of utility maximization:** From FOCs\n",
    "\n",
    "$$\n",
    "\\begin{aligned}\n",
    "C_{t}^{-\\sigma}=\\beta(1+r_{t+1})C_{t+1}^{-\\sigma}\n",
    "\\end{aligned}\n",
    "$$"
   ]
  },
  {
   "cell_type": "markdown",
   "metadata": {},
   "source": [
    "**Solution algorithm:** \n",
    "\n",
    "We can summarize the model in the **non-linear equation system**\n",
    "\n",
    "$$\n",
    "\\begin{aligned}\n",
    "\\boldsymbol{H}(\\boldsymbol{K},\\boldsymbol{C},K_{-1})=\\left[\\begin{array}{c}\n",
    "H_{0}\\\\\n",
    "H_{1}\\\\\n",
    "\\begin{array}{c}\n",
    "\\vdots\\end{array}\n",
    "\\end{array}\\right]=\\left[\\begin{array}{c}\n",
    "0\\\\\n",
    "0\\\\\n",
    "\\begin{array}{c}\n",
    "\\vdots\\end{array}\n",
    "\\end{array}\\right]\n",
    "\\end{aligned}\n",
    "$$\n",
    "\n",
    "where $\\boldsymbol{K} = [K_0,K_1\\dots]$, $\\boldsymbol{C} = [C_0,C_1\\dots]$, and\n",
    "\n",
    "$$\n",
    "\\begin{aligned}\n",
    "H_{t}\n",
    "=\\left[\\begin{array}{c}\n",
    "C_{t}^{-\\sigma}-\\beta(1+r_{t+1})C_{t+1}^{-\\sigma}\\\\\n",
    "K_{t}-[(1-\\delta)K_{t-1}+Y_t-C_{t}]\n",
    "\\end{array}\\right]\n",
    "=\\left[\\begin{array}{c}\n",
    "C_{t}^{-\\sigma}-\\beta(1+F_{K}(K_{t},1))C_{t+1}^{-\\sigma}\\\\\n",
    "K_{t}-[(1-\\delta)K_{t-1} + F(K_{t-1},1)-C_{t}])\n",
    "\\end{array}\\right]\n",
    "\\end{aligned}\n",
    "$$\n",
    "\n",
    "**Path:** We refer to $\\boldsymbol{K}$ and $\\boldsymbol{C}$ as *transition paths*."
   ]
  },
  {
   "cell_type": "markdown",
   "metadata": {},
   "source": [
    "**Implementation:** We solve this equation system in **two steps**:\n",
    "\n",
    "1. Assume all variables are in steady  state after some **truncation horizon**.\n",
    "1. Calculate the numerical **jacobian** of $\\boldsymbol{H}$ wrt. $\\boldsymbol{K}$\n",
    "and $\\boldsymbol{C}$ around the steady state\n",
    "2. Solve the equation system using a **hand-written Broyden-solver**\n",
    "\n",
    "**Note:** The equation system can also be solved directly using `scipy.optimize.root`.\n",
    "\n",
    "**Remember:** The jacobian is just a gradient. I.e. the matrix of what the implied errors are in $\\boldsymbol{H}$ when a *single* $K_t$ or $C_t$ change."
   ]
  },
  {
   "cell_type": "markdown",
   "metadata": {},
   "source": [
    "## 2. <a id='toc2_'></a>[Solution](#toc0_)"
   ]
  },
  {
   "cell_type": "code",
   "execution_count": 12,
   "metadata": {},
   "outputs": [
    {
     "name": "stdout",
     "output_type": "stream",
     "text": [
      "initializing the model:\n",
      "calling .setup()\n",
      "calling .allocate()\n"
     ]
    }
   ],
   "source": [
    "model = RamseyModelClass()\n",
    "par = model.par\n",
    "ss = model.ss\n",
    "path = model.path"
   ]
  },
  {
   "cell_type": "markdown",
   "metadata": {},
   "source": [
    "**Find steady state:** \n",
    "\n",
    "1. Target steady-state capital-output ratio, $K_{ss}/Y_{ss}$ of 4.0.\n",
    "2. Force steady-state output $Y_{ss} = 1$.\n",
    "3. Adjust $\\beta$ and $A_{ss}$ to achieve this."
   ]
  },
  {
   "cell_type": "code",
   "execution_count": 13,
   "metadata": {},
   "outputs": [
    {
     "name": "stdout",
     "output_type": "stream",
     "text": [
      "Y_ss = 1.0000\n",
      "K_ss/Y_ss = 4.0000\n",
      "rk_ss = 0.0750\n",
      "r_ss = 0.0250\n",
      "w_ss = 0.7000\n",
      "A = 0.6598\n",
      "beta = 0.9756\n"
     ]
    }
   ],
   "source": [
    "model.find_steady_state(KY_ss=4.0)"
   ]
  },
  {
   "cell_type": "markdown",
   "metadata": {},
   "source": [
    "**Test that errors and the path are 0:**"
   ]
  },
  {
   "cell_type": "code",
   "execution_count": 14,
   "metadata": {},
   "outputs": [],
   "source": [
    "# a. set initial value\n",
    "par.K_lag_ini = ss.K\n",
    "\n",
    "# b. set path\n",
    "path.A[:] = ss.A\n",
    "path.C[:] = ss.C\n",
    "path.K[:] = ss.K\n",
    "\n",
    "# c. check errors\n",
    "errors_ss = model.evaluate_path_errors()\n",
    "assert np.allclose(errors_ss,0.0)"
   ]
  },
  {
   "cell_type": "code",
   "execution_count": 15,
   "metadata": {},
   "outputs": [],
   "source": [
    "model.calculate_jacobian()"
   ]
  },
  {
   "cell_type": "markdown",
   "metadata": {},
   "source": [
    "**Solve:**"
   ]
  },
  {
   "cell_type": "code",
   "execution_count": 16,
   "metadata": {},
   "outputs": [
    {
     "name": "stdout",
     "output_type": "stream",
     "text": [
      " it =   0 -> max. abs. error =   2.08774760\n",
      " it =   1 -> max. abs. error =   0.03407048\n",
      " it =   2 -> max. abs. error =   0.04084472\n",
      " it =   3 -> max. abs. error =   0.00495803\n",
      " it =   4 -> max. abs. error =   0.01354190\n",
      " it =   5 -> max. abs. error =   0.01209108\n",
      " it =   6 -> max. abs. error =   0.00397825\n",
      " it =   7 -> max. abs. error =   0.00192043\n",
      " it =   8 -> max. abs. error =   0.00097483\n",
      " it =   9 -> max. abs. error =   0.00009018\n",
      " it =  10 -> max. abs. error =   0.00010485\n",
      " it =  11 -> max. abs. error =   0.00000476\n",
      " it =  12 -> max. abs. error =   0.00000737\n",
      " it =  13 -> max. abs. error =   0.00000045\n",
      " it =  14 -> max. abs. error =   0.00000038\n",
      " it =  15 -> max. abs. error =   0.00000002\n",
      " it =  16 -> max. abs. error =   0.00000002\n",
      " it =  17 -> max. abs. error =   0.00000000\n"
     ]
    }
   ],
   "source": [
    "par.K_lag_ini = 0.50*ss.K # start away from steady state\n",
    "model.solve() # find transition path"
   ]
  },
  {
   "cell_type": "code",
   "execution_count": 17,
   "metadata": {},
   "outputs": [
    {
     "data": {
      "image/png": "[encoded data removed]",
      "text/plain": [
       "<Figure size 432x288 with 1 Axes>"
      ]
     },
     "metadata": {
      "needs_background": "light"
     },
     "output_type": "display_data"
    }
   ],
   "source": [
    "fig = plt.figure(figsize=(6,6/1.5))\n",
    "ax = fig.add_subplot(1,1,1)\n",
    "ax.plot(path.K_lag,label=r'$K_{t-1}$')\n",
    "ax.legend(frameon=True)\n",
    "fig.tight_layout()"
   ]
  },
  {
   "cell_type": "markdown",
   "metadata": {},
   "source": [
    "## 3. <a id='toc3_'></a>[Comparison with scipy solution](#toc0_)"
   ]
  },
  {
   "cell_type": "markdown",
   "metadata": {},
   "source": [
    "**Note:** scipy computes the jacobian internally"
   ]
  },
  {
   "cell_type": "code",
   "execution_count": 18,
   "metadata": {},
   "outputs": [
    {
     "name": "stdout",
     "output_type": "stream",
     "text": [
      "initializing the model:\n",
      "calling .setup()\n",
      "calling .allocate()\n",
      "Y_ss = 1.0000\n",
      "K_ss/Y_ss = 4.0000\n",
      "rk_ss = 0.0750\n",
      "r_ss = 0.0250\n",
      "w_ss = 0.7000\n",
      "A = 0.6598\n",
      "beta = 0.9756\n"
     ]
    }
   ],
   "source": [
    "model_scipy = RamseyModelClass()\n",
    "model_scipy.par.solver = 'scipy'\n",
    "model_scipy.find_steady_state(KY_ss=4.0)\n",
    "model_scipy.par.K_lag_ini = 0.50*model_scipy.ss.K\n",
    "model_scipy.path.A[:] = model_scipy.ss.A\n",
    "model_scipy.solve()"
   ]
  },
  {
   "cell_type": "code",
   "execution_count": 19,
   "metadata": {},
   "outputs": [
    {
     "data": {
      "image/png": "[encoded data removed]",
      "text/plain": [
       "<Figure size 432x288 with 1 Axes>"
      ]
     },
     "metadata": {
      "needs_background": "light"
     },
     "output_type": "display_data"
    }
   ],
   "source": [
    "fig = plt.figure(figsize=(6,6/1.5))\n",
    "ax = fig.add_subplot(1,1,1)\n",
    "ax.plot(path.K_lag,label=r'$K_{t-1}$, broyden')\n",
    "ax.plot(model_scipy.path.K_lag,ls='--',label=r'$K_{t-1}$, scipy')\n",
    "ax.legend(frameon=True)\n",
    "fig.tight_layout()"
   ]
  },
  {
   "cell_type": "markdown",
   "metadata": {},
   "source": [
    "## 4. <a id='toc4_'></a>[Persistent technology shock](#toc0_)"
   ]
  },
  {
   "cell_type": "markdown",
   "metadata": {},
   "source": [
    "**Shock:**"
   ]
  },
  {
   "cell_type": "code",
   "execution_count": 20,
   "metadata": {},
   "outputs": [],
   "source": [
    "par.K_lag_ini = ss.K # start from steady state\n",
    "path.A[:] = 0.95**np.arange(par.Tpath)*0.1*ss.A + ss.A # shock path"
   ]
  },
  {
   "cell_type": "markdown",
   "metadata": {},
   "source": [
    "**Terminology:** This is called an MIT-shock. Households do not expect shocks. Know the full path of the shock when it arrives. Continue to believe no future shocks will happen."
   ]
  },
  {
   "cell_type": "markdown",
   "metadata": {},
   "source": [
    "**Solve:**"
   ]
  },
  {
   "cell_type": "code",
   "execution_count": 21,
   "metadata": {},
   "outputs": [
    {
     "name": "stdout",
     "output_type": "stream",
     "text": [
      " it =   0 -> max. abs. error =   0.10000000\n",
      " it =   1 -> max. abs. error =   0.00096551\n",
      " it =   2 -> max. abs. error =   0.00004937\n",
      " it =   3 -> max. abs. error =   0.00000248\n",
      " it =   4 -> max. abs. error =   0.00000040\n",
      " it =   5 -> max. abs. error =   0.00000006\n",
      " it =   6 -> max. abs. error =   0.00000000\n"
     ]
    }
   ],
   "source": [
    "model.solve()"
   ]
  },
  {
   "cell_type": "code",
   "execution_count": 22,
   "metadata": {},
   "outputs": [
    {
     "data": {
      "image/png": "[encoded data removed]",
      "text/plain": [
       "<Figure size 864x288 with 2 Axes>"
      ]
     },
     "metadata": {
      "needs_background": "light"
     },
     "output_type": "display_data"
    }
   ],
   "source": [
    "fig = plt.figure(figsize=(2*6,6/1.5))\n",
    "\n",
    "ax = fig.add_subplot(1,2,1)\n",
    "ax.set_title('Capital, $K_{t-1}$')\n",
    "ax.plot(path.K_lag)\n",
    "\n",
    "ax = fig.add_subplot(1,2,2)\n",
    "ax.plot(path.A)\n",
    "ax.set_title('Technology, $A_t$')\n",
    "\n",
    "fig.tight_layout()"
   ]
  },
  {
   "cell_type": "markdown",
   "metadata": {},
   "source": [
    "**Question:** Could a much more persistent shock be problematic?"
   ]
  },
  {
   "cell_type": "markdown",
   "metadata": {},
   "source": [
    "## 5. <a id='toc5_'></a>[Future persistent technology shock](#toc0_)"
   ]
  },
  {
   "cell_type": "markdown",
   "metadata": {},
   "source": [
    "**Shock happing after period $H$:**"
   ]
  },
  {
   "cell_type": "code",
   "execution_count": 23,
   "metadata": {},
   "outputs": [],
   "source": [
    "par.K_lag_ini = ss.K # start from steady state\n",
    "\n",
    "# shock\n",
    "H = 50\n",
    "path.A[:] = ss.A\n",
    "path.A[H:] = 0.95**np.arange(par.Tpath-H)*0.1*ss.A + ss.A"
   ]
  },
  {
   "cell_type": "markdown",
   "metadata": {},
   "source": [
    "**Solve:**"
   ]
  },
  {
   "cell_type": "code",
   "execution_count": 24,
   "metadata": {},
   "outputs": [
    {
     "name": "stdout",
     "output_type": "stream",
     "text": [
      " it =   0 -> max. abs. error =   0.10000000\n",
      " it =   1 -> max. abs. error =   0.00267237\n",
      " it =   2 -> max. abs. error =   0.00015130\n",
      " it =   3 -> max. abs. error =   0.00000241\n",
      " it =   4 -> max. abs. error =   0.00000025\n",
      " it =   5 -> max. abs. error =   0.00000002\n",
      " it =   6 -> max. abs. error =   0.00000000\n"
     ]
    }
   ],
   "source": [
    "model.solve()"
   ]
  },
  {
   "cell_type": "code",
   "execution_count": 25,
   "metadata": {},
   "outputs": [
    {
     "data": {
      "image/png": "[encoded data removed]",
      "text/plain": [
       "<Figure size 864x288 with 2 Axes>"
      ]
     },
     "metadata": {
      "needs_background": "light"
     },
     "output_type": "display_data"
    }
   ],
   "source": [
    "fig = plt.figure(figsize=(2*6,6/1.5))\n",
    "\n",
    "ax = fig.add_subplot(1,2,1)\n",
    "ax.set_title('Capital, $K_{t-1}$')\n",
    "ax.plot(path.K_lag)\n",
    "\n",
    "ax = fig.add_subplot(1,2,2)\n",
    "ax.plot(path.A)\n",
    "ax.set_title('Technology, $A_t$')\n",
    "\n",
    "fig.tight_layout()"
   ]
  },
  {
   "cell_type": "code",
   "execution_count": 26,
   "metadata": {},
   "outputs": [
    {
     "name": "stdout",
     "output_type": "stream",
     "text": [
      " it =   0 -> max. abs. error =   0.05301739\n",
      " it =   1 -> max. abs. error =   0.00001569\n",
      " it =   2 -> max. abs. error =   0.00000010\n",
      " it =   3 -> max. abs. error =   0.00000000\n"
     ]
    }
   ],
   "source": [
    "par.K_lag_ini = path.K[30]\n",
    "path.A[:] = ss.A\n",
    "model.solve()"
   ]
  },
  {
   "cell_type": "markdown",
   "metadata": {},
   "source": [
    "**Take-away:** Households are forward looking and responds before the shock hits."
   ]
  },
  {
   "cell_type": "markdown",
   "metadata": {},
   "source": [
    "## 6. <a id='toc6_'></a>[Potential analysis and extension](#toc0_)"
   ]
  },
  {
   "cell_type": "markdown",
   "metadata": {},
   "source": [
    "**Potential analysis:**\n",
    "\n",
    "1. Different shocks (e.g. discount factor)\n",
    "2. Multiple shocks\n",
    "3. Permanent shocks ($\\rightarrow$ convergence to new steady state)\n",
    "4. Transition speed"
   ]
  },
  {
   "cell_type": "markdown",
   "metadata": {},
   "source": [
    "**Extensions:**\n",
    "\n",
    "1. Add a government and taxation\n",
    "2. Endogenous labor supply\n",
    "3. Additional assets (e.g. housing)\n",
    "4. Add nominal rigidities (New Keynesian)"
   ]
  },
  {
   "attachments": {},
   "cell_type": "markdown",
   "metadata": {},
   "source": [
    "## Further perspectives"
   ]
  },
  {
   "attachments": {},
   "cell_type": "markdown",
   "metadata": {},
   "source": [
    "**The next steps beyond this course:** \n",
    "\n",
    "1. The **Bewley-Huggett-Aiyagari** model. A multi-period OLG model or Ramsey model with households making decisions *under uncertainty and borrowing constraints* as in lecture 11 under \"dynamic optimization\". Such heterogenous agent models are used in state-of-the-art research, see [Quantitative Macroeconomics with Heterogeneous Households](https://www.annualreviews.org/doi/abs/10.1146/annurev.economics.050708.142922). \n",
    "\n",
    "2. Further adding nominal rigidities this is called a **Heterogenous Agent New Keynesian (HANK)** model.\n",
    "\n",
    "3. This extends the **Representative Agent New Keynesian (RANK)** model, which itself is a Ramsey model extended with nominal rigidities. \n",
    "\n",
    "4. The final frontier is including **aggregate risk**, which either requires linearization or using a **Krussell-Smith method**. Solving the model in *sequence-space* as we did with the Ramsey model is a frontier method (see [here](https://github.com/shade-econ/sequence-jacobian/#sequence-space-jacobian)).\n",
    "\n",
    "\n",
    "\n"
   ]
  }
 ],
 "metadata": {
  "kernelspec": {
   "display_name": "base",
   "language": "python",
   "name": "python3"
  },
  "language_info": {
   "codemirror_mode": {
    "name": "ipython",
    "version": 3
   },
   "file_extension": ".py",
   "mimetype": "text/x-python",
   "name": "python",
   "nbconvert_exporter": "python",
   "pygments_lexer": "ipython3",
   "version": "3.9.10"
  },
  "toc-autonumbering": true,
  "vscode": {
   "interpreter": {
    "hash": "47ef90cdf3004d3f859f1fb202523c65c07ba7c22eefd261b181f4744e2d0403"
   }
  }
 },
 "nbformat": 4,
 "nbformat_minor": 4
}
