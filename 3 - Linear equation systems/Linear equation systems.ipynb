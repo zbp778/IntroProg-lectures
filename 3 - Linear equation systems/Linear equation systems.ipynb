{
 "cells": [
  {
   "cell_type": "markdown",
   "metadata": {},
   "source": [
    "# Linear equation systems"
   ]
  },
  {
   "cell_type": "markdown",
   "metadata": {},
   "source": [
    "**Table of contents**<a id='toc0_'></a>    \n",
    "- 1. [Introduction](#toc1_)    \n",
    "- 2. [Matrix equations](#toc2_)    \n",
    "- 3. [Various other matrix operations](#toc3_)    \n",
    "- 4. [Gauss-Jordan elimination (+)](#toc4_)    \n",
    "- 5. [Details on LU factorization (+)](#toc5_)    \n",
    "- 6. [Iterative Gauss-Seidel (+)](#toc6_)    \n",
    "- 7. [Sparse matrices (+)](#toc7_)    \n",
    "\n",
    "<!-- vscode-jupyter-toc-config\n",
    "\tnumbering=true\n",
    "\tanchor=true\n",
    "\tflat=false\n",
    "\tminLevel=2\n",
    "\tmaxLevel=6\n",
    "\t/vscode-jupyter-toc-config -->\n",
    "<!-- THIS CELL WILL BE REPLACED ON TOC UPDATE. DO NOT WRITE YOUR TEXT IN THIS CELL -->"
   ]
  },
  {
   "cell_type": "markdown",
   "metadata": {},
   "source": [
    "You will learn about working with matrices and linear algebra (**scipy.linalg**), including solving systems of linear equations."
   ]
  },
  {
   "attachments": {},
   "cell_type": "markdown",
   "metadata": {},
   "source": [
    "**scipy.linalg:** [overview](https://docs.scipy.org/doc/scipy/reference/linalg.html) + [tutorial](https://docs.scipy.org/doc/scipy/tutorial/linalg.html)"
   ]
  },
  {
   "cell_type": "code",
   "execution_count": 1,
   "metadata": {},
   "outputs": [],
   "source": [
    "import numpy as np\n",
    "import matplotlib.pyplot as plt\n",
    "plt.rcParams.update({\"axes.grid\":True,\"grid.color\":\"black\",\"grid.alpha\":\"0.25\",\"grid.linestyle\":\"--\"})\n",
    "plt.rcParams.update({'font.size': 14})\n",
    "\n",
    "import time\n",
    "from scipy import linalg\n",
    "\n",
    "# local module for linear algebra\n",
    "%load_ext autoreload\n",
    "%autoreload 2\n",
    "import local_linalg"
   ]
  },
  {
   "cell_type": "markdown",
   "metadata": {},
   "source": [
    "## 1. <a id='toc1_'></a>[Introduction](#toc0_)"
   ]
  },
  {
   "cell_type": "markdown",
   "metadata": {},
   "source": [
    "A lot of economic models can be expressed as system of equations. Question is how to solve them?\n",
    "\n",
    "As a very easy example, just think of the market equilibrium when you have a supply curve and a demand curve.\n",
    "\n",
    "Consider a market, where suppliers have a **supply curve**\n",
    "$$\n",
    "q = 5 + \\frac{1}{3}p\n",
    "$$\n",
    "and consumers have a **demand curve** \n",
    "$$\n",
    "q = 10 - 2p\n",
    "$$"
   ]
  },
  {
   "attachments": {},
   "cell_type": "markdown",
   "metadata": {},
   "source": [
    "This gives rise to a linear system of equations\n",
    "$$\n",
    "\\begin{align}\n",
    "q-\\frac{1}{3}p &= 5 \\\\\n",
    "q+2p &= 10 \\\\\n",
    "\\end{align}\n",
    "$$\n",
    "\n",
    "We can put this into matrix notation $Ax=b$ by\n",
    "$$\n",
    "\\begin{bmatrix} \n",
    "1 & -1/3 \\\\\n",
    "1 & 2 \\\\ \n",
    "\\end{bmatrix} \\cdot \n",
    "\\begin{bmatrix} \n",
    "q \\\\ \n",
    "p \\\\ \n",
    "\\end{bmatrix} = \n",
    "\\begin{bmatrix} \n",
    "5 \\\\ \n",
    "10 \\\\\n",
    "\\end{bmatrix}\n",
    "$$\n",
    "\n",
    "**Solving** for the equilibrium $x = [q,p]$ means solving for $x$ in $Ax=b \\Leftrightarrow x = A^{-1}b$.  "
   ]
  },
  {
   "cell_type": "code",
   "execution_count": 2,
   "metadata": {},
   "outputs": [
    {
     "name": "stdout",
     "output_type": "stream",
     "text": [
      "[5.71428571 2.14285714]\n"
     ]
    }
   ],
   "source": [
    "A = np.array([[1.0,-1.0/3.0],[1.0,2.0]])\n",
    "b = np.array([5.0,10.0])\n",
    "\n",
    "Ainv = linalg.inv(A)\n",
    "sol = Ainv@b\n",
    "print(sol)"
   ]
  },
  {
   "attachments": {},
   "cell_type": "markdown",
   "metadata": {},
   "source": [
    "**Task:** Find the equilibrium if the demand surve instead was $q = 20 - 2p$."
   ]
  },
  {
   "cell_type": "code",
   "execution_count": 3,
   "metadata": {},
   "outputs": [
    {
     "name": "stdout",
     "output_type": "stream",
     "text": [
      "[7.14285714 6.42857143]\n"
     ]
    }
   ],
   "source": [
    "A = np.array([[1.0,-1.0/3.0],[1.0,2.0]])\n",
    "b = np.array([5.0,20.0])\n",
    "\n",
    "Ainv = linalg.inv(A)\n",
    "sol = Ainv@b\n",
    "print(sol)"
   ]
  },
  {
   "cell_type": "markdown",
   "metadata": {},
   "source": [
    "## 2. <a id='toc2_'></a>[Matrix equations](#toc0_)"
   ]
  },
  {
   "cell_type": "markdown",
   "metadata": {},
   "source": [
    "More generally, we consider **matrix equations** with $n$ equations and $n$ unknowns:\n",
    "\n",
    "$$\n",
    "\\begin{aligned}\n",
    "Ax = b \\Leftrightarrow\n",
    "\\begin{bmatrix}a_{11} & a_{12} & \\cdots & a_{1n}\\\\\n",
    "a_{21} & a_{22} & \\cdots & a_{2n}\\\\\n",
    "\\vdots & \\vdots & \\ddots & \\vdots\\\\\n",
    "a_{n1} & a_{n2} & \\cdots & a_{nn}\n",
    "\\end{bmatrix}\\begin{bmatrix}x_{1}\\\\\n",
    "x_{2}\\\\\n",
    "\\vdots\\\\\n",
    "x_{n}\n",
    "\\end{bmatrix} & = \\begin{bmatrix}b_{1}\\\\\n",
    "b_{2}\\\\\n",
    "\\vdots\\\\\n",
    "b_{n}\n",
    "\\end{bmatrix}\n",
    "\\end{aligned}\n",
    "$$\n",
    "\n",
    "where $A$ is a square parameter matrix, $b$ is a parameter vector, and $x$ is the vector of unknowns."
   ]
  },
  {
   "cell_type": "markdown",
   "metadata": {},
   "source": [
    "A specific **example** could be:\n",
    "\n",
    "$$ \n",
    "\\begin{aligned}\n",
    "Ax = b \\Leftrightarrow\n",
    "\\begin{bmatrix} \n",
    "3 & 2 & 0 \\\\ \n",
    "1 & -1 & 0 \\\\\n",
    "0 & 5 & 1\n",
    "\\end{bmatrix} \n",
    "\\begin{bmatrix} \n",
    "x_1 \\\\ \n",
    "x_2 \\\\\n",
    "x_3\n",
    "\\end{bmatrix} \\,=\\,\n",
    "\\begin{bmatrix} \n",
    "2 \\\\ \n",
    "4 \\\\\n",
    "-1\n",
    "\\end{bmatrix} \n",
    "\\end{aligned}\n",
    "$$"
   ]
  },
  {
   "cell_type": "markdown",
   "metadata": {},
   "source": [
    "**How to solve this?**"
   ]
  },
  {
   "cell_type": "code",
   "execution_count": 4,
   "metadata": {},
   "outputs": [],
   "source": [
    "A = np.array([[3.0, 2.0, 0.0], [1.0, -1.0, 0], [0.0, 5.0, 1.0]])\n",
    "b = np.array([2.0, 4.0, -1.0])"
   ]
  },
  {
   "attachments": {},
   "cell_type": "markdown",
   "metadata": {},
   "source": [
    "**Option 1:** Compute `.inv()` first and then solve."
   ]
  },
  {
   "cell_type": "code",
   "execution_count": 5,
   "metadata": {},
   "outputs": [
    {
     "name": "stdout",
     "output_type": "stream",
     "text": [
      "[ 2. -2.  9.]\n"
     ]
    }
   ],
   "source": [
    "x = linalg.inv(A)@b\n",
    "print(x)\n",
    "assert np.allclose(A@x,b)"
   ]
  },
  {
   "attachments": {},
   "cell_type": "markdown",
   "metadata": {},
   "source": [
    "**Note:** Computing the inverse is normally not a good idea due to numerical stability."
   ]
  },
  {
   "attachments": {},
   "cell_type": "markdown",
   "metadata": {},
   "source": [
    "**Option 2:** Use `.solve()` (scipy chooses what happens)."
   ]
  },
  {
   "cell_type": "code",
   "execution_count": 6,
   "metadata": {},
   "outputs": [
    {
     "name": "stdout",
     "output_type": "stream",
     "text": [
      "[ 2. -2.  9.]\n"
     ]
    }
   ],
   "source": [
    "x = linalg.solve(A,b)\n",
    "print(x)\n",
    "assert np.allclose(A@x,b)"
   ]
  },
  {
   "attachments": {},
   "cell_type": "markdown",
   "metadata": {},
   "source": [
    "**Example of better numerical properties:** $Hz=d$"
   ]
  },
  {
   "cell_type": "code",
   "execution_count": 7,
   "metadata": {},
   "outputs": [
    {
     "name": "stdout",
     "output_type": "stream",
     "text": [
      "error with linalg.inv:\n",
      "[ 2.17789784e-06 -4.10713255e-07  9.31322575e-10]\n",
      "\n",
      "error with linalg.solve:\n",
      "[-4.94648475e-07  4.94765118e-07  3.78349796e-10]\n"
     ]
    }
   ],
   "source": [
    "H = np.array([[1000, 999,998],[999, 998,997],[998,997,999]]) # \"bad\" matrix\n",
    "z = np.array([100,1000,10000]) # known answer\n",
    "d = H@z # implied right-hand side\n",
    "\n",
    "print('error with linalg.inv:')\n",
    "print(np.linalg.inv(H)@d-z)\n",
    "\n",
    "print('')\n",
    "\n",
    "print('error with linalg.solve:')\n",
    "print(np.linalg.solve(H,d)-z)\n"
   ]
  },
  {
   "cell_type": "markdown",
   "metadata": {},
   "source": [
    "**Option 3:** Compute LU decomposition and then solve."
   ]
  },
  {
   "cell_type": "code",
   "execution_count": 8,
   "metadata": {},
   "outputs": [
    {
     "name": "stdout",
     "output_type": "stream",
     "text": [
      "[ 2. -2.  9.]\n"
     ]
    }
   ],
   "source": [
    "LU,piv = linalg.lu_factor(A) # so-called LU decomposition (factorization)\n",
    "x = linalg.lu_solve((LU,piv),b)\n",
    "print(x)\n",
    "assert np.allclose(A@x,b)"
   ]
  },
  {
   "attachments": {},
   "cell_type": "markdown",
   "metadata": {},
   "source": [
    "**Note:** `linalg.lu_solve()` is the best choice when solving for multipe $b$'s for a fixed $A$ because the LU decomposition only needs to be done once."
   ]
  },
  {
   "attachments": {},
   "cell_type": "markdown",
   "metadata": {},
   "source": [
    "**Timings:**"
   ]
  },
  {
   "cell_type": "code",
   "execution_count": 9,
   "metadata": {},
   "outputs": [
    {
     "name": "stdout",
     "output_type": "stream",
     "text": [
      "67.9 µs ± 12.5 µs per loop (mean ± std. dev. of 7 runs, 10000 loops each)\n",
      "14.9 µs ± 1.36 µs per loop (mean ± std. dev. of 7 runs, 100000 loops each)\n",
      "14.8 µs ± 1.31 µs per loop (mean ± std. dev. of 7 runs, 100000 loops each)\n"
     ]
    }
   ],
   "source": [
    "%timeit linalg.solve(A,b)\n",
    "%timeit linalg.lu_factor(A)\n",
    "%timeit linalg.lu_solve((LU,piv),b)"
   ]
  },
  {
   "attachments": {},
   "cell_type": "markdown",
   "metadata": {},
   "source": [
    "**Task:** Complete the code below using first `linalg.solve` and then `linalg.lu_solve`."
   ]
  },
  {
   "cell_type": "code",
   "execution_count": 17,
   "metadata": {},
   "outputs": [
    {
     "name": "stdout",
     "output_type": "stream",
     "text": [
      "sucessfull\n"
     ]
    }
   ],
   "source": [
    "cs = [np.random.uniform(size=(3,)) for _ in range(10)]\n",
    "\n",
    "try:\n",
    "    for c in cs:\n",
    "        x = linalg.solve(A,c)\n",
    "        assert np.allclose(A@x,c), 'solution not correct'\n",
    "\n",
    "    print('sucessfull')\n",
    "\n",
    "except Exception as e:\n",
    "\n",
    "    print(f'not sucessfull, {e}')\n",
    "\n",
    "    "
   ]
  },
  {
   "cell_type": "code",
   "execution_count": 18,
   "metadata": {},
   "outputs": [
    {
     "name": "stdout",
     "output_type": "stream",
     "text": [
      "sucessfull\n"
     ]
    }
   ],
   "source": [
    "cs = [np.random.uniform(size=(3,)) for _ in range(10)]\n",
    "\n",
    "try:\n",
    "    LU,piv = linalg.lu_factor(A) # so-called LU decomposition (factorization)\n",
    "    for c in cs:\n",
    "        x = linalg.lu_solve((LU,piv),c)\n",
    "        assert np.allclose(A@x,c), 'solution not correct'\n",
    "\n",
    "    print('sucessfull')\n",
    "\n",
    "except Exception as e:\n",
    "\n",
    "    print(f'not sucessfull, {e}')"
   ]
  },
  {
   "cell_type": "markdown",
   "metadata": {},
   "source": [
    "## 3. <a id='toc3_'></a>[Various other matrix operations](#toc0_)"
   ]
  },
  {
   "cell_type": "code",
   "execution_count": 19,
   "metadata": {
    "tags": []
   },
   "outputs": [
    {
     "data": {
      "text/plain": [
       "array([[ 3.,  1.,  0.],\n",
       "       [ 2., -1.,  5.],\n",
       "       [ 0.,  0.,  1.]])"
      ]
     },
     "execution_count": 19,
     "metadata": {},
     "output_type": "execute_result"
    }
   ],
   "source": [
    "A.T # transpose"
   ]
  },
  {
   "cell_type": "code",
   "execution_count": 12,
   "metadata": {},
   "outputs": [
    {
     "data": {
      "text/plain": [
       "array([ 3., -1.,  1.])"
      ]
     },
     "execution_count": 12,
     "metadata": {},
     "output_type": "execute_result"
    }
   ],
   "source": [
    "np.diag(A) # diagonal"
   ]
  },
  {
   "cell_type": "code",
   "execution_count": 13,
   "metadata": {},
   "outputs": [
    {
     "name": "stdout",
     "output_type": "stream",
     "text": [
      "[[0. 2. 0.]\n",
      " [1. 0. 0.]\n",
      " [0. 5. 0.]]\n"
     ]
    }
   ],
   "source": [
    "B = A.copy()\n",
    "np.fill_diagonal(B,0) # fill diagonal with zeros\n",
    "print(B)"
   ]
  },
  {
   "cell_type": "code",
   "execution_count": 14,
   "metadata": {},
   "outputs": [
    {
     "data": {
      "text/plain": [
       "array([[1., 0., 0.],\n",
       "       [0., 1., 0.],\n",
       "       [0., 0., 1.]])"
      ]
     },
     "execution_count": 14,
     "metadata": {},
     "output_type": "execute_result"
    }
   ],
   "source": [
    "np.eye(3) # identity matrix"
   ]
  },
  {
   "cell_type": "code",
   "execution_count": 15,
   "metadata": {},
   "outputs": [
    {
     "data": {
      "text/plain": [
       "array([[ 3.,  0.,  0.],\n",
       "       [ 1., -1.,  0.],\n",
       "       [ 0.,  5.,  1.]])"
      ]
     },
     "execution_count": 15,
     "metadata": {},
     "output_type": "execute_result"
    }
   ],
   "source": [
    "np.tril(A) # lower triangular matrix"
   ]
  },
  {
   "cell_type": "code",
   "execution_count": 16,
   "metadata": {},
   "outputs": [
    {
     "data": {
      "text/plain": [
       "array([[ 3.,  2.,  0.],\n",
       "       [ 0., -1.,  0.],\n",
       "       [ 0.,  0.,  1.]])"
      ]
     },
     "execution_count": 16,
     "metadata": {},
     "output_type": "execute_result"
    }
   ],
   "source": [
    "np.triu(A) # upper triangular matrix"
   ]
  },
  {
   "cell_type": "code",
   "execution_count": 17,
   "metadata": {},
   "outputs": [
    {
     "data": {
      "text/plain": [
       "array([ 1.        +0.j, -1.44948974+0.j,  3.44948974+0.j])"
      ]
     },
     "execution_count": 17,
     "metadata": {},
     "output_type": "execute_result"
    }
   ],
   "source": [
    "linalg.eigvals(A) # eigen values"
   ]
  },
  {
   "attachments": {},
   "cell_type": "markdown",
   "metadata": {},
   "source": [
    "... and many more."
   ]
  },
  {
   "cell_type": "markdown",
   "metadata": {},
   "source": [
    "## 4. <a id='toc4_'></a>[Gauss-Jordan elimination (+)](#toc0_)"
   ]
  },
  {
   "attachments": {},
   "cell_type": "markdown",
   "metadata": {},
   "source": [
    "**How could the code for linalg.solve and linalg.inv be written?**"
   ]
  },
  {
   "cell_type": "markdown",
   "metadata": {},
   "source": [
    "Consider the column stacked matrix:\n",
    "\n",
    "$$\n",
    "X=[A\\,|\\,b]=\\begin{bmatrix}a_{11} & a_{12} & \\cdots & a_{1n} & b_{1}\\\\\n",
    "a_{21} & a_{22} & \\cdots & a_{2n} & b_{2}\\\\\n",
    "\\vdots & \\vdots & \\ddots & \\vdots & \\vdots\\\\\n",
    "a_{n1} & a_{n2} & \\cdots & a_{nn} & b_{n}\n",
    "\\end{bmatrix}\n",
    "$$"
   ]
  },
  {
   "cell_type": "markdown",
   "metadata": {},
   "source": [
    "Find the **row reduced echelon form** by performing row operations, i.e.\n",
    "\n",
    "1. Multiply row with constant\n",
    "2. Swap rows\n",
    "3. Add one row to another row,"
   ]
  },
  {
   "cell_type": "markdown",
   "metadata": {},
   "source": [
    "until the $A$ part of the matrix is the identity matrix."
   ]
  },
  {
   "cell_type": "markdown",
   "metadata": {},
   "source": [
    "**Manually:**"
   ]
  },
  {
   "attachments": {},
   "cell_type": "markdown",
   "metadata": {},
   "source": [
    "Stack:"
   ]
  },
  {
   "cell_type": "code",
   "execution_count": 20,
   "metadata": {},
   "outputs": [
    {
     "name": "stdout",
     "output_type": "stream",
     "text": [
      "[[ 3.  2.  0.  2.]\n",
      " [ 1. -1.  0.  4.]\n",
      " [ 0.  5.  1. -1.]]\n"
     ]
    }
   ],
   "source": [
    "X = np.column_stack((A,b))\n",
    "print(X)"
   ]
  },
  {
   "cell_type": "markdown",
   "metadata": {},
   "source": [
    "Find row reduced echelon form:"
   ]
  },
  {
   "cell_type": "code",
   "execution_count": 21,
   "metadata": {},
   "outputs": [
    {
     "name": "stdout",
     "output_type": "stream",
     "text": [
      "[[ 1.  0.  0.  2.]\n",
      " [-0.  1. -0. -2.]\n",
      " [ 0.  0.  1.  9.]]\n"
     ]
    }
   ],
   "source": [
    "X[0,:] += 2*X[1,:]\n",
    "X[0,:] /= 5.0\n",
    "X[1,:] -= X[0,:]\n",
    "X[1,:] *= -1\n",
    "X[2,:] -= 5*X[1,:]\n",
    "\n",
    "print(X)"
   ]
  },
  {
   "attachments": {},
   "cell_type": "markdown",
   "metadata": {},
   "source": [
    "Solution in last column:"
   ]
  },
  {
   "cell_type": "code",
   "execution_count": 22,
   "metadata": {},
   "outputs": [
    {
     "name": "stdout",
     "output_type": "stream",
     "text": [
      "[ 2. -2.  9.]\n"
     ]
    }
   ],
   "source": [
    "print(X[:,-1])\n",
    "assert np.allclose(A@X[:,-1],b)"
   ]
  },
  {
   "cell_type": "markdown",
   "metadata": {},
   "source": [
    "**General function:**"
   ]
  },
  {
   "cell_type": "code",
   "execution_count": 23,
   "metadata": {},
   "outputs": [
    {
     "name": "stdout",
     "output_type": "stream",
     "text": [
      "solution [ 2. -2.  9.]\n"
     ]
    }
   ],
   "source": [
    "Y = np.column_stack((A,b))\n",
    "local_linalg.gauss_jordan(Y)\n",
    "print('solution',Y[:,-1])"
   ]
  },
  {
   "cell_type": "markdown",
   "metadata": {},
   "source": [
    "which can also be used to find the inverse if we stack with the identity matrix instead,"
   ]
  },
  {
   "cell_type": "code",
   "execution_count": 28,
   "metadata": {},
   "outputs": [
    {
     "name": "stdout",
     "output_type": "stream",
     "text": [
      "stacked:\n",
      " [[ 3.  2.  0.  1.  0.  0.]\n",
      " [ 1. -1.  0.  0.  1.  0.]\n",
      " [ 0.  5.  1.  0.  0.  1.]]\n",
      "inverse:\n",
      " [[ 1.   0.   0.   0.2  0.4  0. ]\n",
      " [ 0.   1.   0.   0.2 -0.6  0. ]\n",
      " [ 0.   0.   1.  -1.   3.   1. ]]\n"
     ]
    }
   ],
   "source": [
    "# a. construct stacked matrix\n",
    "Z = np.hstack((A,np.eye(3)))\n",
    "print('stacked:\\n',Z)\n",
    "\n",
    "# b. apply gauss jordan elimination\n",
    "local_linalg.gauss_jordan(Z)\n",
    "\n",
    "# b. find inverse\n",
    "inv_Z = Z[::] # last 3 columns of Z in row reduced echelon form\n",
    "print('inverse:\\n',inv_Z)\n",
    "\n",
    "assert np.allclose(Z[:,3:]@A,np.eye(3))"
   ]
  },
  {
   "cell_type": "markdown",
   "metadata": {},
   "source": [
    "## 5. <a id='toc5_'></a>[Details on LU factorization (+)](#toc0_)"
   ]
  },
  {
   "attachments": {},
   "cell_type": "markdown",
   "metadata": {},
   "source": [
    "**What is a LU decomposition more precisely?**"
   ]
  },
  {
   "cell_type": "markdown",
   "metadata": {},
   "source": [
    "\n",
    "When $A$ is *regular* (invertible), we can decompose it into a *lower unit triangular matrix*, $L$, and an *upper triangular matrix*, $U$:\n",
    "\n",
    "$$\n",
    "A= \\begin{bmatrix}a_{11} & a_{12} & \\cdots & a_{1n}\\\\\n",
    "a_{21} & a_{22} & \\cdots & a_{2n}\\\\\n",
    "\\vdots & \\vdots & \\ddots & \\vdots\\\\\n",
    "a_{n1} & a_{n2} & \\cdots & a_{nn}\n",
    "\\end{bmatrix} \n",
    "= L\\cdot U = \\begin{bmatrix}1 & 0 & \\cdots & 0\\\\\n",
    "l_{21} & 1 & \\cdots & 0\\\\\n",
    "\\vdots & \\vdots & \\ddots & \\vdots\\\\\n",
    "l_{n1} & l_{n2} & \\cdots & 1\n",
    "\\end{bmatrix}\\cdot\\begin{bmatrix}u_{11} & u_{12} & \\cdots & u_{1n}\\\\\n",
    "0 & u_{22} & \\cdots & u_{2n}\\\\\n",
    "\\vdots & \\vdots & \\ddots & \\vdots\\\\\n",
    "0 & 0 & \\cdots & u_{nn}\n",
    "\\end{bmatrix}\n",
    "$$\n",
    "\n",
    "By starting with the top row of the $upper$ part and the first $column$ of the lower part, we can work our way through using the definition of a matrix product. Note that we actively use the fact that there are 1s on the diagonal of the lower matrix.\n",
    "\n",
    "$$\n",
    "\\begin{aligned}\n",
    "\\textrm{if    }&\\\\\n",
    " &i = 1: \\:\\: u_{1j} = a_{1j} \\:\\:\\:\\: (\\textit{top row is identical to that of A})\\\\\n",
    " &j = 1: \\:\\: l_{i1} = \\frac{a_{i1}}{u_{11}} \\\\\n",
    "\\textrm{else}&\\\\\n",
    "&u_{ij} = a_{ij} - \\sum_{k=1}^{i-1} u_{kj} l_{ik} \\\\\n",
    "%\\textrm{else  }\\:\\:\n",
    "&l_{ij} = \\frac{1}{u_{jj}} \\big( a_{ij} - \\sum_{k=1}^{j-1} u_{kj} l_{ik} \\big)\n",
    "\\end{aligned}\n",
    "$$\n",
    "\n",
    "You can therefore get $L$ and $U$ by following steps:\n",
    "* First obtain row 1 of $U$. It's equal to row 1 of $A$. \n",
    "* Then get column 1 of $L$.\n",
    "* This will allow you to get $u_{2,2}$\n",
    "* Based on $u_{1,2},u_{2,1},u_{2,2},l_{1,1},l_{1,2}$ you can get $l_{3,2}$.\n",
    "* Keep working out subsequent $u_{ij}$ and $l_{ij}$ based on above formulas. \n",
    "\n",
    "The factorization implies that the equation system can be written\n",
    "\n",
    "$$ \n",
    "Ax = L(Ux) = b \n",
    "$$"
   ]
  },
  {
   "attachments": {},
   "cell_type": "markdown",
   "metadata": {},
   "source": [
    "\n",
    "**Algorithm:** `lu_solve()`  \n",
    "3 steps and you are done:\n",
    "1. Perform LU decomposition (factorization)\n",
    "2. Solve for $y$ in $Ly = b$ (using *forward substitution* - recursive system from top to bottom)\n",
    "\n",
    "    $y_1 = b_1,\\,\\, y_2 = b_2-l_{21}y_1,\\,\\, \\dots$\n",
    "\n",
    "3. Solve for $x$ in $Ux = y$ (using  *backward substitution* - recursive system from bottom to top)\n",
    "\n",
    "    $x_n = y_n/u_{nn},\\,\\, x_{n-1} = (y_{n-1}-u_{n-1n}x_n)/u_{n-1n-1},\\dots$"
   ]
  },
  {
   "cell_type": "code",
   "execution_count": 23,
   "metadata": {},
   "outputs": [
    {
     "name": "stdout",
     "output_type": "stream",
     "text": [
      "A:\n",
      " [[ 3.  2.  0.]\n",
      " [ 1. -1.  0.]\n",
      " [ 0.  5.  1.]]\n",
      "L:\n",
      " [[ 1.          0.          0.        ]\n",
      " [ 0.33333333  1.          0.        ]\n",
      " [ 0.         -3.          1.        ]]\n",
      "\n",
      "U:\n",
      " [[ 3.          2.          0.        ]\n",
      " [ 0.         -1.66666667  0.        ]\n",
      " [ 0.          0.          1.        ]]\n",
      "\n",
      "solution: [ 2. -2.  9.]\n"
     ]
    }
   ],
   "source": [
    "L,U = local_linalg.lu_decomposition(A) # step 1\n",
    "y = local_linalg.solve_with_forward_substitution(L,b) # step 2\n",
    "x = local_linalg.solve_with_backward_substitution(U,y) # step 3\n",
    "print('A:\\n',A)\n",
    "print('L:\\n',L)\n",
    "print('\\nU:\\n',U)\n",
    "print('\\nsolution:',x)\n",
    "assert np.allclose(A@x,b)"
   ]
  },
  {
   "cell_type": "markdown",
   "metadata": {},
   "source": [
    "**Relation to scipy:**\n",
    "\n",
    "1. Scipy use pivoting to improve numerical stability.\n",
    "2. Scipy is implemented much much better than here."
   ]
  },
  {
   "cell_type": "markdown",
   "metadata": {},
   "source": [
    "## 6. <a id='toc6_'></a>[Iterative Gauss-Seidel (+)](#toc0_)"
   ]
  },
  {
   "attachments": {},
   "cell_type": "markdown",
   "metadata": {},
   "source": [
    "**An approximate method for solving linear matrix equation systems.**"
   ]
  },
  {
   "attachments": {},
   "cell_type": "markdown",
   "metadata": {},
   "source": [
    "We can always decompose $A$ into *additive* lower and upper triangular matrices,\n",
    "\n",
    "$$\n",
    "A=L+U=\\begin{bmatrix}a_{11} & 0 & \\cdots & 0\\\\\n",
    "a_{21} & a_{22} & \\cdots & 0\\\\\n",
    "\\vdots & \\vdots & \\ddots & \\vdots\\\\\n",
    "a_{n1} & a_{n2} & \\cdots & a_{nn}\n",
    "\\end{bmatrix}+\\begin{bmatrix}0 & a_{12} & \\cdots & a_{1n}\\\\\n",
    "0 & 0 & \\cdots & a_{2n}\\\\\n",
    "\\vdots & \\vdots & \\ddots & \\vdots\\\\\n",
    "0 & 0 & \\cdots & 0\n",
    "\\end{bmatrix}\n",
    "$$\n",
    "\n",
    "such that\n",
    "\n",
    "$$\n",
    "Ax=b\\Leftrightarrow \\underbrace{Lx}_{\\text{LHS}}=\\underbrace{b-Ux}_{\\text{RHS}}\n",
    "$$\n",
    "\n",
    "The idea and beauty of the algorithm is that we go from an identity, $Ax=b$, to an iteration on $x$. This is because the $x$ on the LHS above is **not** the same $x$ as on the RHS. It is an update! And if we keep making updates, we will eventually get the solution. See how below.   "
   ]
  },
  {
   "cell_type": "markdown",
   "metadata": {},
   "source": [
    "**Algorithm:** `gauss_seidel()`\n",
    "\n",
    "1. Choose tolerance $\\epsilon > 0$ and set $n=1$. Define the initial **guess** on $x$ denoted $x_0$.\n",
    "2. From $A$, get $L$ and $U$ as the lower and upper part.\n",
    "2. Set $\\tilde{x}= x_0$\n",
    "2. Given $\\tilde{x}$, calculate $y_n = (b-U\\tilde{x})$.\n",
    "2. Given $y_n$ solve for $x_{n}$ in the equation $Lx_{n} = y_n$.\n",
    "3. If $|x_{n}-\\tilde{x}|_{\\infty} < \\epsilon$ stop.   \n",
    "   Else, set $\\tilde{x} = x_{n}$ and $n=n+1$ and return to step 4."
   ]
  },
  {
   "attachments": {},
   "cell_type": "markdown",
   "metadata": {},
   "source": [
    "Why is this smart? Because it relies on solving a system of equations, $Lx_n=y_n$, where $L$ is **lower triangular**. It is much easier to solve a system of a lower triangular matrix, because we can use **forward substitution** (as above).  "
   ]
  },
  {
   "cell_type": "markdown",
   "metadata": {},
   "source": [
    "**Apply Gauss-Seidel:**"
   ]
  },
  {
   "cell_type": "code",
   "execution_count": 29,
   "metadata": {},
   "outputs": [
    {
     "name": "stdout",
     "output_type": "stream",
     "text": [
      "solution [ 2. -2.  9.]\n"
     ]
    }
   ],
   "source": [
    "x0 = np.array([1,1,1])\n",
    "x =  local_linalg.gauss_seidel(A,b,x0)\n",
    "print('solution',x)\n",
    "assert np.allclose(A@x,b)"
   ]
  },
  {
   "cell_type": "markdown",
   "metadata": {},
   "source": [
    "> **Note:** Convergence is not ensured unless the matrix is *diagonally dominant* or *symmetric* and *positive definite*."
   ]
  },
  {
   "cell_type": "code",
   "execution_count": 30,
   "metadata": {},
   "outputs": [
    {
     "name": "stdout",
     "output_type": "stream",
     "text": [
      "   [1 1 1]\n",
      "  0: [  0.00000000  -4.00000000  19.00000000]\n",
      "  1: [  3.33333333  -0.66666667   2.33333333]\n",
      "  2: [  1.11111111  -2.88888889  13.44444444]\n",
      "  3: [  2.59259259  -1.40740741   6.03703704]\n",
      "  4: [  1.60493827  -2.39506173  10.97530864]\n",
      "  5: [  2.26337449  -1.73662551   7.68312757]\n",
      "  6: [  1.82441701  -2.17558299   9.87791495]\n",
      "  7: [  2.11705533  -1.88294467   8.41472337]\n",
      "  8: [  1.92196312  -2.07803688   9.39018442]\n",
      "  9: [  2.05202459  -1.94797541   8.73987705]\n",
      " 10: [  1.96531694  -2.03468306   9.17341530]\n",
      " 11: [  2.02312204  -1.97687796   8.88438980]\n",
      " 12: [  1.98458531  -2.01541469   9.07707347]\n",
      " 13: [  2.01027646  -1.98972354   8.94861769]\n",
      " 14: [  1.99314903  -2.00685097   9.03425487]\n",
      " 15: [  2.00456732  -1.99543268   8.97716342]\n",
      " 16: [  1.99695512  -2.00304488   9.01522439]\n",
      " 17: [  2.00202992  -1.99797008   8.98985041]\n",
      " 18: [  1.99864672  -2.00135328   9.00676639]\n",
      " 19: [  2.00090219  -1.99909781   8.99548907]\n",
      " 20: [  1.99939854  -2.00060146   9.00300729]\n",
      " 21: [  2.00040097  -1.99959903   8.99799514]\n",
      " 22: [  1.99973269  -2.00026731   9.00133657]\n",
      " 23: [  2.00017821  -1.99982179   8.99910895]\n",
      " 24: [  1.99988119  -2.00011881   9.00059403]\n",
      " 25: [  2.00007920  -1.99992080   8.99960398]\n",
      " 26: [  1.99994720  -2.00005280   9.00026401]\n",
      " 27: [  2.00003520  -1.99996480   8.99982399]\n",
      " 28: [  1.99997653  -2.00002347   9.00011734]\n",
      " 29: [  2.00001565  -1.99998435   8.99992177]\n",
      " 30: [  1.99998957  -2.00001043   9.00005215]\n",
      " 31: [  2.00000695  -1.99999305   8.99996523]\n",
      " 32: [  1.99999536  -2.00000464   9.00002318]\n",
      " 33: [  2.00000309  -1.99999691   8.99998455]\n",
      " 34: [  1.99999794  -2.00000206   9.00001030]\n",
      " 35: [  2.00000137  -1.99999863   8.99999313]\n",
      " 36: [  1.99999908  -2.00000092   9.00000458]\n",
      " 37: [  2.00000061  -1.99999939   8.99999695]\n",
      " 38: [  1.99999959  -2.00000041   9.00000203]\n",
      " 39: [  2.00000027  -1.99999973   8.99999864]\n",
      " 40: [  1.99999982  -2.00000018   9.00000090]\n",
      " 41: [  2.00000012  -1.99999988   8.99999940]\n",
      " 42: [  1.99999992  -2.00000008   9.00000040]\n",
      " 43: [  2.00000005  -1.99999995   8.99999973]\n",
      " 44: [  1.99999996  -2.00000004   9.00000018]\n",
      " 45: [  2.00000002  -1.99999998   8.99999988]\n",
      " 46: [  1.99999998  -2.00000002   9.00000008]\n",
      " 47: [  2.00000001  -1.99999999   8.99999995]\n",
      " 48: [  1.99999999  -2.00000001   9.00000004]\n",
      " 49: [  2.00000000  -2.00000000   8.99999998]\n",
      " 50: [  2.00000000  -2.00000000   9.00000002]\n",
      " 51: [  2.00000000  -2.00000000   8.99999999]\n",
      " 52: [  2.00000000  -2.00000000   9.00000001]\n",
      " 53: [  2.00000000  -2.00000000   9.00000000]\n",
      " 54: [  2.00000000  -2.00000000   9.00000000]\n"
     ]
    }
   ],
   "source": [
    "x =  local_linalg.gauss_seidel(A,b,x0,do_print=True)"
   ]
  },
  {
   "cell_type": "markdown",
   "metadata": {},
   "source": [
    "## 7. <a id='toc7_'></a>[Sparse matrices (+)](#toc0_)"
   ]
  },
  {
   "attachments": {},
   "cell_type": "markdown",
   "metadata": {},
   "source": [
    "You may sometimes deal with a matrix that is really large, but **most** of the entries are 0s. Not uncommon in econometrics or large systems of equations.  \n",
    "\n",
    "In that case, you can save a lot of memory by removing all the 0s from memory and let Python only worry about the non-zero numbers. That of course requires a whole new set of routines for matrix operations, since the elements are no longer contiguous.    \n",
    "\n",
    "It can be worth it if about 70% of your matrix is just 0s. \n",
    "\n",
    "**scipy.sparse.linalg** allows you to solve systems of equations with sparse matrices. \n",
    "\n",
    "**documentation:** [basics](https://docs.scipy.org/doc/scipy/reference/sparse.html) + [linear algebra](https://docs.scipy.org/doc/scipy/reference/sparse.linalg.html#module-scipy.sparse.linalg)"
   ]
  },
  {
   "cell_type": "markdown",
   "metadata": {},
   "source": [
    "**create a sparse matrix**, where most elements are on the diagonal:"
   ]
  },
  {
   "cell_type": "code",
   "execution_count": 32,
   "metadata": {},
   "outputs": [],
   "source": [
    "from scipy import sparse\n",
    "import scipy.sparse.linalg\n",
    "\n",
    "# construct some sparse matrix\n",
    "S = sparse.lil_matrix((1000, 1000)) # 1000x1000 matrix with zeroes\n",
    "S.setdiag(np.random.rand(1000)) # some values on the diagonal\n",
    "S[200, :100] = np.random.rand(100) # some values in a row\n",
    "S[200:210, 100:200] = S[200, :100] # and the same value in some other rows\n",
    "\n",
    "# other matrix formats\n",
    "S_csr = S.tocsr()\n",
    "S_csc = S.tocsc()"
   ]
  },
  {
   "cell_type": "markdown",
   "metadata": {},
   "source": [
    "Create a plot of the values in the matrix:"
   ]
  },
  {
   "cell_type": "code",
   "execution_count": 33,
   "metadata": {},
   "outputs": [
    {
     "data": {
      "image/png": "[encoded data removed]",
      "text/plain": [
       "<Figure size 640x480 with 1 Axes>"
      ]
     },
     "metadata": {},
     "output_type": "display_data"
    }
   ],
   "source": [
    "S_np = S.toarray() # conversion to numpy\n",
    "fig = plt.figure()\n",
    "ax = fig.add_subplot(1,1,1)\n",
    "ax.matshow(S_np,cmap=plt.cm.binary);"
   ]
  },
  {
   "cell_type": "markdown",
   "metadata": {},
   "source": [
    "**Solve it in four different ways:**\n",
    "\n",
    "1. Like it was not sparse\n",
    "2. Using the sparsity\n",
    "3. Using the sparsity + explicit factorization\n",
    "4. Iterative solver (similar to Gauss-Seidel)"
   ]
  },
  {
   "cell_type": "code",
   "execution_count": 37,
   "metadata": {},
   "outputs": [
    {
     "name": "stdout",
     "output_type": "stream",
     "text": [
      "solve       : 0.04665 secs\n",
      "spsolve     : 0.00258 secs\n",
      "factorized  : 0.00000 secs\n",
      "bicgstab    : 0.04989 secs\n"
     ]
    }
   ],
   "source": [
    "# just use some random numbers for right hand side of equation\n",
    "k = np.random.rand(1000) \n",
    "\n",
    "# a. solve \n",
    "t0 = time.time()\n",
    "x = linalg.solve(S_np,k)\n",
    "print(f'{\"solve\":12s}: {time.time()-t0:.5f} secs')\n",
    "\n",
    "# b. solve using sparse matrix algebra in spsolve\n",
    "t0 = time.time()\n",
    "x_alt = sparse.linalg.spsolve(S_csr, k)\n",
    "print(f'{\"spsolve\":12s}: {time.time()-t0:.5f} secs')\n",
    "assert np.allclose(x,x_alt)\n",
    "      \n",
    "# c. solve with explicit factorization\n",
    "t0 = time.time()\n",
    "S_solver = sparse.linalg.factorized(S_csc)\n",
    "x_alt = S_solver(k)\n",
    "print(f'{\"factorized\":12s}: {time.time()-t0:.5f} secs')\n",
    "assert np.allclose(x,x_alt)\n",
    "      \n",
    "# d. solve with iterative solver (bicgstab)\n",
    "t0 = time.time()\n",
    "x_alt,_info = sparse.linalg.bicgstab(S,k,x0=1.001*x,tol=10**(-8))\n",
    "print(f'{\"bicgstab\":12s}: {time.time()-t0:.5f} secs')\n",
    "assert np.allclose(x,x_alt),x-x_alt"
   ]
  },
  {
   "attachments": {},
   "cell_type": "markdown",
   "metadata": {},
   "source": [
    "**Take-aways:** \n",
    "\n",
    "1. Using the sparsity can be very important.\n",
    "2. Iterative solvers can be very very slow."
   ]
  }
 ],
 "metadata": {
  "kernelspec": {
   "display_name": "base",
   "language": "python",
   "name": "python3"
  },
  "language_info": {
   "codemirror_mode": {
    "name": "ipython",
    "version": 3
   },
   "file_extension": ".py",
   "mimetype": "text/x-python",
   "name": "python",
   "nbconvert_exporter": "python",
   "pygments_lexer": "ipython3",
   "version": "3.9.16"
  },
  "toc-autonumbering": true,
  "vscode": {
   "interpreter": {
    "hash": "47ef90cdf3004d3f859f1fb202523c65c07ba7c22eefd261b181f4744e2d0403"
   }
  }
 },
 "nbformat": 4,
 "nbformat_minor": 4
}
