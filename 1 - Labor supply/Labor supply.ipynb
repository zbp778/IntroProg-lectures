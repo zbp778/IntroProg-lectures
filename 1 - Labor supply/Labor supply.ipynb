{
 "cells": [
  {
   "cell_type": "markdown",
   "metadata": {},
   "source": [
    "# Labor supply and taxation"
   ]
  },
  {
   "cell_type": "markdown",
   "metadata": {},
   "source": [
    "**Table of contents**<a id='toc0_'></a>    \n",
    "- 1. [Model and questions](#toc1_)    \n",
    "- 2. [Solution of question 1+2](#toc2_)    \n",
    "- 3. [Solution of question 3](#toc3_)    \n",
    "- 4. [Open and explorative question for you](#toc4_)    \n",
    "\n",
    "<!-- vscode-jupyter-toc-config\n",
    "\tnumbering=true\n",
    "\tanchor=true\n",
    "\tflat=false\n",
    "\tminLevel=2\n",
    "\tmaxLevel=6\n",
    "\t/vscode-jupyter-toc-config -->\n",
    "<!-- THIS CELL WILL BE REPLACED ON TOC UPDATE. DO NOT WRITE YOUR TEXT IN THIS CELL -->"
   ]
  },
  {
   "cell_type": "markdown",
   "metadata": {},
   "source": [
    "## 1. <a id='toc1_'></a>[Model and questions](#toc0_)"
   ]
  },
  {
   "attachments": {},
   "cell_type": "markdown",
   "metadata": {},
   "source": [
    "Consider a consumer solving the following maximization problem\n",
    "\n",
    "$$\n",
    "\\begin{align*}\n",
    "c^{\\star},\\ell^{\\star} & = \\arg\\max_{c,\\ell}\\log(c)-\\nu\\frac{\\ell^{1+\\frac{1}{\\varepsilon}}}{1+\\frac{1}{\\varepsilon}}\\\\\n",
    " & \\text{s.t.} \\\\\n",
    "x & = m+w\\ell-\\left[\\tau_{0}w\\ell+\\tau_{1}\\max\\{w\\ell-\\kappa,0\\}\\right] \\\\\n",
    "c & \\in [0,x] \\\\\n",
    "\\ell & \\in [0,1]\n",
    "\\end{align*}\n",
    "$$\n",
    "\n",
    "where $c$ is consumption, $\\ell$ is labor supply, $m$ is cash-on-hand,\n",
    "$w$ is the wage rate, $\\tau_{0}$ is the standard labor income tax,\n",
    "$\\tau_{1}$ is the top bracket labor income tax, $\\kappa$ is the\n",
    "cut-off for the top labor income bracket, $x$ is total resources,\n",
    "$\\nu$ scales the disutility of labor, and $\\varepsilon$ is the Frisch\n",
    "elasticity of labor supply."
   ]
  },
  {
   "cell_type": "markdown",
   "metadata": {},
   "source": [
    "Note that utility is monotonically increasing in consumption. This implies that\n",
    "$$\\begin{equation}\n",
    "c^{\\star}=x\n",
    "\\end{equation}$$"
   ]
  },
  {
   "cell_type": "markdown",
   "metadata": {},
   "source": [
    "**Question 1:** Construct a function which solves the consumer given the parameters."
   ]
  },
  {
   "cell_type": "markdown",
   "metadata": {},
   "source": [
    "We choose the following parameter values\n",
    "\n",
    "$$\n",
    "m=1,\\,\\nu=10,\\,\\varepsilon=0.3,\\,\\tau_{0}=0.4,\\,\\tau_{1}=0.1,\\,\\kappa=0.4\n",
    "$$"
   ]
  },
  {
   "cell_type": "markdown",
   "metadata": {},
   "source": [
    "**Question 2:** Plot $\\ell^{\\star}$ and $c^{\\star}$ as functions of $w$ in\n",
    "the range $0.5$ to $1.5$."
   ]
  },
  {
   "cell_type": "markdown",
   "metadata": {},
   "source": [
    "Consider a population with $N=1,000$ individuals indexed by $i$.\n",
    "\n",
    "Assume the distribution of wages is uniform such that\n",
    "\n",
    "$$w_{i}\\sim\\mathcal{U}(0.5,1.5).$$\n",
    "\n",
    "Denote the optimal choices of individual $i$ by $\\ell_{i}^{\\star}$ and $c_{i}^{\\star}$.\n"
   ]
  },
  {
   "attachments": {},
   "cell_type": "markdown",
   "metadata": {},
   "source": [
    "    1: Define class Consumer: define _init_ where parameters are inserted into a simplenamespace \".par\" and parameters for \".sol\" are also created. Also create a vector with N=1000, with a fixed seed.\n",
    "\n",
    "    2. Define calc_utility that takes in the arguments as a vector with two elements. \n",
    "    \n",
    "    3.Define solve that uses SLSQP to maximise calc_utility, where we can set up the constraint for c (use equality constraint).  It should be made as a loop, such that the elements of w_i can be iterated through. Use bounds for labor supply.\n",
    "\n",
    "    4. Define calc_revenue (should be easy using np)"
   ]
  },
  {
   "cell_type": "markdown",
   "metadata": {},
   "source": [
    "**Question 3:** Calculate the total tax revenue given by $T=\\sum_{i=1}^{N}\\left[\\tau_{0}w_{i}\\ell_{i}^{\\star}+\\tau_{1}\\max\\{w_{i}\\ell_{i}^{\\star}-\\kappa,0\\}\\right].$"
   ]
  },
  {
   "cell_type": "markdown",
   "metadata": {},
   "source": [
    "## 2. <a id='toc2_'></a>[Solution of question 1+2](#toc0_)"
   ]
  },
  {
   "cell_type": "markdown",
   "metadata": {},
   "source": [
    "All the basic functions are written in `LaborSupplyModel.py`."
   ]
  },
  {
   "cell_type": "code",
   "execution_count": 28,
   "metadata": {},
   "outputs": [
    {
     "name": "stdout",
     "output_type": "stream",
     "text": [
      "The autoreload extension is already loaded. To reload it, use:\n",
      "  %reload_ext autoreload\n"
     ]
    }
   ],
   "source": [
    "import numpy as np\n",
    "\n",
    "import matplotlib.pyplot as plt\n",
    "plt.rcParams.update({\"axes.grid\":True,\"grid.color\":\"black\",\"grid.alpha\":\"0.25\",\"grid.linestyle\":\"--\"})\n",
    "plt.rcParams.update({'font.size': 14})\n",
    "\n",
    "%load_ext autoreload\n",
    "%autoreload 2\n",
    "\n",
    "import LaborSupplyModel as LSM"
   ]
  },
  {
   "cell_type": "markdown",
   "metadata": {},
   "source": [
    "Define all **parameters**:"
   ]
  },
  {
   "cell_type": "code",
   "execution_count": 29,
   "metadata": {},
   "outputs": [],
   "source": [
    "m = 1\n",
    "nu = 10\n",
    "frisch = 0.3\n",
    "tau0 = 0.4\n",
    "tau1 = 0.1\n",
    "kappa = 0.4"
   ]
  },
  {
   "cell_type": "markdown",
   "metadata": {},
   "source": [
    "**Allocate** arrays for solutions:"
   ]
  },
  {
   "cell_type": "code",
   "execution_count": 30,
   "metadata": {},
   "outputs": [],
   "source": [
    "N = 1_000\n",
    "w_vec = np.linspace(0.5,1.5,N)\n",
    "l_vec = np.zeros(N)\n",
    "c_vec = np.zeros(N)"
   ]
  },
  {
   "cell_type": "markdown",
   "metadata": {},
   "source": [
    "**Solve:**"
   ]
  },
  {
   "cell_type": "code",
   "execution_count": 31,
   "metadata": {},
   "outputs": [],
   "source": [
    "for i in range(N):\n",
    "    l_vec[i] = LSM.find_optimal_labor_supply(nu,frisch,m,w_vec[i],tau0,tau1,kappa)\n",
    "    c_vec[i] = LSM.implied_c(l_vec[i],m,w_vec[i],tau0,tau1,kappa)"
   ]
  },
  {
   "cell_type": "markdown",
   "metadata": {},
   "source": [
    "**Plot results:**"
   ]
  },
  {
   "cell_type": "code",
   "execution_count": 32,
   "metadata": {},
   "outputs": [
    {
     "data": {
      "image/png": "[encoded data removed]",
      "text/plain": [
       "<Figure size 1200x400 with 2 Axes>"
      ]
     },
     "metadata": {},
     "output_type": "display_data"
    }
   ],
   "source": [
    "fig = plt.figure(figsize=(12,4))\n",
    "\n",
    "ax = fig.add_subplot(1,2,1)\n",
    "ax.plot(w_vec,l_vec,'-')\n",
    "ax.set_ylabel('labor supply, $\\ell$')\n",
    "ax.set_xlabel('wage, $w$')\n",
    "ax.set_title('Labor suppply')\n",
    "\n",
    "ax = fig.add_subplot(1,2,2)\n",
    "ax.plot(w_vec,c_vec,'-')\n",
    "ax.set_ylabel('consumption, $c$')\n",
    "ax.set_xlabel('wage, $w$')\n",
    "ax.set_title('Consumption')\n",
    "\n",
    "fig.tight_layout(pad=1.0)"
   ]
  },
  {
   "cell_type": "markdown",
   "metadata": {},
   "source": [
    "## 3. <a id='toc3_'></a>[Solution of question 3](#toc0_)"
   ]
  },
  {
   "cell_type": "markdown",
   "metadata": {},
   "source": [
    "Calculate **tax revnue** using that a equally spaced vector approximates a uniform distribution: "
   ]
  },
  {
   "cell_type": "code",
   "execution_count": 33,
   "metadata": {},
   "outputs": [
    {
     "name": "stdout",
     "output_type": "stream",
     "text": [
      "total tax revenue is: 163.0262\n"
     ]
    }
   ],
   "source": [
    "T = np.sum(LSM.implied_tax(l_vec,w_vec,tau0,tau1,kappa))\n",
    "print(f'total tax revenue is: {T:.4f}')"
   ]
  },
  {
   "cell_type": "markdown",
   "metadata": {},
   "source": [
    "Using **random sampling** is also a possibility:"
   ]
  },
  {
   "cell_type": "code",
   "execution_count": 34,
   "metadata": {},
   "outputs": [
    {
     "name": "stdout",
     "output_type": "stream",
     "text": [
      " 0: 159.7256\n",
      " 1: 164.1675\n",
      " 2: 166.3045\n",
      " 3: 164.1948\n",
      " 4: 162.4999\n",
      " 5: 162.3964\n",
      " 6: 164.1743\n",
      " 7: 162.2987\n",
      " 8: 163.5471\n",
      " 9: 159.5859\n",
      "10: 165.9245\n",
      "20: 165.1277\n",
      "30: 162.2696\n",
      "40: 160.8294\n",
      "mean: 162.8388 [159.4760 166.3045]\n"
     ]
    }
   ],
   "source": [
    "# a. set seed\n",
    "np.random.seed(1917)\n",
    "\n",
    "# b. run replications\n",
    "reps = 50\n",
    "T_vec = np.zeros(reps)\n",
    "for rep in range(reps):\n",
    "    \n",
    "    # i. draw randow wages\n",
    "    w_vec_ = np.random.uniform(0.5,1.5,size=N)\n",
    "    \n",
    "    # ii. find labor supply\n",
    "    l_vec_ = np.zeros(N)\n",
    "    for i in range(N):\n",
    "        l_vec_[i] = LSM.find_optimal_labor_supply(nu,frisch,m,w_vec_[i],tau0,tau1,kappa)\n",
    "\n",
    "    # iii. find tax revenue\n",
    "    T_vec[rep] = np.sum(LSM.implied_tax(l_vec_,w_vec_,tau0,tau1,kappa))\n",
    "    \n",
    "    if rep < 10 or rep%10 == 0:\n",
    "        print(f'{rep:2d}: {T_vec[rep]:.4f}')\n",
    "\n",
    "# c. mean\n",
    "print(f'mean: {np.mean(T_vec):.4f} [{np.min(T_vec):.4f} {np.max(T_vec):.4f}]')"
   ]
  },
  {
   "attachments": {},
   "cell_type": "markdown",
   "metadata": {},
   "source": [
    "## 4. <a id='toc4_'></a>[Open question: What determines the tax revenue?](#toc0_)"
   ]
  },
  {
   "cell_type": "code",
   "execution_count": 36,
   "metadata": {},
   "outputs": [
    {
     "name": "stdout",
     "output_type": "stream",
     "text": [
      "tau1 = 0.10: 399.6647\n",
      "tau1 = 0.20: 404.9318\n",
      "tau1 = 0.30: 410.1990\n",
      "tau1 = 0.40: 415.4661\n",
      "tau1 = 0.50: 420.7333\n",
      "tau1 = 0.60: 426.0004\n",
      "tau1 = 0.70: 431.2675\n",
      "tau1 = 0.80: 436.5347\n",
      "tau1 = 0.90: 441.8018\n",
      "tau1 = 1.00: 447.0690\n"
     ]
    }
   ],
   "source": [
    "\n",
    "for tau1 in [0.1, 0.2, 0.3, 0.4, 0.5, 0.6, 0.7, 0.8, 0.9, 1]:\n",
    "    for i in range(N):\n",
    "        l_vec_[i] = LSM.find_optimal_labor_supply(nu,frisch,m,w_vec_[i],tau0,tau1,kappa)\n",
    "    T = np.sum(LSM.implied_tax(l_vec,w_vec,tau0,tau1,kappa))    \n",
    "    print(f'{tau1 = :.2f}: {T:.4f}')\n",
    "\n",
    "   #Noget er galt her - hvis skatten er 100% bør skatteprovenuet begynde at falde. "
   ]
  }
 ],
 "metadata": {
  "kernelspec": {
   "display_name": "base",
   "language": "python",
   "name": "python3"
  },
  "language_info": {
   "codemirror_mode": {
    "name": "ipython",
    "version": 3
   },
   "file_extension": ".py",
   "mimetype": "text/x-python",
   "name": "python",
   "nbconvert_exporter": "python",
   "pygments_lexer": "ipython3",
   "version": "3.9.16"
  },
  "toc-autonumbering": true,
  "vscode": {
   "interpreter": {
    "hash": "47ef90cdf3004d3f859f1fb202523c65c07ba7c22eefd261b181f4744e2d0403"
   }
  }
 },
 "nbformat": 4,
 "nbformat_minor": 4
}
