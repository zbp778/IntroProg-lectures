{
 "cells": [
  {
   "cell_type": "markdown",
   "metadata": {},
   "source": [
    "# Random numbers advanced"
   ]
  },
  {
   "cell_type": "markdown",
   "metadata": {},
   "source": [
    "**Table of contents**<a id='toc0_'></a>    \n",
    "- 1. [Advanced: Middle-square method for generating random numbers](#toc1_)    \n",
    "- 2. [Advanced: Gauss-Hermite quadrature](#toc2_)    \n",
    "\n",
    "<!-- vscode-jupyter-toc-config\n",
    "\tnumbering=true\n",
    "\tanchor=true\n",
    "\tflat=false\n",
    "\tminLevel=2\n",
    "\tmaxLevel=6\n",
    "\t/vscode-jupyter-toc-config -->\n",
    "<!-- THIS CELL WILL BE REPLACED ON TOC UPDATE. DO NOT WRITE YOUR TEXT IN THIS CELL -->"
   ]
  },
  {
   "attachments": {},
   "cell_type": "markdown",
   "metadata": {},
   "source": [
    "The notebook contains two advanced sections\n",
    "\n",
    "Section 1 is a method showing how you can generate a pseudo-random number without any packages. This is mostly to show you the intution behind random numbers on a computer. In practice, it is more efficient to just use a package like Numpy's Random.\n",
    "\n",
    "Section 2 is a method showing how you can simulate a distribution in a more efficient way than just drawing random numbers from the distribution like Monte Carlo. "
   ]
  },
  {
   "cell_type": "code",
   "execution_count": 10,
   "metadata": {},
   "outputs": [],
   "source": [
    "import math\n",
    "import numpy as np"
   ]
  },
  {
   "cell_type": "markdown",
   "metadata": {},
   "source": [
    "## 1. <a id='toc1_'></a>[Advanced: Middle-square method for generating random numbers](#toc0_)"
   ]
  },
  {
   "cell_type": "markdown",
   "metadata": {},
   "source": [
    "Proposed by **John von Neumann**:"
   ]
  },
  {
   "cell_type": "markdown",
   "metadata": {},
   "source": [
    "1. Start with a $N$ digit number\n",
    "2. Square the number\n",
    "3. Pad the number with leading zeros making it a $2N$ digit number\n",
    "4. Extract the middle $N$ digits (*your random number*)\n",
    "5. Return to step 1 to generate one more"
   ]
  },
  {
   "cell_type": "markdown",
   "metadata": {},
   "source": [
    "> **Pro:** Simple and easy to implement. Conceptually somewhat similar to more advanced methods (e.g. *Mersenne-Twister* used by *numpy*).\n",
    ">\n",
    "> **Con:** Cycles can be no longer than $8^N$ periods. Many repeating cycles are very short. Internal state is directly observable.\n",
    ">\n",
    "> **Conclusion:** Can not be used in practice."
   ]
  },
  {
   "cell_type": "markdown",
   "metadata": {},
   "source": [
    "**Code:** An implementation in Python for $N = 4$ digit random integers:"
   ]
  },
  {
   "cell_type": "code",
   "execution_count": 11,
   "metadata": {},
   "outputs": [],
   "source": [
    "def rng(number,max_iter=100): \n",
    "    \n",
    "    already_seen = [] # list of seen numbers\n",
    "    \n",
    "    i = 0\n",
    "    while number not in already_seen and i < max_iter:\n",
    "        \n",
    "        already_seen.append(number)\n",
    "        squared = number**2\n",
    "        padded = str(squared).zfill(8) # add leading zeros\n",
    "        number = int(padded[2:6]) # extract middle 4 numbers\n",
    "        \n",
    "        print(f\"square = {squared:8d}, padded = {padded} -> {number:4d}\")\n",
    "        i += 1"
   ]
  },
  {
   "cell_type": "markdown",
   "metadata": {},
   "source": [
    "A reasonable cycle:"
   ]
  },
  {
   "cell_type": "code",
   "execution_count": 12,
   "metadata": {},
   "outputs": [
    {
     "name": "stdout",
     "output_type": "stream",
     "text": [
      "square = 21650409, padded = 21650409 -> 6504\n",
      "square = 42302016, padded = 42302016 -> 3020\n",
      "square =  9120400, padded = 09120400 -> 1204\n",
      "square =  1449616, padded = 01449616 -> 4496\n",
      "square = 20214016, padded = 20214016 -> 2140\n",
      "square =  4579600, padded = 04579600 -> 5796\n",
      "square = 33593616, padded = 33593616 -> 5936\n",
      "square = 35236096, padded = 35236096 -> 2360\n",
      "square =  5569600, padded = 05569600 -> 5696\n",
      "square = 32444416, padded = 32444416 -> 4444\n",
      "square = 19749136, padded = 19749136 -> 7491\n",
      "square = 56115081, padded = 56115081 -> 1150\n",
      "square =  1322500, padded = 01322500 -> 3225\n",
      "square = 10400625, padded = 10400625 -> 4006\n",
      "square = 16048036, padded = 16048036 ->  480\n",
      "square =   230400, padded = 00230400 -> 2304\n",
      "square =  5308416, padded = 05308416 -> 3084\n",
      "square =  9511056, padded = 09511056 -> 5110\n",
      "square = 26112100, padded = 26112100 -> 1121\n",
      "square =  1256641, padded = 01256641 -> 2566\n",
      "square =  6584356, padded = 06584356 -> 5843\n",
      "square = 34140649, padded = 34140649 -> 1406\n",
      "square =  1976836, padded = 01976836 -> 9768\n",
      "square = 95413824, padded = 95413824 -> 4138\n",
      "square = 17123044, padded = 17123044 -> 1230\n",
      "square =  1512900, padded = 01512900 -> 5129\n",
      "square = 26306641, padded = 26306641 -> 3066\n",
      "square =  9400356, padded = 09400356 -> 4003\n",
      "square = 16024009, padded = 16024009 ->  240\n",
      "square =    57600, padded = 00057600 ->  576\n",
      "square =   331776, padded = 00331776 -> 3317\n",
      "square = 11002489, padded = 11002489 ->   24\n",
      "square =      576, padded = 00000576 ->    5\n",
      "square =       25, padded = 00000025 ->    0\n",
      "square =        0, padded = 00000000 ->    0\n"
     ]
    }
   ],
   "source": [
    "rng(4653)"
   ]
  },
  {
   "cell_type": "markdown",
   "metadata": {},
   "source": [
    "A short cycle:"
   ]
  },
  {
   "cell_type": "code",
   "execution_count": 13,
   "metadata": {},
   "outputs": [
    {
     "name": "stdout",
     "output_type": "stream",
     "text": [
      "square =   291600, padded = 00291600 -> 2916\n",
      "square =  8503056, padded = 08503056 -> 5030\n",
      "square = 25300900, padded = 25300900 -> 3009\n",
      "square =  9054081, padded = 09054081 ->  540\n"
     ]
    }
   ],
   "source": [
    "rng(540)"
   ]
  },
  {
   "cell_type": "markdown",
   "metadata": {},
   "source": [
    "No cycle at all:"
   ]
  },
  {
   "cell_type": "code",
   "execution_count": 14,
   "metadata": {},
   "outputs": [
    {
     "name": "stdout",
     "output_type": "stream",
     "text": [
      "square = 14379264, padded = 14379264 -> 3792\n"
     ]
    }
   ],
   "source": [
    "rng(3792)"
   ]
  },
  {
   "cell_type": "markdown",
   "metadata": {},
   "source": [
    "## 2. <a id='toc2_'></a>[Advanced: Gauss-Hermite quadrature](#toc0_)"
   ]
  },
  {
   "attachments": {},
   "cell_type": "markdown",
   "metadata": {},
   "source": [
    "**Problem:** Numerical integration by Monte Carlo is **slow**.\n",
    "\n",
    "**Solution:** Use smarter integration formulas on the form\n",
    "\n",
    "$$\n",
    "\\mathbb{E}[g(x)] \\approx \\sum_{i=1}^{n} w_ig(x_i) \n",
    "$$\n",
    "\n",
    "where $(x_i,w_i), \\forall n \\in \\{1,2,\\dots,N\\}$, are called **quadrature nodes and weights** and are provided by some theoretical formula depending on the distribution of $x$.\n",
    "\n",
    "**Example I, Normal:** If $x \\sim \\mathcal{N}(\\mu,\\sigma)$ and $g(x_i) = (x_i-2)^2$ then we can use [Gauss-Hermite quadrature](https://en.wikipedia.org/wiki/Gauss%E2%80%93Hermite_quadrature) as implemented below."
   ]
  },
  {
   "cell_type": "code",
   "execution_count": 15,
   "metadata": {},
   "outputs": [],
   "source": [
    "def gauss_hermite(n):\n",
    "    \"\"\" gauss-hermite nodes\n",
    "\n",
    "    Args:\n",
    "\n",
    "        n (int): number of points\n",
    "\n",
    "    Returns:\n",
    "\n",
    "        x (numpy.ndarray): nodes of length n\n",
    "        w (numpy.ndarray): weights of length n\n",
    "\n",
    "    \"\"\"\n",
    "\n",
    "    # a. calculations\n",
    "    i = np.arange(1,n)\n",
    "    a = np.sqrt(i/2)\n",
    "    CM = np.diag(a,1) + np.diag(a,-1)\n",
    "    L,V = np.linalg.eig(CM)\n",
    "    I = L.argsort()\n",
    "    V = V[:,I].T\n",
    "\n",
    "    # b. nodes and weights\n",
    "    x = L[I]\n",
    "    w = np.sqrt(math.pi)*V[:,0]**2\n",
    "\n",
    "    return x,w"
   ]
  },
  {
   "cell_type": "code",
   "execution_count": 16,
   "metadata": {},
   "outputs": [],
   "source": [
    "def normal_gauss_hermite(sigma, n=7, mu=None, exp=False):\n",
    "    \"\"\" normal gauss-hermite nodes\n",
    "\n",
    "    Args:\n",
    "\n",
    "        sigma (double): standard deviation\n",
    "        n (int): number of points\n",
    "        mu (double,optinal): mean\n",
    "        exp (bool,optinal): take exp and correct mean (if not specified)\n",
    "\n",
    "    Returns:\n",
    "\n",
    "        x (numpy.ndarray): nodes of length n\n",
    "        w (numpy.ndarray): weights of length n\n",
    "\n",
    "    \"\"\"\n",
    "\n",
    "    if sigma == 0.0 or n == 1:\n",
    "        x = np.ones(n)\n",
    "        if mu is not None:\n",
    "            x += mu\n",
    "        w = np.ones(n)\n",
    "        return x,w\n",
    "\n",
    "    # a. GaussHermite\n",
    "    x,w = gauss_hermite(n)\n",
    "    x *= np.sqrt(2)*sigma \n",
    "\n",
    "    # b. log-normality\n",
    "    if exp:\n",
    "        if mu is None:\n",
    "            x = np.exp(x - 0.5*sigma**2)\n",
    "        else:\n",
    "            x = np.exp(x + mu)\n",
    "    else:\n",
    "        if mu is None:\n",
    "            x = x \n",
    "        else:\n",
    "            x = x + mu\n",
    "\n",
    "    w /= np.sqrt(math.pi)\n",
    "\n",
    "    return x,w"
   ]
  },
  {
   "cell_type": "markdown",
   "metadata": {},
   "source": [
    "**Results:** Becuase the function is \"nice\", very few quadrature points are actually needed (*not generally true*)."
   ]
  },
  {
   "cell_type": "code",
   "execution_count": 17,
   "metadata": {},
   "outputs": [],
   "source": [
    "mu = 0.1\n",
    "sigma = 0.5\n",
    "def g(x):\n",
    "    return (x-2)**2"
   ]
  },
  {
   "cell_type": "code",
   "execution_count": 18,
   "metadata": {},
   "outputs": [
    {
     "name": "stdout",
     "output_type": "stream",
     "text": [
      "n =   1: 0.8100000000\n",
      "n =   2: 3.8600000000\n",
      "n =   3: 3.8600000000\n",
      "n =   5: 3.8600000000\n",
      "n =   7: 3.8600000000\n",
      "n =   9: 3.8600000000\n",
      "n =  11: 3.8600000000\n"
     ]
    }
   ],
   "source": [
    "for n in [1,2,3,5,7,9,11]:\n",
    "    x,w = normal_gauss_hermite(mu=mu,sigma=sigma,n=n)\n",
    "    result = np.sum(w*g(x))\n",
    "    print(f'n = {n:3d}: {result:.10f}')"
   ]
  },
  {
   "cell_type": "markdown",
   "metadata": {},
   "source": [
    "**Example II, log-normal ([more info](https://en.wikipedia.org/wiki/Log-normal_distribution)):** \n",
    "\n",
    "1. Let $\\log x \\sim \\mathcal{N}(\\mu,\\sigma)$. \n",
    "2. Gauss-Hermite quadrature nodes and weights can be used with the option `exp=True`. \n",
    "3. To ensure $\\mathbb{E}[x] = 1$ then $\\mu = -0.5\\sigma^2$."
   ]
  },
  {
   "cell_type": "code",
   "execution_count": 19,
   "metadata": {},
   "outputs": [
    {
     "name": "stdout",
     "output_type": "stream",
     "text": [
      "mean(x) when mu = 0\n",
      "MC: 1.1332\n",
      "Gauss-Hermite: 1.1331\n",
      "\n",
      "mean(x), mu = -0.5*sigma^2\n",
      "MC: 1.0001\n",
      "Gauss-Hermite: 1.0000\n"
     ]
    }
   ],
   "source": [
    "z = np.random.normal(size=1_000_000,scale=sigma)\n",
    "\n",
    "print('mean(x) when mu = 0')\n",
    "x,w = normal_gauss_hermite(mu=0,sigma=sigma,n=7,exp=True)\n",
    "print(f'MC: {np.mean(np.exp(z)):.4f}')\n",
    "print(f'Gauss-Hermite: {np.sum(x*w):.4f}')\n",
    "print('')\n",
    "\n",
    "print('mean(x), mu = -0.5*sigma^2')\n",
    "x,w = normal_gauss_hermite(sigma=sigma,n=7,exp=True)\n",
    "print(f'MC: {np.mean(np.exp(z-0.5*sigma**2)):.4f}')\n",
    "print(f'Gauss-Hermite: {np.sum(x*w):.4f}')"
   ]
  }
 ],
 "metadata": {
  "kernelspec": {
   "display_name": "base",
   "language": "python",
   "name": "python3"
  },
  "language_info": {
   "codemirror_mode": {
    "name": "ipython",
    "version": 3
   },
   "file_extension": ".py",
   "mimetype": "text/x-python",
   "name": "python",
   "nbconvert_exporter": "python",
   "pygments_lexer": "ipython3",
   "version": "3.9.16"
  },
  "orig_nbformat": 4,
  "vscode": {
   "interpreter": {
    "hash": "2164e4eaf16dd6cd705646718fcef4f5f263bad5b7d103e76e9308c0132ca24b"
   }
  }
 },
 "nbformat": 4,
 "nbformat_minor": 2
}
