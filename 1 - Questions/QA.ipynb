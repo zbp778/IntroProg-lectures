{
 "cells": [
  {
   "cell_type": "markdown",
   "metadata": {},
   "source": [
    "# Questions for section 1"
   ]
  },
  {
   "cell_type": "markdown",
   "metadata": {},
   "source": [
    "**Table of contents**<a id='toc0_'></a>    \n",
    "- 1. [Augmentation operators (`+=`, `*=`, etc.)](#toc1_)    \n",
    "- 2. [Is the final exam more difficult than the problem set?](#toc2_)    \n",
    "- 3. [Choosing an optimizer](#toc3_)    \n",
    "- 4. [Separate py-files](#toc4_)    \n",
    "- 5. [How to tackle the projects (and copying codes from the lecture notebooks)](#toc5_)    \n",
    "- 6. [Time of day of the deadline](#toc6_)    \n",
    "\n",
    "<!-- vscode-jupyter-toc-config\n",
    "\tnumbering=true\n",
    "\tanchor=true\n",
    "\tflat=false\n",
    "\tminLevel=2\n",
    "\tmaxLevel=6\n",
    "\t/vscode-jupyter-toc-config -->\n",
    "<!-- THIS CELL WILL BE REPLACED ON TOC UPDATE. DO NOT WRITE YOUR TEXT IN THIS CELL -->"
   ]
  },
  {
   "attachments": {},
   "cell_type": "markdown",
   "metadata": {},
   "source": [
    "Answer to the questions you had in the survey."
   ]
  },
  {
   "cell_type": "markdown",
   "metadata": {},
   "source": [
    "## 1. <a id='toc1_'></a>[Augmentation operators (`+=`, `*=`, etc.)](#toc0_)"
   ]
  },
  {
   "cell_type": "markdown",
   "metadata": {},
   "source": [
    "Augmentation operators augment the original variable with some operator (`+`, `*` etc). <br>\n",
    "Meaning they change the value of the variable by performing some operation on the original value. <br>\n",
    "The main purpose is to have shorter syntax."
   ]
  },
  {
   "cell_type": "code",
   "execution_count": 10,
   "metadata": {},
   "outputs": [
    {
     "name": "stdout",
     "output_type": "stream",
     "text": [
      "1 1\n",
      "2 2\n",
      "8 8\n",
      "6 6\n",
      "3.0 3.0\n"
     ]
    }
   ],
   "source": [
    "# Comparing regular syntax (i) with the augmentation (j):\n",
    "i = 1 \n",
    "j = 1\n",
    "print(i,j)\n",
    "i = i +1\n",
    "j += j  # The exact same as the line above, just using augmentation\n",
    "print(i,j)\n",
    "i = i*4\n",
    "j *= 4 \n",
    "print(i,j)\n",
    "i = i-2\n",
    "j -= 2\n",
    "print(i,j)\n",
    "i = i/2\n",
    "j /= 2\n",
    "print(i,j)"
   ]
  },
  {
   "attachments": {},
   "cell_type": "markdown",
   "metadata": {},
   "source": [
    "### Numpy arrays"
   ]
  },
  {
   "attachments": {},
   "cell_type": "markdown",
   "metadata": {},
   "source": [
    "An exception is **numpy arrays**. Here the augmentation operator can imply different behavior, when the array is a view."
   ]
  },
  {
   "cell_type": "code",
   "execution_count": 2,
   "metadata": {},
   "outputs": [],
   "source": [
    "import numpy as np"
   ]
  },
  {
   "cell_type": "code",
   "execution_count": 3,
   "metadata": {},
   "outputs": [
    {
     "name": "stdout",
     "output_type": "stream",
     "text": [
      "[1 2 3]\n"
     ]
    }
   ],
   "source": [
    "A = np.array([1,2,3])\n",
    "B = A[0] # copies the first row of A\n",
    "B += 1 # updates B\n",
    "print(A) # is not affected"
   ]
  },
  {
   "cell_type": "code",
   "execution_count": 4,
   "metadata": {},
   "outputs": [
    {
     "name": "stdout",
     "output_type": "stream",
     "text": [
      "[2 3 4]\n"
     ]
    }
   ],
   "source": [
    "A = np.array([1,2,3])\n",
    "B = A[0:] # construct a view into the first row of A\n",
    "B += 1 # updates B and therefore A\n",
    "print(A) # is affected"
   ]
  },
  {
   "cell_type": "code",
   "execution_count": 5,
   "metadata": {},
   "outputs": [
    {
     "name": "stdout",
     "output_type": "stream",
     "text": [
      "[1 2 3]\n"
     ]
    }
   ],
   "source": [
    "A = np.array([1,2,3])\n",
    "B = A[0:] # construct a view into the row\n",
    "B = B + 1 # creates a new B\n",
    "print(A) # is not affected"
   ]
  },
  {
   "cell_type": "markdown",
   "metadata": {},
   "source": [
    "## 2. <a id='toc2_'></a>[Is the final exam more difficult than the problem set?](#toc0_)"
   ]
  },
  {
   "attachments": {},
   "cell_type": "markdown",
   "metadata": {},
   "source": [
    "The final exam will not be much more difficult than the problem sets in terms of the material. The main difference is that there is no solution guide and it will be less clear which lectures you should look to for help. This will make it much more likely that there will be times where you are stuck and don't know what to do. <br> \n",
    "The inaugural project is a good indicator for the level of dificulty and how much help the problem description will give you. <br>\n",
    "You can see previous exams at the [github repository](https://github.com/NumEconCopenhagen/IntroProg-lectures/tree/main/exams) "
   ]
  },
  {
   "cell_type": "markdown",
   "metadata": {},
   "source": [
    "## 3. <a id='toc3_'></a>[Choosing an optimizer](#toc0_)"
   ]
  },
  {
   "attachments": {},
   "cell_type": "markdown",
   "metadata": {},
   "source": [
    "You'll learn more about this later in the course. <br>\n",
    "Generally, I would use `Nelder-Mead` if speed is not an issue. It is robust (to 'jumpy' functions) and can handle bounds (but not constraints). <br>\n",
    "If you need constrainted optimization I would recommend `SLSQP`. <br>\n",
    "Later you will learn about gradient based optimization (`Newton-CG` and `BFGS`) which are faster if the function is nice (approximately continous and differentiable). "
   ]
  },
  {
   "attachments": {},
   "cell_type": "markdown",
   "metadata": {},
   "source": [
    "Numerical optimization is not an exact science, and when dealing with complex problems, you can run into local maximums. So experimentaion is encouraged! <br>\n",
    "If different optimizers and starting values give the same result, you can just use the fastest. If they give different results, use the optimizer that finds the best optimium, and use multiple starting values to ensure that you've found the best optimium."
   ]
  },
  {
   "attachments": {},
   "cell_type": "markdown",
   "metadata": {},
   "source": [
    "For anyone who is interested, I've attached the pdf, *noteOptimization*, written by Anders Munk-Nielsen. It explains what is happening under the hood of some these methods and also has a guide for troupleshooting."
   ]
  },
  {
   "cell_type": "markdown",
   "metadata": {},
   "source": [
    "## 4. <a id='toc4_'></a>[Separate py-files](#toc0_)"
   ]
  },
  {
   "attachments": {},
   "cell_type": "markdown",
   "metadata": {},
   "source": [
    "There was a question about whether it was always better to use a seperate py-file when using functions. <br>\n",
    "My answer is yes (except for very small projects). <br>\n",
    "Writing a lot code in notebooks, quickly gets very cluttered and unorganized.\n",
    "Notebooks are great at showing the results of code and explaining what you've done, but solving big problems requires many lines of code, and that is simply easier to organize in a py-file."
   ]
  },
  {
   "cell_type": "markdown",
   "metadata": {},
   "source": [
    "## 5. <a id='toc5_'></a>[How to tackle the projects (and copying codes from the lecture notebooks)](#toc0_)"
   ]
  },
  {
   "attachments": {},
   "cell_type": "markdown",
   "metadata": {},
   "source": [
    "* Listen today \n",
    "* Spend time fully understanding what you are asked to do\n",
    "* Try to pin point if code from the lectures and problem sets can help you (the plot lecture and the optimization lecture for example).\n",
    "* Solving the problems will be a mixture of coming up with your own code and copying relevant code and editing it, such that it fits you specific problem. <br> \n",
    "I want to emphasize that it is allowed to copy code from the course material and adjust it to your problem.\n",
    "* Start by making it work first, then make it look better/run faster and so on.\n",
    "* But document what you do while you are doing it, you will love yourself for doing this when you have to edit the code later."
   ]
  },
  {
   "cell_type": "markdown",
   "metadata": {},
   "source": [
    "## 6. <a id='toc6_'></a>[Time of day of the deadline](#toc0_)"
   ]
  },
  {
   "attachments": {},
   "cell_type": "markdown",
   "metadata": {},
   "source": [
    "The deadline is at the end of the day (23:59)."
   ]
  },
  {
   "attachments": {},
   "cell_type": "markdown",
   "metadata": {},
   "source": [
    "You are also very welcome to ask a question about anything by raising an issue on [github](https://github.com/NumEconCopenhagen/IntroProg-lectures/issues) <br>\n",
    "(I know *raising an issue* sounds harsh but that's just wording) <br>\n",
    "This is a really good way of asking questions because they are public (so it can help other people), it is easy to write code, and we can easily find you own project repositories and see directly what you have done."
   ]
  }
 ],
 "metadata": {
  "kernelspec": {
   "display_name": "base",
   "language": "python",
   "name": "python3"
  },
  "language_info": {
   "codemirror_mode": {
    "name": "ipython",
    "version": 3
   },
   "file_extension": ".py",
   "mimetype": "text/x-python",
   "name": "python",
   "nbconvert_exporter": "python",
   "pygments_lexer": "ipython3",
   "version": "3.9.15"
  },
  "orig_nbformat": 4
 },
 "nbformat": 4,
 "nbformat_minor": 2
}
