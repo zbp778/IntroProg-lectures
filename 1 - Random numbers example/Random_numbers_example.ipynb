{
 "cells": [
  {
   "cell_type": "markdown",
   "metadata": {},
   "source": [
    "# Random numbers example"
   ]
  },
  {
   "cell_type": "markdown",
   "metadata": {},
   "source": [
    "**Table of contents**<a id='toc0_'></a>    \n",
    "- 1. [Exchange economy with many consumers](#toc1_)    \n",
    "  - 1.1. [Demand](#toc1_1_)    \n",
    "  - 1.2. [Interactive figures](#toc1_2_)    \n",
    "  - 1.3. [Equilibrium](#toc1_3_)    \n",
    "- 2. [Numerical integration by Monte Carlo](#toc2_)    \n",
    "\n",
    "<!-- vscode-jupyter-toc-config\n",
    "\tnumbering=true\n",
    "\tanchor=true\n",
    "\tflat=false\n",
    "\tminLevel=2\n",
    "\tmaxLevel=6\n",
    "\t/vscode-jupyter-toc-config -->\n",
    "<!-- THIS CELL WILL BE REPLACED ON TOC UPDATE. DO NOT WRITE YOUR TEXT IN THIS CELL -->"
   ]
  },
  {
   "attachments": {},
   "cell_type": "markdown",
   "metadata": {},
   "source": [
    "This notebook will show how to use random numbers to simulate and solve a full equilibrium model with many heterogeneous agents."
   ]
  },
  {
   "cell_type": "code",
   "execution_count": 1,
   "metadata": {},
   "outputs": [],
   "source": [
    "import numpy as np\n",
    "\n",
    "from scipy.stats import norm # normal distribution\n",
    "\n",
    "%matplotlib inline\n",
    "import matplotlib.pyplot as plt\n",
    "plt.rcParams.update({\"axes.grid\":True,\"grid.color\":\"black\",\"grid.alpha\":\"0.25\",\"grid.linestyle\":\"--\"})\n",
    "plt.rcParams.update({'font.size': 14})\n",
    "\n",
    "import ipywidgets as widgets # For interactive plots/buttons"
   ]
  },
  {
   "cell_type": "markdown",
   "metadata": {},
   "source": [
    "## 1. <a id='toc1_'></a>[Exchange economy with many consumers](#toc0_)"
   ]
  },
  {
   "cell_type": "markdown",
   "metadata": {},
   "source": [
    "Consider an **exchange economy** with"
   ]
  },
  {
   "cell_type": "markdown",
   "metadata": {},
   "source": [
    "1. 2 goods, $(x_1,x_2)$\n",
    "2. $N$ consumers indexed by $j \\in \\{1,2,\\dots,N\\}$\n",
    "3. Preferences are Cobb-Douglas with uniformly *heterogenous* coefficients\n",
    "\n",
    "$$\n",
    "\\begin{aligned}\n",
    "u^{j}(x_{1},x_{2}) & = x_{1}^{\\alpha_{j}}x_{2}^{1-\\alpha_{j}}\\\\\n",
    " & \\,\\,\\,\\alpha_{j}\\sim\\mathcal{U}(\\underline{\\mu},\\overline{\\mu})\\\\\n",
    " & \\,\\,\\,0<\\underline{\\mu}<\\overline{\\mu}<1\n",
    "\\end{aligned}\n",
    "$$\n",
    "\n",
    "4. Endowments are *homogenous* and given by\n",
    "\n",
    "$$\n",
    "\\boldsymbol{e}^{j}=(e_{1}^{j},e_{2}^{j})=(k,1),\\,k>0\n",
    "$$\n",
    "where good 2 is *numeraire*."
   ]
  },
  {
   "attachments": {},
   "cell_type": "markdown",
   "metadata": {},
   "source": [
    "Giving income $I$, with the following budget constriant:\n",
    "\\begin{equation}\n",
    "I \\equiv kp_1+ p_2 \\geq x_1p_1 + x_2\n",
    "\\end{equation}"
   ]
  },
  {
   "cell_type": "markdown",
   "metadata": {},
   "source": [
    "The implied **demand functions** are:\n",
    "\n",
    "$$\n",
    "\\begin{aligned}\n",
    "x_{1}^{\\star j}(p_{1},p_{2},e^{j})&=&\\alpha_{j}\\frac{I}{p_{1}}=\\alpha_{j}\\frac{kp_{1}+p_{2}}{p_{1}} \\\\\n",
    "x_{2}^{\\star j}(p_{1},p_{2},e^{j})&=&(1-\\alpha_{j})\\frac{I}{p_{2}}=(1-\\alpha_{j})\\frac{kp_{1}+p_{2}}{p_{2}}\n",
    "\\end{aligned}\n",
    "$$"
   ]
  },
  {
   "attachments": {},
   "cell_type": "markdown",
   "metadata": {},
   "source": [
    "The **equilibrium** for a random draw of $\\alpha = \\{\\alpha_1,\\alpha_2,\\dots,\\alpha_N\\}$ is a set of **prices** $p_1$ and $p_2$ satifying:\n",
    "\n",
    "$$\n",
    "\\begin{aligned}\n",
    "x_1(p_1,p_2) = \\underset{\\text{Demand}}{\\underbrace{\\sum_{j=1}^N x_{1}^{\\star j}(p_{1},p_{2},e^{j})}} &=  \\underset{\\text{Supply}}{\\underbrace{\\sum_{j=1}^N e_1^j}} = Nk \\\\\n",
    "x_2(p_1,p_2) = \\sum_{j=1}^N x_{2}^{\\star j}(p_{1},p_{2},e^{j}) &= \\sum_{j=1}^N e_2^j = N\n",
    "\\end{aligned}\n",
    "$$"
   ]
  },
  {
   "cell_type": "markdown",
   "metadata": {},
   "source": [
    "**Problem:** Solve for this equilibrium.  \n",
    "But this requires a **distribution** of agents. Which means randomness.  \n",
    "We need a random number generator (RNG)!"
   ]
  },
  {
   "cell_type": "markdown",
   "metadata": {},
   "source": [
    "### 1.1. <a id='toc1_1_'></a>[Demand](#toc0_)"
   ]
  },
  {
   "cell_type": "markdown",
   "metadata": {},
   "source": [
    "**Warm-up**: Choose parameters and define demand functions."
   ]
  },
  {
   "cell_type": "code",
   "execution_count": 3,
   "metadata": {},
   "outputs": [],
   "source": [
    "# a. parameters\n",
    "N = 1000 # number of agents\n",
    "k = 2 # relative endowment of good 1\n",
    "mu_low = 0.1 # lower bound on alpha\n",
    "mu_high = 0.9 # upper bound on alpha\n",
    "\n",
    "# b. demand functions\n",
    "def demand_good_1_func(alpha,p1,p2,k):\n",
    "    I = k*p1+p2\n",
    "    return alpha*I/p1\n",
    "\n",
    "def demand_good_2_func(alpha,p1,p2,k):\n",
    "    I = k*p1+p2\n",
    "    return (1-alpha)*I/p2\n",
    "\n",
    "\n",
    "# Notice that if an numpy array with multiple values where passed as the alpha argument, \n",
    "# the function would return demand for each value of alpha (using broadcasting)."
   ]
  },
  {
   "cell_type": "markdown",
   "metadata": {},
   "source": [
    "Find demand distribution and total demand:"
   ]
  },
  {
   "cell_type": "code",
   "execution_count": 5,
   "metadata": {},
   "outputs": [],
   "source": [
    "def find_demand_good_1(alphas,p1,p2,k):\n",
    "    distr = demand_good_1_func(alphas,p1,p2,k) # Notice we are passing in arrays of alphas together with scalars! It works because of numpy broadcasting.\n",
    "    total = np.sum(distr)\n",
    "    return distr,total"
   ]
  },
  {
   "cell_type": "markdown",
   "metadata": {},
   "source": [
    "Calculate for various prices:"
   ]
  },
  {
   "cell_type": "code",
   "execution_count": 6,
   "metadata": {},
   "outputs": [],
   "source": [
    "# a. draw alphas\n",
    "alphas = np.random.uniform(low=mu_low, high=mu_high, size=N)\n",
    "\n",
    "# b. a set of hypothetical prices\n",
    "p1_vec = [0.5,1,2,5]\n",
    "p2 = 1\n",
    "\n",
    "# c. calculate demand given prices\n",
    "dists = np.empty((len(p1_vec),N))\n",
    "totals = np.empty(len(p1_vec))\n",
    "for i,p1 in enumerate(p1_vec):\n",
    "    dist,total = find_demand_good_1(alphas,p1,p2,k)\n",
    "    dists[i,:] = dist\n",
    "    totals[i] = total"
   ]
  },
  {
   "cell_type": "markdown",
   "metadata": {},
   "source": [
    "Plot the resulting demand given prices"
   ]
  },
  {
   "cell_type": "code",
   "execution_count": 7,
   "metadata": {},
   "outputs": [
    {
     "data": {
<<<<<<< HEAD
      "image/png": "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",
=======
      "image/png": "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",
>>>>>>> 78df1b54ad55365f4bf204a41c10aeb1dfbe15d8
      "text/plain": [
       "<Figure size 1000x400 with 2 Axes>"
      ]
     },
     "metadata": {},
     "output_type": "display_data"
    }
   ],
   "source": [
    "fig = plt.figure(figsize=(10,4))\n",
    "\n",
    "ax_left = fig.add_subplot(1,2,1)\n",
    "ax_left.set_title('Distributions of demand')\n",
    "for i,p1 in enumerate(p1_vec):\n",
    "    ax_left.hist(dists[i],density=True,alpha=0.5,label=f'$p_1 = {p1}$')\n",
    "ax_left.legend(loc='upper right')\n",
    "\n",
    "ax_right = fig.add_subplot(1,2,2)\n",
    "ax_right.set_title('Total demand given $p_1$')\n",
    "ax_right.grid(True)\n",
    "ax_right.plot(p1_vec,totals)\n",
    "ax_right.set_xlabel('$p_1$');"
   ]
  },
  {
   "cell_type": "markdown",
   "metadata": {},
   "source": [
    "### 1.2. <a id='toc1_2_'></a>[Interactive figures](#toc0_)"
   ]
  },
  {
   "attachments": {},
   "cell_type": "markdown",
   "metadata": {},
   "source": [
    "Create a function constructing a figure, which can then be made interactive using [Jupyter widgets](https://ipywidgets.readthedocs.io/en/stable/) ([examples](https://ipywidgets.readthedocs.io/en/stable/examples/Widget%20List.html)):"
   ]
  },
  {
   "cell_type": "code",
   "execution_count": 8,
   "metadata": {},
   "outputs": [],
   "source": [
    "# This function tells the widget how the plot should look at a specific parametrization \n",
    "def interactive_figure(alphas,p1,p2,k):\n",
    "    \n",
    "    # a. calculations\n",
    "    dist,_total = find_demand_good_1(alphas,p1,p2,k)\n",
    "    \n",
    "    # b. figure\n",
    "    fig = plt.figure(dpi=100)\n",
    "    ax = fig.add_subplot(1,1,1)\n",
    "    ax.hist(dist,density=True)\n",
    "    ax.set_xlim([0,4]) # fixed x range\n",
    "    ax.set_ylim([0,0.8]) # fixed y range\n",
    "    ax.set_title(\"Distribution of demand for good 1\")"
   ]
  },
  {
   "cell_type": "markdown",
   "metadata": {},
   "source": [
    "**Case 1:** Make it interactive with a **slider**"
   ]
  },
  {
   "cell_type": "code",
   "execution_count": 9,
   "metadata": {},
   "outputs": [
    {
     "data": {
      "application/vnd.jupyter.widget-view+json": {
<<<<<<< HEAD
       "model_id": "b2bc6afcc6704fc2b7b1a67674ae1c2c",
=======
       "model_id": "b2733e1b06324cd58ffac5ca692f212c",
>>>>>>> 78df1b54ad55365f4bf204a41c10aeb1dfbe15d8
       "version_major": 2,
       "version_minor": 0
      },
      "text/plain": [
       "interactive(children=(FloatSlider(value=2.0, description='p1', max=5.0, min=0.1, step=0.05), Output()), _dom_c…"
      ]
     },
     "metadata": {},
     "output_type": "display_data"
    }
   ],
   "source": [
    "# Write out which arguments to interactive_figure you want to be changing or staying fixed \n",
    "widgets.interact(interactive_figure,\n",
    "    alphas=widgets.fixed(alphas),\n",
    "    p1=widgets.FloatSlider(description=r\"p1\", min=0.1, max=5, step=0.05, value=2),\n",
    "    p2=widgets.fixed(p2),\n",
    "    k=widgets.fixed(k)\n",
    ");"
   ]
  },
  {
   "cell_type": "markdown",
   "metadata": {},
   "source": [
    "**Case 2:** Make it interactive with a **textbox**:"
   ]
  },
  {
   "cell_type": "code",
<<<<<<< HEAD
   "execution_count": 13,
=======
   "execution_count": 8,
>>>>>>> 78df1b54ad55365f4bf204a41c10aeb1dfbe15d8
   "metadata": {},
   "outputs": [
    {
     "data": {
      "application/vnd.jupyter.widget-view+json": {
<<<<<<< HEAD
       "model_id": "a607b08ab0cb4300b57c513cd5987f7d",
=======
       "model_id": "3df0f10138fa4724aba14932e5a71df0",
>>>>>>> 78df1b54ad55365f4bf204a41c10aeb1dfbe15d8
       "version_major": 2,
       "version_minor": 0
      },
      "text/plain": [
       "interactive(children=(FloatText(value=2.0, description='p1'), Output()), _dom_classes=('widget-interact',))"
      ]
     },
     "metadata": {},
     "output_type": "display_data"
    },
    {
     "data": {
      "text/plain": [
       "<function __main__.interactive_figure(alphas, p1, p2, k)>"
      ]
     },
     "execution_count": 13,
     "metadata": {},
     "output_type": "execute_result"
    }
   ],
   "source": [
<<<<<<< HEAD
    "widgets.interact(interactive_figure, alphas=widgets.fixed(alphas),  p1=widgets.FloatText(description=r\"$p_1$\", value=2), p2=widgets.fixed(p2), k=widgets.fixed(k))"
=======
    "widgets.interact(interactive_figure,\n",
    "    alphas=widgets.fixed(alphas),\n",
    "    p1=widgets.FloatText(description=r\"p1\", value=2),\n",
    "    p2=widgets.fixed(p2),\n",
    "    k=widgets.fixed(k)\n",
    ");"
>>>>>>> 78df1b54ad55365f4bf204a41c10aeb1dfbe15d8
   ]
  },
  {
   "cell_type": "markdown",
   "metadata": {},
   "source": [
    "**Case 3:** Make it interactive with a **dropdown menu**"
   ]
  },
  {
   "cell_type": "code",
<<<<<<< HEAD
   "execution_count": 16,
=======
   "execution_count": 9,
>>>>>>> 78df1b54ad55365f4bf204a41c10aeb1dfbe15d8
   "metadata": {},
   "outputs": [
    {
     "data": {
      "application/vnd.jupyter.widget-view+json": {
<<<<<<< HEAD
       "model_id": "e6fbc67af616416e9fe03340d2be3cf6",
=======
       "model_id": "3005416bbaa54486bc2158f6f4a1fada",
>>>>>>> 78df1b54ad55365f4bf204a41c10aeb1dfbe15d8
       "version_major": 2,
       "version_minor": 0
      },
      "text/plain": [
       "interactive(children=(Dropdown(description='p1', index=3, options=(0.5, 1, 1.5, 2.0, 2.5, 3), value=2.0), Outp…"
      ]
     },
     "metadata": {},
     "output_type": "display_data"
    }
   ],
   "source": [
    "widgets.interact(interactive_figure,\n",
    "    alphas=widgets.fixed(alphas),\n",
    "    p1=widgets.Dropdown(description=\"p1\", options=[0.5,1,1.5,2.0,2.5,3], value=2),\n",
    "    p2=widgets.fixed(p2),\n",
    "    k=widgets.fixed(k)\n",
    ");"
   ]
  },
  {
   "attachments": {},
   "cell_type": "markdown",
   "metadata": {},
   "source": [
    "**Task:** Add a slider for $k$ to the interactive figure below."
   ]
  },
  {
   "cell_type": "code",
   "execution_count": 20,
   "metadata": {},
   "outputs": [
    {
     "data": {
      "application/vnd.jupyter.widget-view+json": {
<<<<<<< HEAD
       "model_id": "871a593d6b204efda24b8b5505e106a0",
=======
       "model_id": "14c81c78eb584caf83674d4754367f77",
>>>>>>> 78df1b54ad55365f4bf204a41c10aeb1dfbe15d8
       "version_major": 2,
       "version_minor": 0
      },
      "text/plain": [
<<<<<<< HEAD
       "interactive(children=(FloatSlider(value=2.0, description='$p_1$', max=5.0, min=0.1, step=0.05), FloatSlider(va…"
=======
       "interactive(children=(FloatSlider(value=2.0, description='p1', max=5.0, min=0.1, step=0.05), Output()), _dom_c…"
>>>>>>> 78df1b54ad55365f4bf204a41c10aeb1dfbe15d8
      ]
     },
     "metadata": {},
     "output_type": "display_data"
    }
   ],
   "source": [
    "# change this code\n",
    "widgets.interact(interactive_figure,\n",
    "    alphas=widgets.fixed(alphas),\n",
    "    p1=widgets.FloatSlider(description=\"p1\", min=0.1, max=5, step=0.05, value=2),\n",
    "    p2=widgets.fixed(p2),\n",
    "    k=widgets.FloatSlider(description=\"k\", min=0.1, max=5, step=0.05, value=2)\n",
    ");"
   ]
  },
  {
   "cell_type": "markdown",
   "metadata": {},
   "source": [
    "### 1.3. <a id='toc1_3_'></a>[Equilibrium](#toc0_)"
   ]
  },
  {
   "cell_type": "markdown",
   "metadata": {},
   "source": [
    "The equilibrium conditions were that **excess demand**, $Z$, is = 0 for both goods:\n",
    "\n",
    "$$\n",
    "\\begin{aligned}\n",
    "\\sum_{j=1}^N x_{1}^{\\star j}(p_{1},p_{2},e^{j}) &= Nk \\Leftrightarrow Z_1 \\equiv \\sum_{j=1}^N x_{1}^{\\star j}(p_{1},p_{2},e^{j}) - Nk = 0 \\\\\n",
    "\\sum_{j=1}^N x_{2}^{\\star j}(p_{1},p_{2},e^{j}) &= N \\Leftrightarrow Z_2 \\equiv \\sum_{j=1}^N x_{2}^{\\star j}(p_{1},p_{2},e^{j}) - N = 0\n",
    "\\end{aligned}\n",
    "$$"
   ]
  },
  {
   "cell_type": "markdown",
   "metadata": {},
   "source": [
    "**Idea:** Solve just the first equation. Then the second is satisfied due to Walras's law."
   ]
  },
  {
   "cell_type": "markdown",
   "metadata": {},
   "source": [
    "**Algorithm:**  \n",
    "First choose a tolerance $\\epsilon > 0$ and an adjustment factor $\\kappa>0$, and a guess on $p_1 > 0$. \n",
    "\n",
    "Then find the equilibrium price by following iterative algorithm:\n",
    "\n",
    "1. Calculate total excess demand of good 1: $Z_1 = \\sum_{j=1}^N x_{1}^{\\star j}(p_{1},p_{2},e^{j}) - Nk$\n",
    "2. If $|Z_1| < \\epsilon $ stop\n",
    "3. If $|Z_1| \\geq \\epsilon $ set $p_1 = p_1 + \\kappa \\cdot \\frac{Z_1}{N}$\n",
    "4. Return to step 1\n",
    "\n",
    "**Intuition**  \n",
    "If excess demand is **positive** and far from 0, then **increase** the price.  \n",
    "If excess demand is **negative** and far from 0, then **decrease** the price.  "
   ]
  },
  {
   "cell_type": "code",
   "execution_count": 58,
   "metadata": {},
   "outputs": [
    {
     "name": "stdout",
     "output_type": "stream",
     "text": [
      "The autoreload extension is already loaded. To reload it, use:\n",
      "  %reload_ext autoreload\n"
     ]
    }
   ],
   "source": [
    "# Use the functions in module market_eq\n",
    "%load_ext autoreload \n",
    "%autoreload 2\n",
    "from market_eq import MarketEq"
   ]
  },
  {
   "cell_type": "markdown",
   "metadata": {},
   "source": [
    "Finding the equilibrium price.  \n",
    "See `market_eq.py` for implementation. "
   ]
  },
  {
   "cell_type": "code",
<<<<<<< HEAD
   "execution_count": 60,
=======
   "execution_count": 17,
>>>>>>> 78df1b54ad55365f4bf204a41c10aeb1dfbe15d8
   "metadata": {},
   "outputs": [
    {
     "name": "stdout",
     "output_type": "stream",
     "text": [
<<<<<<< HEAD
      "  0: p1 = 144.41019528 -> excess demand ->  -983.00786867\n",
      "  1: p1 = 143.82039912 -> excess demand ->  -982.99359502\n",
      "  2: p1 = 143.23061160 -> excess demand ->  -982.97920451\n",
      "  3: p1 = 142.64083278 -> excess demand ->  -982.96469570\n",
      "  4: p1 = 142.05106274 -> excess demand ->  -982.95006712\n",
      "   ...\n",
      " 25: p1 = 129.66805683 -> excess demand ->  -982.61233002\n",
      " 50: p1 = 114.93259429 -> excess demand ->  -982.11608311\n",
      " 75: p1 = 100.20563484 -> excess demand ->  -981.47514525\n",
      "100: p1 =  85.48987460 -> excess demand ->  -980.61561689\n",
      "125: p1 =  70.78953373 -> excess demand ->  -979.40309735\n",
      "150: p1 =  56.11177386 -> excess demand ->  -977.56505498\n",
      "175: p1 =  41.47027033 -> excess demand ->  -974.45300553\n",
      "200: p1 =  26.89663835 -> excess demand ->  -968.06035688\n",
      "225: p1 =  12.49782187 -> excess demand ->  -947.72027094\n",
      "250: p1 =   0.51126509 -> excess demand ->   -43.92324884\n",
      "262: p1 =   0.51368198 -> excess demand ->    -0.00000000\n"
=======
      "  0: p1 =   1.50000000 -> excess demand ->  -643.94758055\n",
      "  1: p1 =   1.43560524 -> excess demand ->  -628.74098598\n",
      "  2: p1 =   1.37273114 -> excess demand ->  -612.51694647\n",
      "  3: p1 =   1.31147945 -> excess demand ->  -595.21564083\n",
      "  4: p1 =   1.25195788 -> excess demand ->  -576.78116169\n",
      "   ...\n",
      " 25: p1 =   0.55991112 -> excess demand ->   -74.74571625\n",
      " 50: p1 =   0.51757728 -> excess demand ->    -0.46073123\n",
      " 75: p1 =   0.51733594 -> excess demand ->    -0.00237663\n",
      "100: p1 =   0.51733469 -> excess demand ->    -0.00001225\n",
      "125: p1 =   0.51733469 -> excess demand ->    -0.00000006\n",
      "134: p1 =   0.51733469 -> excess demand ->    -0.00000001\n"
>>>>>>> 78df1b54ad55365f4bf204a41c10aeb1dfbe15d8
     ]
    }
   ],
   "source": [
<<<<<<< HEAD
    "p1_guess = 145\n",
    "p2 = 1\n",
    "kappa = 0.6\n",
=======
    "N = 1000 # number of agents\n",
    "k = 2 # relative endowment of good 1\n",
    "mu_low = 0.1 # lower bound on alpha\n",
    "mu_high = 0.9 # upper bound on alpha\n",
    "kappa = 0.1\n",
>>>>>>> 78df1b54ad55365f4bf204a41c10aeb1dfbe15d8
    "eps = 1e-8\n",
    "\n",
    "dale = MarketEq(N=N,k=k, mu_low=mu_low,mu_high=mu_high, kappa=kappa,eps=eps)\n",
    "\n",
    "\n",
    "p1_guess = 1.5\n",
    "p2 = 1\n",
    "dale.find_equilibrium(p1_guess,p2)"
   ]
  },
  {
   "cell_type": "markdown",
   "metadata": {},
   "source": [
    "**Check:** Ensure that excess demand of both goods are (almost) zero."
   ]
  },
  {
   "cell_type": "code",
   "execution_count": 61,
   "metadata": {},
   "outputs": [
    {
     "name": "stdout",
     "output_type": "stream",
     "text": [
<<<<<<< HEAD
      "-4.882394932792522e-09 2.508386387489736e-09\n"
=======
      "Solution to market equilibrium:\n",
      "p1 = 0.515\n",
      "p2 = 1.000\n",
      "\n",
      "Excess demands are:\n",
      "Z1 = -9.551740731694736e-09\n",
      "Z2 = 4.917296791973058e-09\n"
>>>>>>> 78df1b54ad55365f4bf204a41c10aeb1dfbe15d8
     ]
    }
   ],
   "source": [
    "dale.print_solution()"
   ]
  },
  {
   "cell_type": "code",
   "execution_count": 14,
   "metadata": {},
   "outputs": [
    {
     "name": "stdout",
     "output_type": "stream",
     "text": [
      "-9.551740731694736e-09 4.917296791973058e-09\n"
     ]
    }
   ],
   "source": [
    "print(dale.Z1,dale.Z2)\n",
    "assert np.abs(dale.Z1) < eps\n",
    "assert np.abs(dale.Z2) < eps"
   ]
  },
  {
   "attachments": {},
   "cell_type": "markdown",
   "metadata": {},
   "source": [
    "**Open task:**\n",
    "1. Play around with the code and make sure you understand everything \n",
    "2. Play around with the parameters and see how stuff changes, which parameters breaks the solution?\n",
    "3. How sensitive is the code e.g. to changes to the initial guess of $p_1$?\n",
    "4. How sensitive is the code  e.g. to changes in $\\kappa$?\n",
    "\n",
    "If you have any questions you are very welcome to raise an issue on [github](https://github.com/NumEconCopenhagen/IntroProg-lectures/issues) with your question."
   ]
  },
  {
   "cell_type": "markdown",
   "metadata": {},
   "source": [
    "## 2. <a id='toc2_'></a>[Numerical integration by Monte Carlo](#toc0_)"
   ]
  },
  {
   "attachments": {},
   "cell_type": "markdown",
   "metadata": {},
   "source": [
    "Numerical integration is the task of computing\n",
    "\n",
    "$$ \n",
    "\\mathbb{E}[\\mathbf{g}(x)]  \\text{ where } x \\sim F,\n",
    "$$\n",
    "\n",
    "where $F$ is a known probability distribution and $\\mathbf{g}(\\cdot)$ is a function. In terms of a integral this can also be writen as\n",
    "\n",
    "$$\n",
    "\\mathbb{E}[\\mathbf{g}(x)] = \\int_{x\\in\\mathcal{X}} \\mathbf{g}(x) dF(x) = \\int_{x\\in\\mathcal{X}} \\mathbf{g}(x) f(x) dx\n",
    "$$\n",
    "\n",
    "where $f$ is the PDF for the CDF $F$ and $\\mathcal{X}$ is the domain of $x$.\n",
    "\n",
    "In an economic model, $\\mathbf{g}$ might represent the way the state of an agent or the economy develops stochastically. \n",
    "\n",
    "Relying on the law of large numbers we **approximate** the true integral with a finite sample:\n",
    "\n",
    "$$\n",
    "\\mathbb{E}[\\mathbf{g}(x)] \\approx \\frac{1}{N}\\sum_{i=1}^{N} \\mathbf{g}(x_i) \n",
    "$$\n",
    "\n",
    "where $x_i$ is drawn from $F$ using a random number generator. This is also called **numerical integration by Monte Carlo**.\n",
    "\n",
    "For an easy implementation, we use  \n",
    "\n",
    "$$\n",
    "\\mathbf{g}(x) = (x-2)^2\n",
    "$$"
   ]
  },
  {
   "cell_type": "markdown",
   "metadata": {},
   "source": [
    "**Monte Carlo function:**  "
   ]
  },
  {
   "cell_type": "code",
<<<<<<< HEAD
   "execution_count": 62,
=======
   "execution_count": 18,
>>>>>>> 78df1b54ad55365f4bf204a41c10aeb1dfbe15d8
   "metadata": {},
   "outputs": [],
   "source": [
    "def g(x):\n",
    "    return (x-2)**2\n",
    "\n",
    "def MC(N,g,F):\n",
    "    X = F.rvs(size=N) # rvs = draw N random values from F\n",
    "    return np.mean(g(X)) # apply g to X"
   ]
  },
  {
   "cell_type": "markdown",
   "metadata": {},
   "source": [
    "**Example** with a normal distribution:"
   ]
  },
  {
   "cell_type": "code",
<<<<<<< HEAD
   "execution_count": 63,
=======
   "execution_count": 19,
>>>>>>> 78df1b54ad55365f4bf204a41c10aeb1dfbe15d8
   "metadata": {},
   "outputs": [
    {
     "name": "stdout",
     "output_type": "stream",
     "text": [
<<<<<<< HEAD
      "E[g(x)] = 3.7839592620960922\n"
=======
      "E[g(x)] = 3.8356169115992915\n"
>>>>>>> 78df1b54ad55365f4bf204a41c10aeb1dfbe15d8
     ]
    }
   ],
   "source": [
    "N = 1000\n",
    "mu = 0.1\n",
    "sigma = 0.5\n",
    "F = norm(loc=mu,scale=sigma)\n",
    "mc_integral = MC(N,g,F)\n",
    "print('E[g(x)] =', mc_integral)"
   ]
  },
  {
   "attachments": {},
   "cell_type": "markdown",
   "metadata": {},
   "source": [
    "Function for drawning $ K $ Monte Carlo samples:"
   ]
  },
  {
   "cell_type": "code",
<<<<<<< HEAD
   "execution_count": 64,
=======
   "execution_count": 20,
>>>>>>> 78df1b54ad55365f4bf204a41c10aeb1dfbe15d8
   "metadata": {},
   "outputs": [],
   "source": [
    "def MC_sample(N,g,F,K):\n",
    "    \n",
    "    results = np.empty(K)\n",
    "    for i in range(K):\n",
    "        results[i] = MC(N,g,F)\n",
    "\n",
    "    return results"
   ]
  },
  {
   "cell_type": "markdown",
   "metadata": {},
   "source": [
    "The variance across Monte Carlo samples falls with larger $N$:"
   ]
  },
  {
   "cell_type": "code",
<<<<<<< HEAD
   "execution_count": 65,
=======
   "execution_count": 21,
>>>>>>> 78df1b54ad55365f4bf204a41c10aeb1dfbe15d8
   "metadata": {},
   "outputs": [
    {
     "name": "stdout",
     "output_type": "stream",
     "text": [
<<<<<<< HEAD
      "N =      100: 3.852274 (std: 0.1915)\n",
      "N =     1000: 3.862176 (std: 0.0620)\n",
      "N =    10000: 3.859967 (std: 0.0188)\n",
      "N =   100000: 3.859941 (std: 0.0061)\n"
=======
      "N =      100: 3.855304 (std: 0.1915)\n",
      "N =     1000: 3.856946 (std: 0.0612)\n",
      "N =    10000: 3.859432 (std: 0.0199)\n",
      "N =   100000: 3.859921 (std: 0.0063)\n"
>>>>>>> 78df1b54ad55365f4bf204a41c10aeb1dfbe15d8
     ]
    }
   ],
   "source": [
    "K = 1000\n",
    "for N in [10**2,10**3,10**4,10**5]:\n",
    "    results = MC_sample(N,g,F,K)\n",
    "    print(f'N = {N:8d}: {results.mean():.6f} (std: {results.std():.4f})')"
   ]
  },
  {
   "attachments": {},
   "cell_type": "markdown",
   "metadata": {},
   "source": [
    "In principle, you can always use Monte Carlo. But if $\\mathbf{g}$ had been a very computationally costly function, Monte Carlo would be infeasible. But there are other ways, which are a bit more advanced."
   ]
  }
 ],
 "metadata": {
  "kernelspec": {
   "display_name": "base",
   "language": "python",
   "name": "python3"
  },
  "language_info": {
   "codemirror_mode": {
    "name": "ipython",
    "version": 3
   },
   "file_extension": ".py",
   "mimetype": "text/x-python",
   "name": "python",
   "nbconvert_exporter": "python",
   "pygments_lexer": "ipython3",
   "version": "3.9.15"
  },
  "orig_nbformat": 4,
  "vscode": {
   "interpreter": {
    "hash": "2164e4eaf16dd6cd705646718fcef4f5f263bad5b7d103e76e9308c0132ca24b"
   }
  }
 },
 "nbformat": 4,
 "nbformat_minor": 2
}
