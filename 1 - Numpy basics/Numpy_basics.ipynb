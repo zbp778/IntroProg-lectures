{
 "cells": [
  {
   "cell_type": "markdown",
   "metadata": {},
   "source": [
    "# Numpy basics"
   ]
  },
  {
   "cell_type": "markdown",
   "metadata": {},
   "source": [
    "**Table of contents**<a id='toc0_'></a>    \n",
    "- 1. [Numerical python (numpy)](#toc1_)    \n",
    "  - 1.1. [Basics](#toc1_1_)    \n",
    "  - 1.2. [Math](#toc1_2_)    \n",
    "  - 1.3. [Indexing](#toc1_3_)    \n",
    "  - 1.4. [Multidimensional arrays](#toc1_4_)    \n",
    "  - 1.5. [List of good things to know](#toc1_5_)    \n",
    "  - 1.6. [Small quiz](#toc1_6_)    \n",
    "- 2. [Extra: Memory](#toc2_)    \n",
    "\n",
    "<!-- vscode-jupyter-toc-config\n",
    "\tnumbering=true\n",
    "\tanchor=true\n",
    "\tflat=false\n",
    "\tminLevel=2\n",
    "\tmaxLevel=6\n",
    "\t/vscode-jupyter-toc-config -->\n",
    "<!-- THIS CELL WILL BE REPLACED ON TOC UPDATE. DO NOT WRITE YOUR TEXT IN THIS CELL -->"
   ]
  },
  {
   "attachments": {},
   "cell_type": "markdown",
   "metadata": {},
   "source": [
    "**[Numpy](https://numpy.org/)** is the main package for handling numerical data\n",
    "\n",
    "**Further:** [Very detailed numpy tutorial](https://www.python-course.eu/numpy.php)"
   ]
  },
  {
   "cell_type": "markdown",
   "metadata": {},
   "source": [
    "## 1. <a id='toc1_'></a>[Numerical python (numpy)](#toc0_)\n",
    "\n",
    "* So far we have mainly used **base Python**. The set of operations and containers baked into the core of Python. \n",
    "* Now we are importing the package **numpy** (which you got through the Anaconda distribution).  \n",
    "* Numpy is **the** package for handling data going into mathmatical operations (base Python isn't great there). \n",
    "* It is build around it's container, the **ndarray**, for which there is a bunch of especially made routines. \n",
    "* The routines (multiplications, matrix algebra, etc) are highly efficient. Implemented in C-code. \n",
    "* A list (which is base Python) and a ndarray are thus different things that behave differently. "
   ]
  },
  {
   "cell_type": "code",
   "execution_count": 1,
   "metadata": {
    "slideshow": {
     "slide_type": "fragment"
    },
    "tags": []
   },
   "outputs": [],
   "source": [
    "import numpy as np # import the numpy module"
   ]
  },
  {
   "attachments": {},
   "cell_type": "markdown",
   "metadata": {
    "slideshow": {
     "slide_type": "subslide"
    },
    "tags": []
   },
   "source": [
    "A **numpy array** is a lot like a list but with important differences:\n",
    "\n",
    "1. Elements must be of **one homogenous type** (ints, floats...).\n",
    "2. A **slice returns a view** rather than copy of the content.\n",
    "3. A numpy array **cannot change size** after creation (there is no append function).\n",
    "\n",
    "Thus, numpy arrays are less flexible things than lists.  \n",
    "But that is what allows them to use more effecient mathmatical routines. "
   ]
  },
  {
   "cell_type": "markdown",
   "metadata": {},
   "source": [
    "### 1.1. <a id='toc1_1_'></a>[Basics](#toc0_)"
   ]
  },
  {
   "cell_type": "markdown",
   "metadata": {
    "slideshow": {
     "slide_type": "fragment"
    },
    "tags": []
   },
   "source": [
    "Numpy arrays can be **created from lists** and can be **multi-dimensional**:"
   ]
  },
  {
   "cell_type": "code",
   "execution_count": 2,
   "metadata": {
    "slideshow": {
     "slide_type": "fragment"
    },
    "tags": []
   },
   "outputs": [
    {
     "name": "stdout",
     "output_type": "stream",
     "text": [
      "A is a <class 'numpy.ndarray'> and B is a <class 'numpy.ndarray'>\n",
      "As data is int32 Bs data is float64\n",
      "A dimensions: 1 B dimensions: 2\n",
      "shape of A: (10,) shape of B: (4, 3)\n",
      "size of A: 10 size of B: 12\n"
     ]
    }
   ],
   "source": [
    "A = np.array([0, 1, 2, 3, 4, 5, 6, 7, 8, 9]) # one dimension\n",
    "B = np.array([[3.4, 8.7, 9.9], \n",
    "              [1.1, -7.8, -0.7],\n",
    "              [1. , 0.5 , -5.7],\n",
    "              [4.1, 12.3, 4.8]]) # two dimensions\n",
    "\n",
    "print('A is a', type(A),'and B is a', type(B)) # type\n",
    "print('As data is',A.dtype,'Bs data is' , B.dtype) # data type\n",
    "print('A dimensions:', A.ndim, 'B dimensions:',B.ndim) # dimensions\n",
    "print('shape of A:',A.shape,'shape of B:',B.shape) # shape (1d: (columns,), 2d: (row,columns))\n",
    "print('size of A:',A.size,'size of B:',B.size) # size"
   ]
  },
  {
   "attachments": {},
   "cell_type": "markdown",
   "metadata": {
    "slideshow": {
     "slide_type": "fragment"
    },
    "tags": []
   },
   "source": [
    "Notice that the matrix `B` was a bunch of stacked **rows**. <br> \n",
    "Python is row major language which means the elements of the ndarray are stored in memory as concatenated rows (Fortran, MATLAB, and Julia are examples of column major languages), see the extra section at the bottom for more on this. "
   ]
  },
  {
   "attachments": {},
   "cell_type": "markdown",
   "metadata": {
    "slideshow": {
     "slide_type": "subslide"
    },
    "tags": []
   },
   "source": [
    "**Slicing** a numpy array returns a **view**, which is a **reference** to the part of the array that was sliced out.  \n",
    "*Remember that views and copies can be extracted from containers.* <br> \n",
    "*Views allows for changing the original object when the view is changed, copies does not*"
   ]
  },
  {
   "cell_type": "code",
   "execution_count": 13,
   "metadata": {
    "slideshow": {
     "slide_type": "fragment"
    },
    "tags": []
   },
   "outputs": [
    {
     "name": "stdout",
     "output_type": "stream",
     "text": [
      "V = [0 0 4 5]\n",
      "A = [0 1 0 0 4 5 6 7 8 9] did not change\n"
     ]
    }
   ],
   "source": [
    "A = np.array([0, 1, 2, 3, 4, 5, 6, 7, 8, 9])\n",
    "V = A[2:6]         # V is a reference to a slice of a A\n",
    "\n",
    "# Make changes in V and note what happens in A\n",
    "V[0] = 0; V[1] = 0  # The ; allows you to write multiple code-lines in a single line\n",
    "print('V =',V)\n",
    "f'A =,{A}changed'\n",
    "\n",
    "# If C was a copy, A wouldn't have changed\n",
    "C = A.copy()\n",
    "C[0] = 99\n",
    "print('A =',A, 'did not change') "
   ]
  },
  {
   "cell_type": "markdown",
   "metadata": {
    "slideshow": {
     "slide_type": "subslide"
    },
    "tags": []
   },
   "source": [
    "Numpy array can also be created using numpy functions:"
   ]
  },
  {
   "cell_type": "code",
   "execution_count": 17,
   "metadata": {
    "slideshow": {
     "slide_type": "fragment"
    },
    "tags": []
   },
   "outputs": [
    {
     "name": "stdout",
     "output_type": "stream",
     "text": [
      "[[1. 1. 1.]\n",
      " [1. 1. 1.]]\n",
      "[[0. 0.]\n",
      " [0. 0.]\n",
      " [0. 0.]\n",
      " [0. 0.]]\n",
      "[[1. 0. 0. 0.]\n",
      " [0. 1. 0. 0.]\n",
      " [0. 0. 1. 0.]\n",
      " [0. 0. 0. 1.]]\n",
      "[  0.  20.  40.  60.  80. 100.]\n"
     ]
    }
   ],
   "source": [
    "print(np.ones((2,3)))\n",
    "print(np.zeros((4,2)))\n",
    "print(np.eye(4,))\n",
    "print(np.linspace(0,100,6)) # linear spacing"
   ]
  },
  {
   "attachments": {},
   "cell_type": "markdown",
   "metadata": {
    "slideshow": {
     "slide_type": "fragment"
    },
    "tags": []
   },
   "source": [
    "**Tip 1:** Try typing a comma inside a function\n",
    "\n",
    "**Tip 2:** Try to write `?np.linspace` in a cell"
   ]
  },
  {
   "cell_type": "code",
   "execution_count": 4,
   "metadata": {
    "slideshow": {
     "slide_type": "fragment"
    },
    "tags": []
   },
   "outputs": [
    {
     "name": "stdout",
     "output_type": "stream",
     "text": [
      "\u001b[1;31mSignature:\u001b[0m\n",
      "\u001b[0mnp\u001b[0m\u001b[1;33m.\u001b[0m\u001b[0mlinspace\u001b[0m\u001b[1;33m(\u001b[0m\u001b[1;33m\n",
      "\u001b[0m    \u001b[0mstart\u001b[0m\u001b[1;33m,\u001b[0m\u001b[1;33m\n",
      "\u001b[0m    \u001b[0mstop\u001b[0m\u001b[1;33m,\u001b[0m\u001b[1;33m\n",
      "\u001b[0m    \u001b[0mnum\u001b[0m\u001b[1;33m=\u001b[0m\u001b[1;36m50\u001b[0m\u001b[1;33m,\u001b[0m\u001b[1;33m\n",
      "\u001b[0m    \u001b[0mendpoint\u001b[0m\u001b[1;33m=\u001b[0m\u001b[1;32mTrue\u001b[0m\u001b[1;33m,\u001b[0m\u001b[1;33m\n",
      "\u001b[0m    \u001b[0mretstep\u001b[0m\u001b[1;33m=\u001b[0m\u001b[1;32mFalse\u001b[0m\u001b[1;33m,\u001b[0m\u001b[1;33m\n",
      "\u001b[0m    \u001b[0mdtype\u001b[0m\u001b[1;33m=\u001b[0m\u001b[1;32mNone\u001b[0m\u001b[1;33m,\u001b[0m\u001b[1;33m\n",
      "\u001b[0m    \u001b[0maxis\u001b[0m\u001b[1;33m=\u001b[0m\u001b[1;36m0\u001b[0m\u001b[1;33m,\u001b[0m\u001b[1;33m\n",
      "\u001b[0m\u001b[1;33m)\u001b[0m\u001b[1;33m\u001b[0m\u001b[1;33m\u001b[0m\u001b[0m\n",
      "\u001b[1;31mDocstring:\u001b[0m\n",
      "Return evenly spaced numbers over a specified interval.\n",
      "\n",
      "Returns `num` evenly spaced samples, calculated over the\n",
      "interval [`start`, `stop`].\n",
      "\n",
      "The endpoint of the interval can optionally be excluded.\n",
      "\n",
      ".. versionchanged:: 1.16.0\n",
      "    Non-scalar `start` and `stop` are now supported.\n",
      "\n",
      ".. versionchanged:: 1.20.0\n",
      "    Values are rounded towards ``-inf`` instead of ``0`` when an\n",
      "    integer ``dtype`` is specified. The old behavior can\n",
      "    still be obtained with ``np.linspace(start, stop, num).astype(int)``\n",
      "\n",
      "Parameters\n",
      "----------\n",
      "start : array_like\n",
      "    The starting value of the sequence.\n",
      "stop : array_like\n",
      "    The end value of the sequence, unless `endpoint` is set to False.\n",
      "    In that case, the sequence consists of all but the last of ``num + 1``\n",
      "    evenly spaced samples, so that `stop` is excluded.  Note that the step\n",
      "    size changes when `endpoint` is False.\n",
      "num : int, optional\n",
      "    Number of samples to generate. Default is 50. Must be non-negative.\n",
      "endpoint : bool, optional\n",
      "    If True, `stop` is the last sample. Otherwise, it is not included.\n",
      "    Default is True.\n",
      "retstep : bool, optional\n",
      "    If True, return (`samples`, `step`), where `step` is the spacing\n",
      "    between samples.\n",
      "dtype : dtype, optional\n",
      "    The type of the output array.  If `dtype` is not given, the data type\n",
      "    is inferred from `start` and `stop`. The inferred dtype will never be\n",
      "    an integer; `float` is chosen even if the arguments would produce an\n",
      "    array of integers.\n",
      "\n",
      "    .. versionadded:: 1.9.0\n",
      "\n",
      "axis : int, optional\n",
      "    The axis in the result to store the samples.  Relevant only if start\n",
      "    or stop are array-like.  By default (0), the samples will be along a\n",
      "    new axis inserted at the beginning. Use -1 to get an axis at the end.\n",
      "\n",
      "    .. versionadded:: 1.16.0\n",
      "\n",
      "Returns\n",
      "-------\n",
      "samples : ndarray\n",
      "    There are `num` equally spaced samples in the closed interval\n",
      "    ``[start, stop]`` or the half-open interval ``[start, stop)``\n",
      "    (depending on whether `endpoint` is True or False).\n",
      "step : float, optional\n",
      "    Only returned if `retstep` is True\n",
      "\n",
      "    Size of spacing between samples.\n",
      "\n",
      "\n",
      "See Also\n",
      "--------\n",
      "arange : Similar to `linspace`, but uses a step size (instead of the\n",
      "         number of samples).\n",
      "geomspace : Similar to `linspace`, but with numbers spaced evenly on a log\n",
      "            scale (a geometric progression).\n",
      "logspace : Similar to `geomspace`, but with the end points specified as\n",
      "           logarithms.\n",
      "\n",
      "Examples\n",
      "--------\n",
      ">>> np.linspace(2.0, 3.0, num=5)\n",
      "array([2.  , 2.25, 2.5 , 2.75, 3.  ])\n",
      ">>> np.linspace(2.0, 3.0, num=5, endpoint=False)\n",
      "array([2. ,  2.2,  2.4,  2.6,  2.8])\n",
      ">>> np.linspace(2.0, 3.0, num=5, retstep=True)\n",
      "(array([2.  ,  2.25,  2.5 ,  2.75,  3.  ]), 0.25)\n",
      "\n",
      "Graphical illustration:\n",
      "\n",
      ">>> import matplotlib.pyplot as plt\n",
      ">>> N = 8\n",
      ">>> y = np.zeros(N)\n",
      ">>> x1 = np.linspace(0, 10, N, endpoint=True)\n",
      ">>> x2 = np.linspace(0, 10, N, endpoint=False)\n",
      ">>> plt.plot(x1, y, 'o')\n",
      "[<matplotlib.lines.Line2D object at 0x...>]\n",
      ">>> plt.plot(x2, y + 0.5, 'o')\n",
      "[<matplotlib.lines.Line2D object at 0x...>]\n",
      ">>> plt.ylim([-0.5, 1])\n",
      "(-0.5, 1)\n",
      ">>> plt.show()\n",
      "\u001b[1;31mFile:\u001b[0m      c:\\users\\krist\\anaconda3\\lib\\site-packages\\numpy\\core\\function_base.py\n",
      "\u001b[1;31mType:\u001b[0m      function\n"
     ]
    }
   ],
   "source": [
    "?np.linspace"
   ]
  },
  {
   "cell_type": "markdown",
   "metadata": {},
   "source": [
    "### 1.2. <a id='toc1_2_'></a>[Math](#toc0_)\n",
    "\n",
    "Numpy arrays are designed for **mathematical operations**\n",
    "\n",
    "Operations * + - / happen element-by-element between two ndarrays."
   ]
  },
  {
   "cell_type": "code",
   "execution_count": 30,
   "metadata": {
    "slideshow": {
     "slide_type": "fragment"
    },
    "tags": []
   },
   "outputs": [
    {
     "name": "stdout",
     "output_type": "stream",
     "text": [
      "A\n",
      " [[1 0]\n",
      " [0 1]] \n",
      "B\n",
      " [[2 2]\n",
      " [2 2]]\n",
      "A+B\n",
      " [[3 2]\n",
      " [2 3]] \n",
      "\n"
     ]
    }
   ],
   "source": [
    "A = np.array([[1,0],[0,1]])\n",
    "B = np.array([[2,2],[2,2]])\n",
    "\n",
    "\n",
    "print('A\\n',A,'\\nB\\n',B)\n",
    "print('A+B\\n',A+B,'\\n') # Add 2 numpy arrays element-by-element"
   ]
  },
  {
   "cell_type": "code",
   "execution_count": 31,
   "metadata": {
    "slideshow": {
     "slide_type": "subslide"
    },
    "tags": []
   },
   "outputs": [
    {
     "name": "stdout",
     "output_type": "stream",
     "text": [
      "A-B\n",
      " [[-1 -2]\n",
      " [-2 -1]] \n",
      "\n",
      "A*B\n",
      " [[2 0]\n",
      " [0 2]] \n",
      "\n",
      "A/B\n",
      " [[0.5 0. ]\n",
      " [0.  0.5]] \n",
      "\n",
      "A@B\n",
      " [[2 2]\n",
      " [2 2]] \n",
      "\n"
     ]
    }
   ],
   "source": [
    "# More examples\n",
    "print('A-B\\n',A-B,'\\n')\n",
    "print('A*B\\n',A*B,'\\n') # element-by-element product\n",
    "print('A/B\\n',A/B,'\\n') # element-by-element division\n",
    "print('A@B\\n',A@B,'\\n') # matrix product"
   ]
  },
  {
   "cell_type": "markdown",
   "metadata": {
    "slideshow": {
     "slide_type": "subslide"
    },
    "tags": []
   },
   "source": [
    "**Broadcasting**  \n",
    "* If arrays does not fit together **broadcasting** is applied.  \n",
    "* When broadcasting, numpy uses the dimensions that **do fit** (if possible).  \n",
    "* **Simple case:** multiplying a scalar (an array with 1 element) with a larger ndarray.  "
   ]
  },
  {
   "cell_type": "code",
   "execution_count": 32,
   "metadata": {
    "slideshow": {
     "slide_type": "fragment"
    },
    "tags": []
   },
   "outputs": [
    {
     "name": "stdout",
     "output_type": "stream",
     "text": [
      "A\n",
      " [[10 20 30]\n",
      " [40 50 60]] (2, 3)\n",
      "B\n",
      " [1 2 3] (3,)\n",
      "\n",
      "Multiplication along columns\n",
      "[[ 10  40  90]\n",
      " [ 40 100 180]]\n"
     ]
    }
   ],
   "source": [
    "A = np.array([[10, 20, 30], \n",
    "              [40, 50, 60]]) # shape = (2,3) \n",
    "              \n",
    "B = np.array([1, 2, 3]) # shape = (3,) = (1,3)\n",
    "\n",
    "print('A\\n',A, A.shape)\n",
    "print('B\\n',B, B.shape) # Notice the shape 'transformation' column vector!\n",
    "print('\\nMultiplication along columns')\n",
    "print(A*B) "
   ]
  },
  {
   "cell_type": "markdown",
   "metadata": {
    "slideshow": {
     "slide_type": "subslide"
    },
    "tags": []
   },
   "source": [
    "Another example. Note that B above did not have a 2nd dimension.  \n",
    "C has explicitely 2 rows and 1 columun when created as such."
   ]
  },
  {
   "cell_type": "code",
   "execution_count": 34,
   "metadata": {
    "slideshow": {
     "slide_type": "fragment"
    },
    "tags": []
   },
   "outputs": [
    {
     "name": "stdout",
     "output_type": "stream",
     "text": [
      "[[1]\n",
      " [2]] (2, 1) \n",
      "\n",
      "[[ 10  20  30]\n",
      " [ 80 100 120]] \n",
      "\n"
     ]
    }
   ],
   "source": [
    "C = np.array([[1],[2]]) \n",
    "\n",
    "print(C, C.shape, '\\n') \n",
    "print(A*C,'\\n') # every column is multiplied by C"
   ]
  },
  {
   "attachments": {},
   "cell_type": "markdown",
   "metadata": {
    "slideshow": {
     "slide_type": "fragment"
    },
    "tags": []
   },
   "source": [
    "If you want to e.g. add arrays where broadcasting is not possible, consider **np.newaxis**. <br>\n",
    "`np.newaxis` also allows you to be more explict about the operations you want to perform."
   ]
  },
  {
   "cell_type": "code",
   "execution_count": 36,
   "metadata": {
    "slideshow": {
     "slide_type": "skip"
    },
    "tags": []
   },
   "outputs": [
    {
     "name": "stdout",
     "output_type": "stream",
     "text": [
      "[[1]\n",
      " [2]\n",
      " [3]] (3, 1) \n",
      "\n",
      "[[1 2]] (1, 2) \n",
      "\n",
      "[[1 2]\n",
      " [2 4]\n",
      " [3 6]] \n",
      "\n",
      "[[1 2 3]\n",
      " [2 4 6]]\n"
     ]
    }
   ],
   "source": [
    "A = np.array([1, 2, 3]) # Is only 1D, shape = (3,)\n",
    "B = np.array([1,2]) # Is only 1D, shape = (2,)\n",
    "\n",
    "# You cannot broadcast B on A, because neither have 2 dimensions.\n",
    "# Therefore, use newaxis\n",
    "print(A[:,np.newaxis], A[:,np.newaxis].shape, '\\n') # Is now (3,1)\n",
    "print(B[np.newaxis,:], B[np.newaxis,:].shape, '\\n') # Is now (1,2)\n",
    "\n",
    "print(A[:,np.newaxis]*B[np.newaxis,:], '\\n') # A is column vector, B is row vector\n",
    "print(A[np.newaxis,:]*B[:,np.newaxis]) # A is row vector, B is column vector"
   ]
  },
  {
   "cell_type": "markdown",
   "metadata": {
    "slideshow": {
     "slide_type": "skip"
    },
    "tags": []
   },
   "source": [
    "**More on broadcasting:** [Documentation](https://docs.scipy.org/doc/numpy-1.13.0/user/basics.broadcasting.html)."
   ]
  },
  {
   "cell_type": "markdown",
   "metadata": {
    "slideshow": {
     "slide_type": "subslide"
    },
    "tags": []
   },
   "source": [
    "A lot of **mathematical procedures** can easily be performed on numpy arrays."
   ]
  },
  {
   "cell_type": "code",
   "execution_count": 42,
   "metadata": {
    "slideshow": {
     "slide_type": "fragment"
    },
    "tags": []
   },
   "outputs": [
    {
     "name": "stdout",
     "output_type": "stream",
     "text": [
      "-2.5\n",
      "3\n",
      "4.82\n",
      "[-2.5  2.3  3.1  9.1 12.1]\n"
     ]
    }
   ],
   "source": [
    "A =  np.array([3.1, 2.3, 9.1, -2.5, 12.1])\n",
    "print(np.min(A)) # find minimum\n",
    "print(np.argmin(A)) # find index for minimum\n",
    "print(np.mean(A)) # calculate mean\n",
    "print(np.sort(A)) # sort (ascending)"
   ]
  },
  {
   "attachments": {},
   "cell_type": "markdown",
   "metadata": {
    "slideshow": {
     "slide_type": "fragment"
    },
    "tags": []
   },
   "source": [
    "**Note:** Sometimes a method can be used instead of a function, e.g. ``A.mean()``. <br> \n",
    "In numpy all methods are available as functions but not all functions are available as methods. Sometimes there are minute differences between them, like whether they return a copy or a view. <br>\n",
    "We'll tend to stick to functions."
   ]
  },
  {
   "cell_type": "markdown",
   "metadata": {},
   "source": [
    "### 1.3. <a id='toc1_3_'></a>[Indexing](#toc0_)"
   ]
  },
  {
   "cell_type": "markdown",
   "metadata": {
    "slideshow": {
     "slide_type": "fragment"
    },
    "tags": []
   },
   "source": [
    "**Multi-dimensional** indexing is done as:"
   ]
  },
  {
   "cell_type": "code",
   "execution_count": 65,
   "metadata": {
    "slideshow": {
     "slide_type": "fragment"
    },
    "tags": []
   },
   "outputs": [
    {
     "name": "stdout",
     "output_type": "stream",
     "text": [
      "[[12 13]\n",
      " [22 23]]\n",
      "X= [[21 22 23]]\n",
      "X\n",
      " [[11 12 13]\n",
      " [21 22 23]]\n",
      "\n",
      "X[0]\n",
      " [11 12 13]\n",
      "\n",
      "X[:,0]\n",
      " [11 21]\n",
      "\n",
      "X[1,2]\n",
      " 23\n",
      "\n",
      "X[0:2,1:3]\n",
      " [[12 13]\n",
      " [22 23]]\n"
     ]
    }
   ],
   "source": [
    "X = np.array([ [11, 12, 13], \n",
    "               [21, 22, 23] ])\n",
    "\n",
    "print(X[0:2,1:3])\n",
    "print('X=',X[-1:,:])\n",
    "\n",
    "print('X\\n',X)\n",
    "print('\\nX[0]\\n',X[0]) # first row, all columns (this is implictly X[0,:])\n",
    "print('\\nX[:,0]\\n',X[:,0]) # all rows, first column\n",
    "print('\\nX[1,2]\\n',X[1,2]) # second row, third column\n",
    "print('\\nX[0:2,1:3]\\n',X[0:2,1:3]) # rows 1-2, Column 2-3"
   ]
  },
  {
   "attachments": {},
   "cell_type": "markdown",
   "metadata": {
    "slideshow": {
     "slide_type": "subslide"
    },
    "tags": []
   },
   "source": [
    "Indexes can be **logical**. Logical 'and' is `&` and logical 'or' is `|`. <br>\n",
    "(how to type `|` varies a lot across keyboards, you should be able to find out how to type it by searching \"vertical line keyboard\" for your computer)"
   ]
  },
  {
   "cell_type": "code",
   "execution_count": 67,
   "metadata": {
    "slideshow": {
     "slide_type": "fragment"
    },
    "tags": []
   },
   "outputs": [
    {
     "name": "stdout",
     "output_type": "stream",
     "text": [
      "[ True  True False False False  True False False]\n",
      "[1 2 2] \n",
      "\n",
      "(array([0, 1, 5], dtype=int64),)\n",
      "(array([0, 1, 5], dtype=int64),)\n"
     ]
    }
   ],
   "source": [
    "A = np.array([1,2,3,4,1,2,3,4])\n",
    "B = np.array([3,3,3,3,2,3,2,2])\n",
    "I = (A < 3) & (B == 3) # note & instead of 'and', indicates element-wise comparison\n",
    "print(I)\n",
    "print(A[I],'\\n')\n",
    "\n",
    "# Two ways of getting indices of the elements == True\n",
    "print(np.where(I)) # A 'where' clause normally asks for where the True elements are.\n",
    "print(np.nonzero(I)) # Because a True boolean is a 1 while a False is a 0."
   ]
  },
  {
   "cell_type": "code",
   "execution_count": 68,
   "metadata": {
    "slideshow": {
     "slide_type": "fragment"
    },
    "tags": []
   },
   "outputs": [
    {
     "name": "stdout",
     "output_type": "stream",
     "text": [
      "[1 2 3 4 1 2]\n"
     ]
    }
   ],
   "source": [
    "I = (A < 3) | (B == 3) # note | instead of 'or'\n",
    "print(A[I])"
   ]
  },
  {
   "cell_type": "markdown",
   "metadata": {},
   "source": [
    "### 1.4. <a id='toc1_4_'></a>[Multidimensional arrays](#toc0_)"
   ]
  },
  {
   "attachments": {},
   "cell_type": "markdown",
   "metadata": {},
   "source": [
    "Arrays can have more dimensions than two, they become more difficult to understand, but can be really useful. <br>\n",
    "The python way of understanding them is as matrices storing matrices. <br>\n",
    "In the shape attribute, the rows and columns of the most iner matrix is then the second last and last elements of the shape"
   ]
  },
  {
   "cell_type": "code",
   "execution_count": 69,
   "metadata": {},
   "outputs": [
    {
     "name": "stdout",
     "output_type": "stream",
     "text": [
      "(3, 2, 2)\n",
      "[[[1 2]\n",
      "  [3 4]]\n",
      "\n",
      " [[1 2]\n",
      "  [3 4]]\n",
      "\n",
      " [[1 2]\n",
      "  [3 4]]]\n"
     ]
    }
   ],
   "source": [
    "A_i = np.array([[1,2],\n",
    "                [3,4]])\n",
    "A = np.array([A_i,A_i,A_i])\n",
    "\n",
    "print(A.shape) # (Number of matrices,rows,cols)\n",
    "print(A)"
   ]
  },
  {
   "cell_type": "code",
   "execution_count": 70,
   "metadata": {},
   "outputs": [
    {
     "name": "stdout",
     "output_type": "stream",
     "text": [
      "(2, 3, 2, 2)\n",
      "[[[[1 2]\n",
      "   [3 4]]\n",
      "\n",
      "  [[1 2]\n",
      "   [3 4]]\n",
      "\n",
      "  [[1 2]\n",
      "   [3 4]]]\n",
      "\n",
      "\n",
      " [[[5 5]\n",
      "   [5 5]]\n",
      "\n",
      "  [[5 5]\n",
      "   [5 5]]\n",
      "\n",
      "  [[5 5]\n",
      "   [5 5]]]]\n"
     ]
    }
   ],
   "source": [
    "B_i = np.array([[5,5],\n",
    "                [5,5]])\n",
    "\n",
    "AB = np.array([[A_i,A_i,A_i],\n",
    "                [B_i,B_i,B_i]])\n",
    "print(AB.shape) # (rows in matrix of matrices , columns in matrix of matrices, rows, columns )\n",
    "print(AB)"
   ]
  },
  {
   "attachments": {},
   "cell_type": "markdown",
   "metadata": {},
   "source": [
    "**Note:** the inner matrices (A_i and B_i) should be of the same shape"
   ]
  },
  {
   "cell_type": "markdown",
   "metadata": {},
   "source": [
    "### 1.5. <a id='toc1_5_'></a>[List of good things to know](#toc0_)"
   ]
  },
  {
   "cell_type": "markdown",
   "metadata": {
    "slideshow": {
     "slide_type": "fragment"
    },
    "tags": []
   },
   "source": [
    "**Attributes and methods** to know:\n",
    "\n",
    "- size / ndim / shape\n",
    "- ravel / reshape / sort\n",
    "- copy"
   ]
  },
  {
   "cell_type": "markdown",
   "metadata": {
    "slideshow": {
     "slide_type": "fragment"
    },
    "tags": []
   },
   "source": [
    "**Functions** to know:\n",
    "\n",
    "- array / empty / zeros / ones / linspace\n",
    "- mean / median / std / var / sum / percentile\n",
    "- min/max, argmin/argmax / fmin / fmax / sort / clip\n",
    "- meshgrid / hstack / vstack / concatenate / tile / insert\n",
    "- allclose / isnan / isinf / isfinite / any / all"
   ]
  },
  {
   "cell_type": "markdown",
   "metadata": {
    "slideshow": {
     "slide_type": "fragment"
    },
    "tags": []
   },
   "source": [
    "**Concepts** to know:\n",
    "\n",
    "- view vs. copy\n",
    "- broadcasting\n",
    "- logical indexing"
   ]
  },
  {
   "attachments": {},
   "cell_type": "markdown",
   "metadata": {},
   "source": [
    "The important thing is not to try to memorize all of this. <br> \n",
    "The important thing is to understand the logic of how numpy works and get an idea about the things numpy can help you with.\n",
    "Googling numpy and what mathematical operation you want to do will more often than not, give a numpy function that does what you're looking for. \n",
    "As you code during your projects, hopefully you'll then memorize the functiontionalities you find the most useful."
   ]
  },
  {
   "cell_type": "markdown",
   "metadata": {},
   "source": [
    "### 1.6. <a id='toc1_6_'></a>[Small quiz](#toc0_)"
   ]
  },
  {
   "attachments": {},
   "cell_type": "markdown",
   "metadata": {
    "slideshow": {
     "slide_type": "subslide"
    },
    "tags": []
   },
   "source": [
    "What follows is a number of codeblocks, with print statements that are commented out. Try to predict what will be printed, and check if you're correct afterwards."
   ]
  },
  {
   "cell_type": "code",
   "execution_count": 80,
   "metadata": {},
   "outputs": [
    {
     "name": "stdout",
     "output_type": "stream",
     "text": [
      "(array([0], dtype=int64),)\n"
     ]
    }
   ],
   "source": [
    "A = np.array([1, 2, 3, 4])\n",
    "B = np.array([3,3,2,2])\n",
    "I = (B==3) & A>=1\n",
    "print(np.nonzero(I))"
   ]
  },
  {
   "cell_type": "code",
   "execution_count": 87,
   "metadata": {},
   "outputs": [
    {
     "name": "stdout",
     "output_type": "stream",
     "text": [
      "[[2. 2.]\n",
      " [2. 2.]\n",
      " [2. 2.]\n",
      " [2. 2.]] \n",
      "\n",
      "[3. 3.]\n"
     ]
    }
   ],
   "source": [
    "A = np.ones((4,2))*2\n",
    "B = A[0:2,1]+ 1 \n",
    "print(A,\"\\n\")\n",
    "\n",
    "print(B)"
   ]
  },
  {
   "cell_type": "code",
   "execution_count": 88,
   "metadata": {},
   "outputs": [
    {
     "name": "stdout",
     "output_type": "stream",
     "text": [
      "[3. 3.]\n"
     ]
    }
   ],
   "source": [
    "A = np.ones((4,2))*2\n",
    "B = A[0:2,1]+ 1 \n",
    "print(B)"
   ]
  },
  {
   "cell_type": "code",
   "execution_count": 94,
   "metadata": {},
   "outputs": [
    {
     "name": "stdout",
     "output_type": "stream",
     "text": [
      "[[ 5.  5.]\n",
      " [10. 10.]] \n",
      " [[ 5.  5.]\n",
      " [10. 10.]]\n",
      "True\n"
     ]
    }
   ],
   "source": [
    "A = np.ones((2,2))\n",
    "B = np.array([[5],[10]])\n",
    "C=A*B\n",
    "D=B*A\n",
    "print(C,\"\\n\",D)\n",
    "print(np.all(A*B==B*A))"
   ]
  },
  {
   "cell_type": "code",
   "execution_count": 96,
   "metadata": {
    "slideshow": {
     "slide_type": "fragment"
    },
    "tags": []
   },
   "outputs": [
    {
     "name": "stdout",
     "output_type": "stream",
     "text": [
      "[4 5]\n",
      "6\n"
     ]
    }
   ],
   "source": [
    "A = np.array([1,2,3,4,5])\n",
    "B = A[3:]\n",
    "print(B)\n",
    "B[:] = 0\n",
    "print(np.sum(A))"
   ]
  },
  {
   "cell_type": "markdown",
   "metadata": {},
   "source": [
    "## 2. <a id='toc2_'></a>[Extra: Memory](#toc0_)"
   ]
  },
  {
   "cell_type": "markdown",
   "metadata": {
    "slideshow": {
     "slide_type": "skip"
    },
    "tags": []
   },
   "source": [
    "Recall that matrices in memory is structured in **rows** (as opposed to columns). You can see how B (the unravelled version of A) looks - it's a row.. "
   ]
  },
  {
   "cell_type": "code",
   "execution_count": 98,
   "metadata": {
    "slideshow": {
     "slide_type": "skip"
    },
    "tags": []
   },
   "outputs": [
    {
     "name": "stdout",
     "output_type": "stream",
     "text": [
      "(2, 2) [[3.1 4.2]\n",
      " [5.7 9.3]]\n",
      "(4,) [3.1 4.2 5.7 9.3]\n"
     ]
    }
   ],
   "source": [
    "A = np.array([[3.1,4.2],[5.7,9.3]])\n",
    "B = A.ravel() # one-dimensional view of A\n",
    "print(A.shape,A)\n",
    "print(B.shape,B)"
   ]
  },
  {
   "cell_type": "code",
   "execution_count": null,
   "metadata": {},
   "outputs": [],
   "source": []
  }
 ],
 "metadata": {
  "kernelspec": {
   "display_name": "base",
   "language": "python",
   "name": "python3"
  },
  "language_info": {
   "codemirror_mode": {
    "name": "ipython",
    "version": 3
   },
   "file_extension": ".py",
   "mimetype": "text/x-python",
   "name": "python",
   "nbconvert_exporter": "python",
   "pygments_lexer": "ipython3",
   "version": "3.9.16"
  },
  "orig_nbformat": 4,
  "vscode": {
   "interpreter": {
    "hash": "2164e4eaf16dd6cd705646718fcef4f5f263bad5b7d103e76e9308c0132ca24b"
   }
  }
 },
 "nbformat": 4,
 "nbformat_minor": 2
}
