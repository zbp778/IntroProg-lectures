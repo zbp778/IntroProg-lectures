{
 "cells": [
  {
   "cell_type": "markdown",
   "metadata": {},
   "source": [
    "# Print"
   ]
  },
  {
   "cell_type": "markdown",
   "metadata": {},
   "source": [
    "**Table of contents**<a id='toc0_'></a>    \n",
    "- 1. [Describing a utility function](#toc1_)    \n",
    "  - 1.1. [Print to screen](#toc1_1_)    \n",
    "    - 1.1.1. [F-strings](#toc1_1_1_)    \n",
    "    - 1.1.2. [Helpful links](#toc1_1_2_)    \n",
    "  - 1.2. [Printing outputs to a file](#toc1_2_)    \n",
    "- 2. [Advanced: LaTeX tables](#toc2_)    \n",
    "\n",
    "<!-- vscode-jupyter-toc-config\n",
    "\tnumbering=true\n",
    "\tanchor=true\n",
    "\tflat=false\n",
    "\tminLevel=2\n",
    "\tmaxLevel=6\n",
    "\t/vscode-jupyter-toc-config -->\n",
    "<!-- THIS CELL WILL BE REPLACED ON TOC UPDATE. DO NOT WRITE YOUR TEXT IN THIS CELL -->"
   ]
  },
  {
   "cell_type": "markdown",
   "metadata": {},
   "source": [
    "## 1. <a id='toc1_'></a>[Describing a utility function](#toc0_)"
   ]
  },
  {
   "attachments": {},
   "cell_type": "markdown",
   "metadata": {
    "slideshow": {
     "slide_type": "fragment"
    },
    "tags": []
   },
   "source": [
    "\n",
    "Consider a Cobb-Douglas utility function\n",
    "\n",
    "$$\n",
    "u(x_1,x_2) = x_1^{\\alpha}x_2^{1-\\alpha}\n",
    "$$\n",
    "\n",
    "Let's define it as a python function:"
   ]
  },
  {
   "cell_type": "code",
   "execution_count": null,
   "metadata": {
    "slideshow": {
     "slide_type": "fragment"
    },
    "tags": []
   },
   "outputs": [],
   "source": [
    "def u_func(x1,x2,alpha=0.50):\n",
    "    return x1**alpha * x2**(1-alpha)"
   ]
  },
  {
   "cell_type": "markdown",
   "metadata": {
    "slideshow": {
     "slide_type": "fragment"
    },
    "tags": []
   },
   "source": [
    "`x1` and `x2` are positional arguments.  \n",
    "`alpha` is a keyword argument with default value 0.50"
   ]
  },
  {
   "cell_type": "markdown",
   "metadata": {},
   "source": [
    "### 1.1. <a id='toc1_1_'></a>[Print to screen](#toc0_)"
   ]
  },
  {
   "cell_type": "markdown",
   "metadata": {},
   "source": [
    "#### 1.1.1. <a id='toc1_1_1_'></a>[F-strings](#toc0_)"
   ]
  },
  {
   "attachments": {},
   "cell_type": "markdown",
   "metadata": {
    "slideshow": {
     "slide_type": "fragment"
    },
    "tags": []
   },
   "source": [
    "Print a **single evaluation** of the utility function.  \n",
    "\n",
    "`f'some text'` is called a \"formatted string\"  \n",
    "`f'{x1:.3f}'` prints variable x1 as floating point number with 3 decimals\n"
   ]
  },
  {
   "cell_type": "code",
   "execution_count": 20,
   "metadata": {
    "slideshow": {
     "slide_type": "fragment"
    },
    "tags": []
   },
   "outputs": [
    {
     "name": "stdout",
     "output_type": "stream",
     "text": [
      "x1 = 1.000, x2 = 3.000 -> u = 1.732\n"
     ]
    }
   ],
   "source": [
    "x1 = 1\n",
    "x2 = 3\n",
    "u = u_func(x1,x2)\n",
    "\n",
    "print(f'x1 = {x1:.3f}, x2 = {x2:.3f} -> u = {u:.3f}') "
   ]
  },
  {
   "cell_type": "markdown",
   "metadata": {
    "slideshow": {
     "slide_type": "subslide"
    },
    "tags": []
   },
   "source": [
    "Print **multiple evaluations** of the utility function."
   ]
  },
  {
   "cell_type": "code",
   "execution_count": 29,
   "metadata": {
    "slideshow": {
     "slide_type": "fragment"
    },
    "tags": []
   },
   "outputs": [
    {
     "name": "stdout",
     "output_type": "stream",
     "text": [
      "x1 = 2.000, x2 = 3.000 -> u = 2.711\n",
      "x1 = 4.000, x2 = 3.000 -> u = 3.224\n",
      "x1 = 6.000, x2 = 3.000 -> u = 3.568\n",
      "x1 = 8.000, x2 = 3.000 -> u = 3.834\n"
     ]
    }
   ],
   "source": [
    "x1_list = [2,4,6,8]\n",
    "x2 = 3\n",
    "\n",
    "for x1 in x1_list: # loop through each element in x1_list\n",
    "    u = u_func(x1,x2,alpha=0.25)\n",
    "    print(f'x1 = {x1:.3f}, x2 = {x2:.3f} -> u = {u:.3f}')"
   ]
  },
  {
   "cell_type": "markdown",
   "metadata": {
    "slideshow": {
     "slide_type": "subslide"
    },
    "tags": []
   },
   "source": [
    "We can do this in a nicer way:"
   ]
  },
  {
   "cell_type": "code",
   "execution_count": 30,
   "metadata": {
    "slideshow": {
     "slide_type": "fragment"
    },
    "tags": []
   },
   "outputs": [
    {
     "name": "stdout",
     "output_type": "stream",
     "text": [
      " 0: x1 = 2   x2 = 3  -> u = 2.711 \n",
      " 1: x1 = 4   x2 = 3  -> u = 3.224 \n",
      " 2: x1 = 6   x2 = 3  -> u = 3.568 \n",
      " 3: x1 = 8   x2 = 3  -> u = 3.834 \n"
     ]
    }
   ],
   "source": [
    "for i,x1 in enumerate(x1_list): # i is a counter\n",
    "    u = u_func(x1,x2,alpha=0.25)\n",
    "    print(f'{i:2d}: x1 = {x1:<3d} x2 = {x2:<2d} -> u = {u:<6.3f}')\n",
    "    \n",
    "# {i:2d}: integer a width of 2 (right-aligned)\n",
    "# {x1:<3d}: integer a width of 2 (<, left-aligned)\n",
    "# {u:<6.3f}: float width of 6 and 3 decimals (<, left-aligned)"
   ]
  },
  {
   "cell_type": "markdown",
   "metadata": {},
   "source": [
    "#### 1.1.2. <a id='toc1_1_2_'></a>[Helpful links](#toc0_)\n",
    "\n",
    "Strings have many methods, e.g. for switching between upper and lower case, or removing leading space etc. A list can be found [here](https://www.w3schools.com/python/python_ref_string.asp) <br>\n",
    "\n",
    "[This guide](https://www.python-course.eu/python3_formatted_output.php) and [this guide](https://realpython.com/python-formatted-output/) also contain more info on output formatting.  <br>\n",
    "\n",
    "`f-strings` are really good for printing and formatting floats, including left/right aligning padding with e.g. spaces or zeros. Both above guides discusses f-strings. A more consise list of possible options can be found [here](https://mkaz.blog/code/python-string-format-cookbook/#f-strings) (The inital examples use a different approach to formatting, but the options can also be used in f-strings)"
   ]
  },
  {
   "cell_type": "markdown",
   "metadata": {
    "slideshow": {
     "slide_type": "subslide"
    },
    "tags": []
   },
   "source": [
    "**Task**: Write a loop printing the results shown in the answer below."
   ]
  },
  {
   "cell_type": "code",
   "execution_count": null,
   "metadata": {
    "tags": []
   },
   "outputs": [],
   "source": [
    "# write your code here"
   ]
  },
  {
   "cell_type": "markdown",
   "metadata": {
    "slideshow": {
     "slide_type": "skip"
    },
    "tags": []
   },
   "source": [
    "**Output:**"
   ]
  },
  {
   "cell_type": "raw",
   "metadata": {},
   "source": [
    "0: u(2.00,3.00) = 2.7108\n",
    "1: u(4.00,3.00) = 3.2237\n",
    "2: u(6.00,3.00) = 3.5676\n",
    "3: u(8.00,3.00) = 3.8337"
   ]
  },
  {
   "attachments": {},
   "cell_type": "markdown",
   "metadata": {},
   "source": [
    "**Answer**:"
   ]
  },
  {
   "cell_type": "code",
   "execution_count": 32,
   "metadata": {},
   "outputs": [
    {
     "name": "stdout",
     "output_type": "stream",
     "text": [
      "0: u(2.00,3.00) = 2.7108\n",
      "1: u(4.00,3.00) = 3.2237\n",
      "2: u(6.00,3.00) = 3.5676\n",
      "3: u(8.00,3.00) = 3.8337\n"
     ]
    }
   ],
   "source": [
    "for i,x1 in enumerate(x1_list):\n",
    "    u = u_func(x1,x2,alpha=0.25)\n",
    "    print(f'{i:1d}: u({x1:.2f},{x2:.2f}) = {u:<6.4f}')"
   ]
  },
  {
   "cell_type": "markdown",
   "metadata": {},
   "source": [
    "### 1.2. <a id='toc1_2_'></a>[Printing outputs to a file](#toc0_)"
   ]
  },
  {
   "cell_type": "markdown",
   "metadata": {
    "slideshow": {
     "slide_type": "fragment"
    },
    "tags": []
   },
   "source": [
    "Imagine you wanted to store outputs from your model in order to put it into a paper. Then you want it in a file..\n",
    "\n",
    "1. Create a text-file using the `with` operator. \n",
    "2. Write to the file in a loop using the reference variable `file_ref`:"
   ]
  },
  {
   "cell_type": "code",
   "execution_count": 35,
   "metadata": {
    "slideshow": {
     "slide_type": "fragment"
    },
    "tags": []
   },
   "outputs": [],
   "source": [
    "with open('somefile.txt', 'w') as file_ref: # 'w' is for 'write'\n",
    "    \n",
    "    for i, x1 in enumerate(x1_list):\n",
    "        # Calculate utility at loop iteration\n",
    "        u = u_func(x1,x2,alpha=0.25)\n",
    "        \n",
    "        # Create a formatted line of text\n",
    "        text_line=f'{i+10:2d}: x1 = {x1:<6.3f} x2 = {x2:<6.3f} -> u = {u:<6.3f}'\n",
    "        \n",
    "        # Write the line of tex to the file using the \n",
    "        file_ref.write(text_line + '\\n') # \\n gives a lineshift\n",
    "\n",
    "# note: the with clause ensures that the file is properly closed afterwards"
   ]
  },
  {
   "cell_type": "markdown",
   "metadata": {
    "slideshow": {
     "slide_type": "subslide"
    },
    "tags": []
   },
   "source": [
    "You can also **read** from a file in the same manner, just using `r` instead of `w`.  \n",
    "Open a text-file and read the lines in it and then print them:"
   ]
  },
  {
   "cell_type": "code",
   "execution_count": 41,
   "metadata": {
    "slideshow": {
     "slide_type": "fragment"
    },
    "tags": []
   },
   "outputs": [
    {
     "name": "stdout",
     "output_type": "stream",
     "text": [
      "10: x1 = 2.000  x2 = 3.000  -> u = 2.711 \n",
      "11: x1 = 4.000  x2 = 3.000  -> u = 3.224 \n",
      "12: x1 = 6.000  x2 = 3.000  -> u = 3.568 \n",
      "13: x1 = 8.000  x2 = 3.000  -> u = 3.834 \n"
     ]
    }
   ],
   "source": [
    "with open('somefile.txt', 'r') as file_ref: # 'r' is for 'read'\n",
    "    \n",
    "    # Loading ALL file content into the object lines\n",
    "    lines = file_ref.readlines()\n",
    "    \n",
    "    # Printing each loaded line by loop\n",
    "    for line in lines:\n",
    "        print(line,end='') # end='' removes the extra lineshift print creates"
   ]
  },
  {
   "cell_type": "markdown",
   "metadata": {},
   "source": [
    "> **Note:** You could also write tables in LaTeX format and the import them in your LaTeX document."
   ]
  },
  {
   "cell_type": "markdown",
   "metadata": {},
   "source": [
    "**Question:** was the loop inside the `with` operator strictly necessary?"
   ]
  },
  {
   "cell_type": "markdown",
   "metadata": {},
   "source": [
    "## 2. <a id='toc2_'></a>[Advanced: LaTeX tables](#toc0_)"
   ]
  },
  {
   "attachments": {},
   "cell_type": "markdown",
   "metadata": {},
   "source": [
    "Feel free to skip this part of the notebook if you don't use LaTeX or just would rather come back to this section when you actaully need to make a table. <br>\n",
    "\n",
    "Add some point when doing computational economics you will likely want to output you results to tables that you can put in a paper. <br>\n",
    "One way to do that is to make latex tables. This won't be very relevant directly for this course since you'll hand in your assignments in notebooks and py-files, but hopefully be helpful in the future. <br>\n",
    "If you're completely fluent in latex code you can just make loops and functions that write the latex tables you desire. For mortals there is an easier way by using the Pandas library, which you might have seen in DataCamp and will learn more about in later notebooks. <br>\n",
    "\n",
    "Let's try to recreate the output printed above as an latex table. First step is to make a Pandas DataFrame which can the be saved as a latex table.\n"
   ]
  },
  {
   "cell_type": "code",
   "execution_count": 43,
   "metadata": {},
   "outputs": [],
   "source": [
    "import pandas as pd"
   ]
  },
  {
   "cell_type": "code",
   "execution_count": 45,
   "metadata": {},
   "outputs": [
    {
     "name": "stdout",
     "output_type": "stream",
     "text": [
      "[2, 4, 6, 8]\n",
      "[3, 3, 3, 3]\n",
      "[2.7108060108295344, 3.2237097954706257, 3.567621345008163, 3.8336586254776344]\n"
     ]
    }
   ],
   "source": [
    "# Remember we have a list of x1\n",
    "print(x1_list)\n",
    "\n",
    "# We also want a list of x2:\n",
    "x2_list = [3 for x1 in x1_list]\n",
    "print(x2_list)\n",
    "\n",
    "# And a list of u(x1,x2):\n",
    "u_list = [u_func(x1,x2,alpha=0.25) for x1,x2 in zip(x1_list,x2_list)]\n",
    "print(u_list)\n"
   ]
  },
  {
   "cell_type": "code",
   "execution_count": 46,
   "metadata": {},
   "outputs": [
    {
     "data": {
      "text/html": [
       "<div>\n",
       "<style scoped>\n",
       "    .dataframe tbody tr th:only-of-type {\n",
       "        vertical-align: middle;\n",
       "    }\n",
       "\n",
       "    .dataframe tbody tr th {\n",
       "        vertical-align: top;\n",
       "    }\n",
       "\n",
       "    .dataframe thead th {\n",
       "        text-align: right;\n",
       "    }\n",
       "</style>\n",
       "<table border=\"1\" class=\"dataframe\">\n",
       "  <thead>\n",
       "    <tr style=\"text-align: right;\">\n",
       "      <th></th>\n",
       "      <th>x1</th>\n",
       "      <th>x2</th>\n",
       "      <th>u</th>\n",
       "    </tr>\n",
       "  </thead>\n",
       "  <tbody>\n",
       "    <tr>\n",
       "      <th>0</th>\n",
       "      <td>2</td>\n",
       "      <td>3</td>\n",
       "      <td>2.710806</td>\n",
       "    </tr>\n",
       "    <tr>\n",
       "      <th>1</th>\n",
       "      <td>4</td>\n",
       "      <td>3</td>\n",
       "      <td>3.223710</td>\n",
       "    </tr>\n",
       "    <tr>\n",
       "      <th>2</th>\n",
       "      <td>6</td>\n",
       "      <td>3</td>\n",
       "      <td>3.567621</td>\n",
       "    </tr>\n",
       "    <tr>\n",
       "      <th>3</th>\n",
       "      <td>8</td>\n",
       "      <td>3</td>\n",
       "      <td>3.833659</td>\n",
       "    </tr>\n",
       "  </tbody>\n",
       "</table>\n",
       "</div>"
      ],
      "text/plain": [
       "   x1  x2         u\n",
       "0   2   3  2.710806\n",
       "1   4   3  3.223710\n",
       "2   6   3  3.567621\n",
       "3   8   3  3.833659"
      ]
     },
     "execution_count": 46,
     "metadata": {},
     "output_type": "execute_result"
    }
   ],
   "source": [
    "# Now we make the output into a DataFrame\n",
    "df = pd.DataFrame().from_dict({'x1':x1_list,'x2':x2_list,'u':u_list})\n",
    "\n",
    "df"
   ]
  },
  {
   "attachments": {},
   "cell_type": "markdown",
   "metadata": {},
   "source": [
    "Then we can print the dataframe into a latex table"
   ]
  },
  {
   "cell_type": "code",
   "execution_count": 47,
   "metadata": {},
   "outputs": [
    {
     "name": "stdout",
     "output_type": "stream",
     "text": [
      "\\begin{tabular}{lrrr}\n",
      " & x1 & x2 & u \\\\\n",
      "0 & 2 & 3 & 2.710806 \\\\\n",
      "1 & 4 & 3 & 3.223710 \\\\\n",
      "2 & 6 & 3 & 3.567621 \\\\\n",
      "3 & 8 & 3 & 3.833659 \\\\\n",
      "\\end{tabular}\n",
      "\n"
     ]
    }
   ],
   "source": [
    "print(df.style.to_latex())"
   ]
  },
  {
   "attachments": {},
   "cell_type": "markdown",
   "metadata": {},
   "source": [
    "We can hide the index counter:"
   ]
  },
  {
   "cell_type": "code",
   "execution_count": 48,
   "metadata": {},
   "outputs": [
    {
     "name": "stdout",
     "output_type": "stream",
     "text": [
      "\\begin{tabular}{rrr}\n",
      "x1 & x2 & u \\\\\n",
      "2 & 3 & 2.710806 \\\\\n",
      "4 & 3 & 3.223710 \\\\\n",
      "6 & 3 & 3.567621 \\\\\n",
      "8 & 3 & 3.833659 \\\\\n",
      "\\end{tabular}\n",
      "\n"
     ]
    }
   ],
   "source": [
    "print(df.style.hide(axis=\"index\").to_latex())"
   ]
  },
  {
   "attachments": {},
   "cell_type": "markdown",
   "metadata": {},
   "source": [
    "The number of digits for u is way to many:"
   ]
  },
  {
   "cell_type": "code",
   "execution_count": 49,
   "metadata": {},
   "outputs": [
    {
     "data": {
      "text/html": [
       "<div>\n",
       "<style scoped>\n",
       "    .dataframe tbody tr th:only-of-type {\n",
       "        vertical-align: middle;\n",
       "    }\n",
       "\n",
       "    .dataframe tbody tr th {\n",
       "        vertical-align: top;\n",
       "    }\n",
       "\n",
       "    .dataframe thead th {\n",
       "        text-align: right;\n",
       "    }\n",
       "</style>\n",
       "<table border=\"1\" class=\"dataframe\">\n",
       "  <thead>\n",
       "    <tr style=\"text-align: right;\">\n",
       "      <th></th>\n",
       "      <th>x1</th>\n",
       "      <th>x2</th>\n",
       "      <th>u</th>\n",
       "    </tr>\n",
       "  </thead>\n",
       "  <tbody>\n",
       "    <tr>\n",
       "      <th>0</th>\n",
       "      <td>2</td>\n",
       "      <td>3</td>\n",
       "      <td>2.711 utils</td>\n",
       "    </tr>\n",
       "    <tr>\n",
       "      <th>1</th>\n",
       "      <td>4</td>\n",
       "      <td>3</td>\n",
       "      <td>3.224 utils</td>\n",
       "    </tr>\n",
       "    <tr>\n",
       "      <th>2</th>\n",
       "      <td>6</td>\n",
       "      <td>3</td>\n",
       "      <td>3.568 utils</td>\n",
       "    </tr>\n",
       "    <tr>\n",
       "      <th>3</th>\n",
       "      <td>8</td>\n",
       "      <td>3</td>\n",
       "      <td>3.834 utils</td>\n",
       "    </tr>\n",
       "  </tbody>\n",
       "</table>\n",
       "</div>"
      ],
      "text/plain": [
       "   x1  x2            u\n",
       "0   2   3  2.711 utils\n",
       "1   4   3  3.224 utils\n",
       "2   6   3  3.568 utils\n",
       "3   8   3  3.834 utils"
      ]
     },
     "execution_count": 49,
     "metadata": {},
     "output_type": "execute_result"
    }
   ],
   "source": [
    "df['u'] = df['u'].apply(lambda x: f'{x:2.3f} utils')\n",
    "df"
   ]
  },
  {
   "attachments": {},
   "cell_type": "markdown",
   "metadata": {},
   "source": [
    "We can also write latex math directly in the dataframe:"
   ]
  },
  {
   "cell_type": "code",
   "execution_count": 51,
   "metadata": {},
   "outputs": [
    {
     "data": {
      "text/html": [
       "<div>\n",
       "<style scoped>\n",
       "    .dataframe tbody tr th:only-of-type {\n",
       "        vertical-align: middle;\n",
       "    }\n",
       "\n",
       "    .dataframe tbody tr th {\n",
       "        vertical-align: top;\n",
       "    }\n",
       "\n",
       "    .dataframe thead th {\n",
       "        text-align: right;\n",
       "    }\n",
       "</style>\n",
       "<table border=\"1\" class=\"dataframe\">\n",
       "  <thead>\n",
       "    <tr style=\"text-align: right;\">\n",
       "      <th></th>\n",
       "      <th>$x_{1}$</th>\n",
       "      <th>$x_{2}$</th>\n",
       "      <th>$u\\left(x_{1},x_{2}\\right)$</th>\n",
       "    </tr>\n",
       "  </thead>\n",
       "  <tbody>\n",
       "    <tr>\n",
       "      <th>0</th>\n",
       "      <td>2</td>\n",
       "      <td>3</td>\n",
       "      <td>2.711 utils</td>\n",
       "    </tr>\n",
       "    <tr>\n",
       "      <th>1</th>\n",
       "      <td>4</td>\n",
       "      <td>3</td>\n",
       "      <td>3.224 utils</td>\n",
       "    </tr>\n",
       "    <tr>\n",
       "      <th>2</th>\n",
       "      <td>6</td>\n",
       "      <td>3</td>\n",
       "      <td>3.568 utils</td>\n",
       "    </tr>\n",
       "    <tr>\n",
       "      <th>3</th>\n",
       "      <td>8</td>\n",
       "      <td>3</td>\n",
       "      <td>3.834 utils</td>\n",
       "    </tr>\n",
       "  </tbody>\n",
       "</table>\n",
       "</div>"
      ],
      "text/plain": [
       "   $x_{1}$  $x_{2}$ $u\\left(x_{1},x_{2}\\right)$\n",
       "0        2        3                 2.711 utils\n",
       "1        4        3                 3.224 utils\n",
       "2        6        3                 3.568 utils\n",
       "3        8        3                 3.834 utils"
      ]
     },
     "execution_count": 51,
     "metadata": {},
     "output_type": "execute_result"
    }
   ],
   "source": [
    "df.rename(columns= {'x1':r'$x_{1}$', 'x2':r'$x_{2}$' , 'u':r'$u\\left(x_{1},x_{2}\\right)$'},inplace=True)\n",
    "df"
   ]
  },
  {
   "attachments": {},
   "cell_type": "markdown",
   "metadata": {},
   "source": [
    "And we can add a first column with some more information"
   ]
  },
  {
   "cell_type": "code",
   "execution_count": 52,
   "metadata": {},
   "outputs": [
    {
     "data": {
      "text/html": [
       "<div>\n",
       "<style scoped>\n",
       "    .dataframe tbody tr th:only-of-type {\n",
       "        vertical-align: middle;\n",
       "    }\n",
       "\n",
       "    .dataframe tbody tr th {\n",
       "        vertical-align: top;\n",
       "    }\n",
       "\n",
       "    .dataframe thead th {\n",
       "        text-align: right;\n",
       "    }\n",
       "</style>\n",
       "<table border=\"1\" class=\"dataframe\">\n",
       "  <thead>\n",
       "    <tr style=\"text-align: right;\">\n",
       "      <th></th>\n",
       "      <th>$x_{1}$</th>\n",
       "      <th>$x_{2}$</th>\n",
       "      <th>$u\\left(x_{1},x_{2}\\right)$</th>\n",
       "    </tr>\n",
       "  </thead>\n",
       "  <tbody>\n",
       "    <tr>\n",
       "      <th>a</th>\n",
       "      <td>2</td>\n",
       "      <td>3</td>\n",
       "      <td>2.711 utils</td>\n",
       "    </tr>\n",
       "    <tr>\n",
       "      <th>b</th>\n",
       "      <td>4</td>\n",
       "      <td>3</td>\n",
       "      <td>3.224 utils</td>\n",
       "    </tr>\n",
       "    <tr>\n",
       "      <th>c</th>\n",
       "      <td>6</td>\n",
       "      <td>3</td>\n",
       "      <td>3.568 utils</td>\n",
       "    </tr>\n",
       "    <tr>\n",
       "      <th>d</th>\n",
       "      <td>8</td>\n",
       "      <td>3</td>\n",
       "      <td>3.834 utils</td>\n",
       "    </tr>\n",
       "  </tbody>\n",
       "</table>\n",
       "</div>"
      ],
      "text/plain": [
       "   $x_{1}$  $x_{2}$ $u\\left(x_{1},x_{2}\\right)$\n",
       "a        2        3                 2.711 utils\n",
       "b        4        3                 3.224 utils\n",
       "c        6        3                 3.568 utils\n",
       "d        8        3                 3.834 utils"
      ]
     },
     "execution_count": 52,
     "metadata": {},
     "output_type": "execute_result"
    }
   ],
   "source": [
    "df.index = ['a','b','c','d']\n",
    "df"
   ]
  },
  {
   "attachments": {},
   "cell_type": "markdown",
   "metadata": {},
   "source": [
    "Now let's see what we have:"
   ]
  },
  {
   "cell_type": "code",
   "execution_count": 53,
   "metadata": {},
   "outputs": [
    {
     "name": "stdout",
     "output_type": "stream",
     "text": [
      "\\begin{tabular}{lrrl}\n",
      " & $x_{1}$ & $x_{2}$ & $u\\left(x_{1},x_{2}\\right)$ \\\\\n",
      "a & 2 & 3 & 2.711 utils \\\\\n",
      "b & 4 & 3 & 3.224 utils \\\\\n",
      "c & 6 & 3 & 3.568 utils \\\\\n",
      "d & 8 & 3 & 3.834 utils \\\\\n",
      "\\end{tabular}\n",
      "\n"
     ]
    }
   ],
   "source": [
    "print(df.style.to_latex())"
   ]
  },
  {
   "attachments": {},
   "cell_type": "markdown",
   "metadata": {},
   "source": [
    "We can play around with column formatting. <br>\n",
    "I also normally use the hrules=True option which adds \\toprule, \\midrule and \\bottomrule from the {booktabs} LaTeX package to make horizontal lines."
   ]
  },
  {
   "cell_type": "code",
   "execution_count": 54,
   "metadata": {},
   "outputs": [
    {
     "name": "stdout",
     "output_type": "stream",
     "text": [
      "\\begin{tabular}{l|ccc}\n",
      "\\toprule\n",
      " & $x_{1}$ & $x_{2}$ & $u\\left(x_{1},x_{2}\\right)$ \\\\\n",
      "\\midrule\n",
      "a & 2 & 3 & 2.711 utils \\\\\n",
      "b & 4 & 3 & 3.224 utils \\\\\n",
      "c & 6 & 3 & 3.568 utils \\\\\n",
      "d & 8 & 3 & 3.834 utils \\\\\n",
      "\\bottomrule\n",
      "\\end{tabular}\n",
      "\n"
     ]
    }
   ],
   "source": [
    "print(df.style.to_latex(column_format='l|ccc',hrules=True))"
   ]
  },
  {
   "attachments": {},
   "cell_type": "markdown",
   "metadata": {},
   "source": [
    "We can store this directly as .tex file, by adding a filepath in the buf argument"
   ]
  },
  {
   "cell_type": "code",
   "execution_count": 55,
   "metadata": {},
   "outputs": [],
   "source": [
    "df.style.to_latex(buf='table1.tex',column_format='l|ccc',hrules=True)"
   ]
  },
  {
   "attachments": {},
   "cell_type": "markdown",
   "metadata": {},
   "source": [
    "Making your tables in this way is extremely versatile once you get the hang of it, you can find more options [here](https://pandas.pydata.org/docs/reference/api/pandas.io.formats.style.Styler.to_latex.html). <br>\n",
    "Using the multicolumn features, which you'll learn about in the Data section of the course, can also make for some good looking tables. <br>\n",
    "*However*, it can also be cumbersome and require lots of tinkering to get the output you want, so be patient. My best advice is trial and error."
   ]
  }
 ],
 "metadata": {
  "kernelspec": {
   "display_name": "base",
   "language": "python",
   "name": "python3"
  },
  "language_info": {
   "codemirror_mode": {
    "name": "ipython",
    "version": 3
   },
   "file_extension": ".py",
   "mimetype": "text/x-python",
   "name": "python",
   "nbconvert_exporter": "python",
   "pygments_lexer": "ipython3",
   "version": "3.9.16"
  },
  "orig_nbformat": 4,
  "vscode": {
   "interpreter": {
    "hash": "2164e4eaf16dd6cd705646718fcef4f5f263bad5b7d103e76e9308c0132ca24b"
   }
  }
 },
 "nbformat": 4,
 "nbformat_minor": 2
}
