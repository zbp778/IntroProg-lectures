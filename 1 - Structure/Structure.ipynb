{
 "cells": [
  {
   "cell_type": "markdown",
   "metadata": {},
   "source": [
    "# Structure: *Programming is more than writing code*"
   ]
  },
  {
   "cell_type": "markdown",
   "metadata": {},
   "source": [
    "**Table of contents**<a id='toc0_'></a>    \n",
    "- 1. [Macro-structure (folders and files)](#toc1_)    \n",
    "- 2. [Micro-structure (with-in files)](#toc2_)    \n",
    "- 3. [Design patterns](#toc3_)    \n",
    "- 4. [Reloading modules](#toc4_)    \n",
    "\n",
    "<!-- vscode-jupyter-toc-config\n",
    "\tnumbering=true\n",
    "\tanchor=true\n",
    "\tflat=false\n",
    "\tminLevel=2\n",
    "\tmaxLevel=6\n",
    "\t/vscode-jupyter-toc-config -->\n",
    "<!-- THIS CELL WILL BE REPLACED ON TOC UPDATE. DO NOT WRITE YOUR TEXT IN THIS CELL -->"
   ]
  },
  {
   "cell_type": "markdown",
   "metadata": {},
   "source": [
    "You seldom write some code, run it, get the right results, and then never use it again.\n",
    "\n",
    " * Firstly: You make errors (bugs) when you code.\n",
    " * Secondly: You need to share your code with colleagues and your future self."
   ]
  },
  {
   "attachments": {},
   "cell_type": "markdown",
   "metadata": {},
   "source": [
    "Transparent **macro- and microstructure** is important: \n",
    "* For preventing errors\n",
    "* For finding errors\n",
    "* For making your code interpretable for others and your future-self\n",
    "\n",
    "**No code is self-explanatory** - even though if might seem so when you write it. \n",
    "\n",
    "**Cleaning, commenting and documenting code takes time**, but is a crucial aspect of good programming.\n",
    "\n",
    "In **scientific programming**, a transparent program structure and good documentation is also a cornerstone in securing **replicability**. "
   ]
  },
  {
   "cell_type": "markdown",
   "metadata": {},
   "source": [
    "\n",
    "## 1. <a id='toc1_'></a>[Macro-structure (folders and files)](#toc0_)\n",
    "\n",
    "1. **One folder** for each project with ALL required files.\n",
    "2. **End goal**: *One file to run it all*. *Very important!*\n",
    "3. **Module files** (.py): Define functions, classes, etc.\n",
    "4. **Notebook files** (.ipynb): Call functions, classes etc. + explain and present the results.\n",
    "5. **Larger projects:** Sub-folders for data, figures, etc."
   ]
  },
  {
   "attachments": {},
   "cell_type": "markdown",
   "metadata": {},
   "source": [
    "**Example:**"
   ]
  },
  {
   "cell_type": "code",
   "execution_count": 1,
   "metadata": {},
   "outputs": [],
   "source": [
    "from MyModel import MyModelClass"
   ]
  },
  {
   "cell_type": "code",
   "execution_count": 2,
   "metadata": {},
   "outputs": [
    {
     "name": "stdout",
     "output_type": "stream",
     "text": [
      "setup done\n"
     ]
    }
   ],
   "source": [
    "model = MyModelClass(x=1)"
   ]
  },
  {
   "cell_type": "code",
   "execution_count": 3,
   "metadata": {},
   "outputs": [
    {
     "name": "stdout",
     "output_type": "stream",
     "text": [
      "solving - with model.x = 1\n"
     ]
    }
   ],
   "source": [
    "model.solve()"
   ]
  },
  {
   "cell_type": "code",
   "execution_count": 4,
   "metadata": {},
   "outputs": [
    {
     "name": "stdout",
     "output_type": "stream",
     "text": [
      "simulating - with model.y = 2\n"
     ]
    }
   ],
   "source": [
    "model.simulate()"
   ]
  },
  {
   "cell_type": "code",
   "execution_count": 5,
   "metadata": {},
   "outputs": [],
   "source": [
    "model.save_results()"
   ]
  },
  {
   "cell_type": "markdown",
   "metadata": {},
   "source": [
    "## 2. <a id='toc2_'></a>[Micro-structure (with-in files)](#toc0_)"
   ]
  },
  {
   "attachments": {},
   "cell_type": "markdown",
   "metadata": {},
   "source": [
    "**Important reference:** [PEP8 guideline](https://www.python.org/dev/peps/pep-0008/)\n",
    "\n",
    "1. Consistency with this style guide is important.\n",
    "2. Consistency within a project is more important. \n",
    "3. Consistency within one module or function is the most important."
   ]
  },
  {
   "attachments": {},
   "cell_type": "markdown",
   "metadata": {},
   "source": [
    "**Recommendations:**\n",
    "\n",
    "1. **Code layout:**\n",
    "    * **Indentation:** Four spaces\n",
    "    * **Line length:** Max of 79 characters (wrap line + indent properly)\n",
    "    * **Strings:** Use single or double quote (be consistent)\n",
    "    * **White space:**\n",
    "        * Around assignment: ``x = y``\n",
    "        * After colon: ``if x == 2: print(x)``\n",
    "        * Around operators with lowest priority in a calculation: ``c = (a+b) * (a-b)`` or `z = x*x + y*y` \n",
    "2. **Naming conventions:** Short, but also precise\n",
    "    * **Modules:** Lower case with potential underscores (e.g. ``numecon`` or ``num_econ``)\n",
    "    * **Classes:** Camel case (e.g. ``ConsumerClass``)\n",
    "    * **Variables, functions and methods:** Lower case with potential underscores     \n",
    "3. **Ordered section comments:** Break your code into sections\n",
    "    * Give each section a name and a place in the ordering\n",
    "    * Level 1: a, b, c, etc.\n",
    "    * Level 2: i, ii, iii, iv, etc.\n",
    "    * Level 3: o, oo, ooo, oooo, etc.\n",
    "4. **Line comments:** Small additional hints\n",
    "    * Again, short and precise\n",
    "    * Avoid just explaining what the code does (must provide additional information)\n",
    "5. **Docstrings:** Should be written for all functions, methods and classes (see how below)."
   ]
  },
  {
   "attachments": {},
   "cell_type": "markdown",
   "metadata": {},
   "source": [
    "**More on names:**\n",
    "\n",
    "1. Name functions after their **intended use**.\n",
    "1. Help your self in debugging and name variables in a **searchable way**\n",
    "1. Normally avoid using any special characters.\n",
    "2. Unused variables and non-public methods should start with a ``_``\n"
   ]
  },
  {
   "attachments": {},
   "cell_type": "markdown",
   "metadata": {},
   "source": [
    "**Two different perspectives on comments:**\n",
    "\n",
    "1. The comments explain humans what the code does.\n",
    "2. The code makes the computer do what the comments say. "
   ]
  },
  {
   "attachments": {},
   "cell_type": "markdown",
   "metadata": {},
   "source": [
    "**Example of well-formatted code:**"
   ]
  },
  {
   "cell_type": "code",
   "execution_count": 6,
   "metadata": {},
   "outputs": [
    {
     "name": "stdout",
     "output_type": "stream",
     "text": [
      "2.1972245773362196\n",
      "1.3862943611198906\n",
      "0.0\n",
      "0.0\n",
      "1.3862943611198906\n",
      "2.1972245773362196\n"
     ]
    }
   ],
   "source": [
    "import math\n",
    "\n",
    "# a. name for section\n",
    "alpha = 1\n",
    "beta = 2\n",
    "x = [-3, -2, -1, 1, 2, 3]\n",
    "\n",
    "# b. name for section\n",
    "def my_function(x,alpha,beta):\n",
    "    \"\"\" explain what the function does (docstring)\n",
    "    \n",
    "    Args:\n",
    "    \n",
    "        x (float): explanation\n",
    "        alpha (float): explanation\n",
    "        beta (float): explanation\n",
    "        \n",
    "    Returns:\n",
    "    \n",
    "        y (float): explanation\n",
    "    \n",
    "    \"\"\"\n",
    "    \n",
    "    y = x**2 \n",
    "    return y\n",
    "\n",
    "# c. name for section\n",
    "for i in range(len(x)):\n",
    "    \n",
    "    # i. name for sub-section\n",
    "    y = my_function(x[i],alpha,beta)\n",
    "    \n",
    "    # ii. name for sub-section\n",
    "    cond = y > 0 # non-positive not allowed due to log (line comment)\n",
    "    \n",
    "    # iii. name for sub-section\n",
    "    if cond:\n",
    "        print(math.log(y))"
   ]
  },
  {
   "attachments": {},
   "cell_type": "markdown",
   "metadata": {},
   "source": [
    "**Try:** Hover over ``my_function``"
   ]
  },
  {
   "attachments": {},
   "cell_type": "markdown",
   "metadata": {},
   "source": [
    "**Recommendation:** \n",
    "\n",
    "1. Try to think about which sections and sub-sections you need beforehand. \n",
    "2. You can even write them *before* you write code! "
   ]
  },
  {
   "cell_type": "markdown",
   "metadata": {},
   "source": [
    "## 3. <a id='toc3_'></a>[Design patterns](#toc0_)"
   ]
  },
  {
   "attachments": {},
   "cell_type": "markdown",
   "metadata": {},
   "source": [
    "**Three rules:**\n",
    "\n",
    "1. **No repitition of code-lines**\n",
    "2. **Simplify tasks** into smaller functions (and methods)\n",
    "3. **No (unexpected) side-effects** of functions and methods"
   ]
  },
  {
   "attachments": {},
   "cell_type": "markdown",
   "metadata": {},
   "source": [
    "**Example:** Profit-maximizing firm described by\n",
    "\n",
    "$$\n",
    "\\begin{align}\n",
    "\\pi &= pF(K,L)-rK-wL \\\\\n",
    "F(K,L) &= K^{\\alpha}L^{1-\\alpha}\n",
    "\\end{align}\n",
    "$$"
   ]
  },
  {
   "cell_type": "code",
   "execution_count": 38,
   "metadata": {},
   "outputs": [],
   "source": [
    "class FirmClass:\n",
    "\n",
    "    def __init__(self):\n",
    "        \"\"\" setup \"\"\"\n",
    "\n",
    "        # a. parameters\n",
    "        self.alpha = 2 # Cobb-Douglas parameter for capital\n",
    "        self.theta = 2\n",
    "        # b. choices\n",
    "        self.K = 4.0 # capital\n",
    "        self.L = 2.0 # labor\n",
    "\n",
    "        # c. prices\n",
    "        self.p = 15.0 # output price\n",
    "        self.w = 1.5 # wage\n",
    "        self.rk = 2.0 # rental price\n",
    "\n",
    "    def production(self):\n",
    "        \"\"\" production function \"\"\"\n",
    "\n",
    "        return self.theta*self.K**self.alpha*self.L**(1-self.alpha)\n",
    "\n",
    "    def cost(self):\n",
    "        \"\"\" cost \"\"\"\n",
    "        \n",
    "        return self.rk*self.K + self.w*self.L\n",
    "\n",
    "    def profit_bad(self):\n",
    "        \"\"\" calculate profits \"\"\"\n",
    "        \n",
    "        revenue = self.theta*self.p*self.K**self.alpha*self.L**(1-self.alpha)\n",
    "        cost = self.rk*self.K + self.w*self.L\n",
    "        return revenue-cost\n",
    "\n",
    "    def profit_good(self):\n",
    "        \"\"\" calculate profits \"\"\"\n",
    "\n",
    "        revenue = self.p*self.production()\n",
    "        cost = self.cost()\n",
    "        return revenue-cost\n"
   ]
  },
  {
   "cell_type": "code",
   "execution_count": 39,
   "metadata": {},
   "outputs": [
    {
     "name": "stdout",
     "output_type": "stream",
     "text": [
      "229.0\n",
      "229.0\n"
     ]
    }
   ],
   "source": [
    "firm = FirmClass()\n",
    "print(firm.profit_bad())\n",
    "print(firm.profit_good())"
   ]
  },
  {
   "attachments": {},
   "cell_type": "markdown",
   "metadata": {},
   "source": [
    "**Task I:** \n",
    "\n",
    "1. Update the code to $F(K,L) = \\Theta K^{\\alpha}L^{1-\\alpha}$. \n",
    "2. Think about why `.profit_bad` and `.profit_good` are called this despite they give the same result?"
   ]
  },
  {
   "attachments": {},
   "cell_type": "markdown",
   "metadata": {},
   "source": [
    "**Example, continued:** Let us check whether more capital is a good idea."
   ]
  },
  {
   "cell_type": "code",
   "execution_count": 55,
   "metadata": {},
   "outputs": [],
   "source": [
    "def is_more_capital_better(firm):\n",
    "    \"\"\" check wheter more capital gives a higher profit \"\"\"\n",
    "\n",
    "    # a. pre-profits\n",
    "    profit_pre = firm.profit_good()\n",
    "\n",
    "    # b. post-profits\n",
    "    firm.K += 1 \n",
    "    profit_post = firm.profit_good()\n",
    "    firm.K -= 1 \n",
    "\n",
    "    # c. profit difference\n",
    "    diff = profit_post - profit_pre\n",
    "    \n",
    "    # d. report result\n",
    "    if diff > 0:\n",
    "        print(f'yes, profits increase with {diff}')\n",
    "    else:\n",
    "        print(f' no, profits decrease with {-diff}')"
   ]
  },
  {
   "cell_type": "code",
   "execution_count": 56,
   "metadata": {},
   "outputs": [
    {
     "name": "stdout",
     "output_type": "stream",
     "text": [
      "yes, profits increase with 223.0\n"
     ]
    }
   ],
   "source": [
    "is_more_capital_better(firm)"
   ]
  },
  {
   "cell_type": "code",
   "execution_count": 57,
   "metadata": {},
   "outputs": [
    {
     "name": "stdout",
     "output_type": "stream",
     "text": [
      "yes, profits increase with 223.0\n"
     ]
    }
   ],
   "source": [
    "is_more_capital_better(firm)"
   ]
  },
  {
   "cell_type": "code",
   "execution_count": 58,
   "metadata": {},
   "outputs": [
    {
     "name": "stdout",
     "output_type": "stream",
     "text": [
      "yes, profits increase with 223.0\n"
     ]
    }
   ],
   "source": [
    "is_more_capital_better(firm)"
   ]
  },
  {
   "attachments": {},
   "cell_type": "markdown",
   "metadata": {},
   "source": [
    "**Task II:** Understand why the result changes each time we call the function?"
   ]
  },
  {
   "attachments": {},
   "cell_type": "markdown",
   "metadata": {},
   "source": [
    "**More on design patterns**: You can check out [Google's Python style guide](https://google.github.io/styleguide/pyguide.html)"
   ]
  },
  {
   "cell_type": "markdown",
   "metadata": {},
   "source": [
    "## 4. <a id='toc4_'></a>[Reloading modules](#toc0_)"
   ]
  },
  {
   "attachments": {},
   "cell_type": "markdown",
   "metadata": {},
   "source": [
    "**Problem:** \n",
    "\n",
    "1. The `import mymodule` statement is *only effective the first time it is called*. \n",
    "2. Running `import mymodule` again will *not reload changes* you might have made in your code."
   ]
  },
  {
   "attachments": {},
   "cell_type": "markdown",
   "metadata": {},
   "source": [
    "**Solution:** Call the *autoreload magic* below in the beginning of your notebook (*before* importing at least)."
   ]
  },
  {
   "cell_type": "code",
   "execution_count": 81,
   "metadata": {},
   "outputs": [
    {
     "name": "stdout",
     "output_type": "stream",
     "text": [
      "The autoreload extension is already loaded. To reload it, use:\n",
      "  %reload_ext autoreload\n"
     ]
    }
   ],
   "source": [
    "%load_ext autoreload\n",
    "%autoreload 2"
   ]
  },
  {
   "cell_type": "code",
   "execution_count": 82,
   "metadata": {},
   "outputs": [],
   "source": [
    "%reload_ext autoreload\n",
    "import mymodule"
   ]
  },
  {
   "cell_type": "code",
   "execution_count": 84,
   "metadata": {},
   "outputs": [],
   "source": [
    "try:\n",
    "    mymodule.myfun(2)\n",
    "except Exception as e:\n",
    "    print(e)"
   ]
  },
  {
   "cell_type": "code",
   "execution_count": 86,
   "metadata": {},
   "outputs": [
    {
     "data": {
      "text/plain": [
       "64"
      ]
     },
     "execution_count": 86,
     "metadata": {},
     "output_type": "execute_result"
    }
   ],
   "source": [
    "mymodule.myfun(2,6)"
   ]
  },
  {
   "attachments": {},
   "cell_type": "markdown",
   "metadata": {},
   "source": [
    "**Task:** Place cursor at `myfun` and press `F12`"
   ]
  }
 ],
 "metadata": {
  "kernelspec": {
   "display_name": "base",
   "language": "python",
   "name": "python3"
  },
  "language_info": {
   "codemirror_mode": {
    "name": "ipython",
    "version": 3
   },
   "file_extension": ".py",
   "mimetype": "text/x-python",
   "name": "python",
   "nbconvert_exporter": "python",
   "pygments_lexer": "ipython3",
   "version": "3.9.16"
  },
  "toc-autonumbering": true,
  "vscode": {
   "interpreter": {
    "hash": "47ef90cdf3004d3f859f1fb202523c65c07ba7c22eefd261b181f4744e2d0403"
   }
  }
 },
 "nbformat": 4,
 "nbformat_minor": 4
}
