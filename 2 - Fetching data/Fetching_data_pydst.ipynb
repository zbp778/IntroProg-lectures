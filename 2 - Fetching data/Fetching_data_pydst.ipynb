{
 "cells": [
  {
   "cell_type": "markdown",
   "metadata": {},
   "source": [
    "# Fetching data"
   ]
  },
  {
   "cell_type": "markdown",
   "metadata": {},
   "source": [
    "**Table of contents**<a id='toc0_'></a>    \n",
    "- 1. [Fetching data using an API](#toc1_)    \n",
    "  - 1.1. [Import data from Denmark Statistics](#toc1_1_)    \n",
    "  - 1.2. [FRED (Federal Reserve Economic Data)](#toc1_2_)    \n",
    "  - 1.3. [World Bank indicators: `wb`](#toc1_3_)    \n",
    "- 2. [A few examples of open access APIs](#toc2_)    \n",
    "- 3. [Other sources](#toc3_)    \n",
    "\n",
    "<!-- vscode-jupyter-toc-config\n",
    "\tnumbering=true\n",
    "\tanchor=true\n",
    "\tflat=false\n",
    "\tminLevel=2\n",
    "\tmaxLevel=6\n",
    "\t/vscode-jupyter-toc-config -->\n",
    "<!-- THIS CELL WILL BE REPLACED ON TOC UPDATE. DO NOT WRITE YOUR TEXT IN THIS CELL -->"
   ]
  },
  {
   "attachments": {},
   "cell_type": "markdown",
   "metadata": {},
   "source": [
    "You may need to install the DST api-data reader, the pandas_datareader and the matplotlib_venn module. Uncomment the following cells and run to install.  \n",
    "The %pip is a jupyter magic function, it is similar to writing pip install directly in your terminal/comand prompt. (see [Link](https://jakevdp.github.io/blog/2017/12/05/installing-python-packages-from-jupyter/)).  \n",
    "You could also use a ! in front of each command, which indicates that this is a system command that may as well have been executed in the terminal/command prompt of your computer. "
   ]
  },
  {
   "cell_type": "code",
   "execution_count": null,
   "metadata": {},
   "outputs": [],
   "source": [
    "# The DST API wrapper\n",
    "%pip install git+https://github.com/elben10/pydst"
   ]
  },
  {
   "cell_type": "code",
   "execution_count": 2,
   "metadata": {},
   "outputs": [],
   "source": [
    "# A wrapper for multiple APIs with a pandas interface\n",
    "%pip install pandas-datareader"
   ]
  },
  {
   "cell_type": "code",
   "execution_count": 3,
   "metadata": {},
   "outputs": [],
   "source": [
    "import numpy as np\n",
    "import pandas as pd\n",
    "import datetime\n",
    "\n",
    "import pandas_datareader # install with `pip install pandas-datareader`\n",
    "import pydst # install with `pip install git+https://github.com/elben10/pydst`\n",
    "\n",
    "import matplotlib.pyplot as plt\n",
    "plt.rcParams.update({\"axes.grid\":True,\"grid.color\":\"black\",\"grid.alpha\":\"0.25\",\"grid.linestyle\":\"--\"})\n",
    "plt.rcParams.update({'font.size': 14})"
   ]
  },
  {
   "cell_type": "markdown",
   "metadata": {},
   "source": [
    "## 1. <a id='toc1_'></a>[Fetching data using an API](#toc0_)"
   ]
  },
  {
   "cell_type": "markdown",
   "metadata": {},
   "source": [
    "API stands for **Application Programming Interface**. An API is an interface through which we can directly ask for and **receive data from an online source**. We will be using packages for this and will not look at what is going on underneath. \n",
    "\n",
    "1. We use `pandas_datareader` to access many common **international online data** sources (install with `pip install pandas-datareader`)\n",
    "2. For **Statistics Denmark**, Jakob Elben has written the `pydst` package (install with `pip install git+https://github.com/elben10/pydst`)"
   ]
  },
  {
   "cell_type": "markdown",
   "metadata": {},
   "source": [
    "Fetching data from an API requires an **internet connection** and works directly without saving data to your harddisk (unless you ask Python to do so afterwards). You can use it to automate tasks such as fetching the most recent data, doing some calculations and outputting it in the same manner. This can be useful e.g. for quarterly reports. Remember to save the data on your computer if you really need for later though. The admins of the data may turn off the water.."
   ]
  },
  {
   "cell_type": "markdown",
   "metadata": {},
   "source": [
    "**Pros:** Automatic; smart; everything is done from Python (so no need to remember steps in between). \n",
    "\n",
    "**Cons:** The connection can be slow or drop out, which may lead to errors. If e.g. 100 students simultaneously fetch data (during, say, a lecture), the host server may not be able to service all the requests and may drop out. "
   ]
  },
  {
   "cell_type": "markdown",
   "metadata": {},
   "source": [
    "> The raw output data from an API could look like this: https://stats.oecd.org/SDMX-JSON/data/NAAG. It is a log list of non-human-readable gobledygook in the so-called \"JSON\" format. "
   ]
  },
  {
   "cell_type": "markdown",
   "metadata": {},
   "source": [
    "### 1.1. <a id='toc1_1_'></a>[Import data from Denmark Statistics](#toc0_)"
   ]
  },
  {
   "cell_type": "markdown",
   "metadata": {},
   "source": [
    "**Setup:**  \n",
    "Create an dst api **object** that will allow us to interact with the DST server. "
   ]
  },
  {
   "cell_type": "code",
   "execution_count": 4,
   "metadata": {},
   "outputs": [],
   "source": [
    "Dst = pydst.Dst(lang='en') # setup data loader with the langauge 'english'"
   ]
  },
  {
   "cell_type": "code",
   "execution_count": 5,
   "metadata": {},
   "outputs": [
    {
     "name": "stdout",
     "output_type": "stream",
     "text": [
      "<class 'pydst.pydst.Dst'>\n"
     ]
    }
   ],
   "source": [
    "# What is the Dst variable?\n",
    "print(type(Dst))"
   ]
  },
  {
   "cell_type": "markdown",
   "metadata": {},
   "source": [
    "Data from DST are organized into: \n",
    "\n",
    "1. **Subjects:** indexed by numbers. Use `Dst.get_subjects()` to see the list. \n",
    "2. **Tables:** with names like \"INDKP107\". Use `Dst.get_tables(subjects=['X'])` to see all tables in a subject. \n",
    "\n",
    "**Data is extracted**  with `Dst.get_data(table_id = 'NAME', variables = DICT)`. "
   ]
  },
  {
   "cell_type": "markdown",
   "metadata": {},
   "source": [
    "**Subjects:** With `Dst.get_subjects()` we can list all subjects."
   ]
  },
  {
   "cell_type": "code",
   "execution_count": 6,
   "metadata": {},
   "outputs": [
    {
     "data": {
      "text/html": [
       "<div>\n",
       "<style scoped>\n",
       "    .dataframe tbody tr th:only-of-type {\n",
       "        vertical-align: middle;\n",
       "    }\n",
       "\n",
       "    .dataframe tbody tr th {\n",
       "        vertical-align: top;\n",
       "    }\n",
       "\n",
       "    .dataframe thead th {\n",
       "        text-align: right;\n",
       "    }\n",
       "</style>\n",
       "<table border=\"1\" class=\"dataframe\">\n",
       "  <thead>\n",
       "    <tr style=\"text-align: right;\">\n",
       "      <th></th>\n",
       "      <th>id</th>\n",
       "      <th>desc</th>\n",
       "      <th>active</th>\n",
       "      <th>hasSubjects</th>\n",
       "    </tr>\n",
       "  </thead>\n",
       "  <tbody>\n",
       "    <tr>\n",
       "      <th>0</th>\n",
       "      <td>1</td>\n",
       "      <td>People</td>\n",
       "      <td>True</td>\n",
       "      <td>True</td>\n",
       "    </tr>\n",
       "    <tr>\n",
       "      <th>1</th>\n",
       "      <td>2</td>\n",
       "      <td>Labour and income</td>\n",
       "      <td>True</td>\n",
       "      <td>True</td>\n",
       "    </tr>\n",
       "    <tr>\n",
       "      <th>2</th>\n",
       "      <td>3</td>\n",
       "      <td>Economy</td>\n",
       "      <td>True</td>\n",
       "      <td>True</td>\n",
       "    </tr>\n",
       "    <tr>\n",
       "      <th>3</th>\n",
       "      <td>4</td>\n",
       "      <td>Social conditions</td>\n",
       "      <td>True</td>\n",
       "      <td>True</td>\n",
       "    </tr>\n",
       "    <tr>\n",
       "      <th>4</th>\n",
       "      <td>5</td>\n",
       "      <td>Education and research</td>\n",
       "      <td>True</td>\n",
       "      <td>True</td>\n",
       "    </tr>\n",
       "    <tr>\n",
       "      <th>5</th>\n",
       "      <td>6</td>\n",
       "      <td>Business</td>\n",
       "      <td>True</td>\n",
       "      <td>True</td>\n",
       "    </tr>\n",
       "    <tr>\n",
       "      <th>6</th>\n",
       "      <td>7</td>\n",
       "      <td>Transport</td>\n",
       "      <td>True</td>\n",
       "      <td>True</td>\n",
       "    </tr>\n",
       "    <tr>\n",
       "      <th>7</th>\n",
       "      <td>8</td>\n",
       "      <td>Culture and leisure</td>\n",
       "      <td>True</td>\n",
       "      <td>True</td>\n",
       "    </tr>\n",
       "    <tr>\n",
       "      <th>8</th>\n",
       "      <td>9</td>\n",
       "      <td>Environment and energy</td>\n",
       "      <td>True</td>\n",
       "      <td>True</td>\n",
       "    </tr>\n",
       "    <tr>\n",
       "      <th>9</th>\n",
       "      <td>19</td>\n",
       "      <td>Other</td>\n",
       "      <td>True</td>\n",
       "      <td>True</td>\n",
       "    </tr>\n",
       "  </tbody>\n",
       "</table>\n",
       "</div>"
      ],
      "text/plain": [
       "   id                    desc  active  hasSubjects\n",
       "0   1                  People    True         True\n",
       "1   2       Labour and income    True         True\n",
       "2   3                 Economy    True         True\n",
       "3   4       Social conditions    True         True\n",
       "4   5  Education and research    True         True\n",
       "5   6                Business    True         True\n",
       "6   7               Transport    True         True\n",
       "7   8     Culture and leisure    True         True\n",
       "8   9  Environment and energy    True         True\n",
       "9  19                   Other    True         True"
      ]
     },
     "execution_count": 6,
     "metadata": {},
     "output_type": "execute_result"
    }
   ],
   "source": [
    "Dst.get_subjects()"
   ]
  },
  {
   "cell_type": "markdown",
   "metadata": {},
   "source": [
    "**Tables:** With `get_tables()`, we can list all tables under a subject."
   ]
  },
  {
   "cell_type": "code",
   "execution_count": 7,
   "metadata": {},
   "outputs": [
    {
     "name": "stdout",
     "output_type": "stream",
     "text": [
      "<class 'pandas.core.frame.DataFrame'>\n"
     ]
    },
    {
     "data": {
      "text/html": [
       "<div>\n",
       "<style scoped>\n",
       "    .dataframe tbody tr th:only-of-type {\n",
       "        vertical-align: middle;\n",
       "    }\n",
       "\n",
       "    .dataframe tbody tr th {\n",
       "        vertical-align: top;\n",
       "    }\n",
       "\n",
       "    .dataframe thead th {\n",
       "        text-align: right;\n",
       "    }\n",
       "</style>\n",
       "<table border=\"1\" class=\"dataframe\">\n",
       "  <thead>\n",
       "    <tr style=\"text-align: right;\">\n",
       "      <th></th>\n",
       "      <th>id</th>\n",
       "      <th>text</th>\n",
       "      <th>unit</th>\n",
       "      <th>updated</th>\n",
       "      <th>firstPeriod</th>\n",
       "      <th>latestPeriod</th>\n",
       "      <th>active</th>\n",
       "      <th>variables</th>\n",
       "    </tr>\n",
       "  </thead>\n",
       "  <tbody>\n",
       "    <tr>\n",
       "      <th>0</th>\n",
       "      <td>AKU100K</td>\n",
       "      <td>Seasonally adjusted labour force status</td>\n",
       "      <td>1,000 people</td>\n",
       "      <td>2022-11-23 08:00:00</td>\n",
       "      <td>2008Q1</td>\n",
       "      <td>2022Q3</td>\n",
       "      <td>True</td>\n",
       "      <td>[employment status, time]</td>\n",
       "    </tr>\n",
       "    <tr>\n",
       "      <th>1</th>\n",
       "      <td>AKU101K</td>\n",
       "      <td>Seasonally adjusted labour force status in per...</td>\n",
       "      <td>Per cent</td>\n",
       "      <td>2022-11-23 08:00:00</td>\n",
       "      <td>2008Q1</td>\n",
       "      <td>2022Q3</td>\n",
       "      <td>True</td>\n",
       "      <td>[employment status, time]</td>\n",
       "    </tr>\n",
       "    <tr>\n",
       "      <th>2</th>\n",
       "      <td>AKU110K</td>\n",
       "      <td>Labour force status</td>\n",
       "      <td>1,000 people</td>\n",
       "      <td>2022-11-23 08:00:00</td>\n",
       "      <td>2008Q1</td>\n",
       "      <td>2022Q3</td>\n",
       "      <td>True</td>\n",
       "      <td>[employment status, age, sex, time]</td>\n",
       "    </tr>\n",
       "    <tr>\n",
       "      <th>3</th>\n",
       "      <td>AKU111K</td>\n",
       "      <td>Labour force status in percentage</td>\n",
       "      <td>Per cent</td>\n",
       "      <td>2022-11-23 08:00:00</td>\n",
       "      <td>2008Q1</td>\n",
       "      <td>2022Q3</td>\n",
       "      <td>True</td>\n",
       "      <td>[employment status, age, sex, time]</td>\n",
       "    </tr>\n",
       "    <tr>\n",
       "      <th>4</th>\n",
       "      <td>AKU120K</td>\n",
       "      <td>Labour force status</td>\n",
       "      <td>1,000 people</td>\n",
       "      <td>2022-11-23 08:00:00</td>\n",
       "      <td>2008Q1</td>\n",
       "      <td>2022Q3</td>\n",
       "      <td>True</td>\n",
       "      <td>[employment status, region, time]</td>\n",
       "    </tr>\n",
       "    <tr>\n",
       "      <th>...</th>\n",
       "      <td>...</td>\n",
       "      <td>...</td>\n",
       "      <td>...</td>\n",
       "      <td>...</td>\n",
       "      <td>...</td>\n",
       "      <td>...</td>\n",
       "      <td>...</td>\n",
       "      <td>...</td>\n",
       "    </tr>\n",
       "    <tr>\n",
       "      <th>230</th>\n",
       "      <td>PENSOC</td>\n",
       "      <td>Supplementary table for accrued-to-date pensio...</td>\n",
       "      <td>m DKK</td>\n",
       "      <td>2022-12-13 08:00:00</td>\n",
       "      <td>2015</td>\n",
       "      <td>2021</td>\n",
       "      <td>True</td>\n",
       "      <td>[pension schemes, account, time]</td>\n",
       "    </tr>\n",
       "    <tr>\n",
       "      <th>231</th>\n",
       "      <td>PENFOR11</td>\n",
       "      <td>Value of pension schemes</td>\n",
       "      <td>-</td>\n",
       "      <td>2022-08-25 08:00:00</td>\n",
       "      <td>2014</td>\n",
       "      <td>2021</td>\n",
       "      <td>True</td>\n",
       "      <td>[kind of pension, taxation, age, sex, unit, time]</td>\n",
       "    </tr>\n",
       "    <tr>\n",
       "      <th>232</th>\n",
       "      <td>PENFOR12</td>\n",
       "      <td>Value of pension schemes</td>\n",
       "      <td>Number</td>\n",
       "      <td>2022-08-25 08:00:00</td>\n",
       "      <td>2014</td>\n",
       "      <td>2021</td>\n",
       "      <td>True</td>\n",
       "      <td>[family type, age, sex, price unit, value of p...</td>\n",
       "    </tr>\n",
       "    <tr>\n",
       "      <th>233</th>\n",
       "      <td>PENFOR20</td>\n",
       "      <td>Value of pension schemes</td>\n",
       "      <td>-</td>\n",
       "      <td>2022-10-26 08:00:00</td>\n",
       "      <td>2014</td>\n",
       "      <td>2021</td>\n",
       "      <td>True</td>\n",
       "      <td>[kind of pension, life insurance companies, ag...</td>\n",
       "    </tr>\n",
       "    <tr>\n",
       "      <th>234</th>\n",
       "      <td>PENINDB1</td>\n",
       "      <td>Persons with pension contributions</td>\n",
       "      <td>-</td>\n",
       "      <td>2022-09-16 08:00:00</td>\n",
       "      <td>2005</td>\n",
       "      <td>2021</td>\n",
       "      <td>True</td>\n",
       "      <td>[region, unit, sex, age, type of pension, time]</td>\n",
       "    </tr>\n",
       "  </tbody>\n",
       "</table>\n",
       "<p>235 rows × 8 columns</p>\n",
       "</div>"
      ],
      "text/plain": [
       "           id                                               text  \\\n",
       "0     AKU100K            Seasonally adjusted labour force status   \n",
       "1     AKU101K  Seasonally adjusted labour force status in per...   \n",
       "2     AKU110K                                Labour force status   \n",
       "3     AKU111K                  Labour force status in percentage   \n",
       "4     AKU120K                                Labour force status   \n",
       "..        ...                                                ...   \n",
       "230    PENSOC  Supplementary table for accrued-to-date pensio...   \n",
       "231  PENFOR11                           Value of pension schemes   \n",
       "232  PENFOR12                           Value of pension schemes   \n",
       "233  PENFOR20                           Value of pension schemes   \n",
       "234  PENINDB1                 Persons with pension contributions   \n",
       "\n",
       "             unit             updated firstPeriod latestPeriod  active  \\\n",
       "0    1,000 people 2022-11-23 08:00:00      2008Q1       2022Q3    True   \n",
       "1        Per cent 2022-11-23 08:00:00      2008Q1       2022Q3    True   \n",
       "2    1,000 people 2022-11-23 08:00:00      2008Q1       2022Q3    True   \n",
       "3        Per cent 2022-11-23 08:00:00      2008Q1       2022Q3    True   \n",
       "4    1,000 people 2022-11-23 08:00:00      2008Q1       2022Q3    True   \n",
       "..            ...                 ...         ...          ...     ...   \n",
       "230         m DKK 2022-12-13 08:00:00        2015         2021    True   \n",
       "231             - 2022-08-25 08:00:00        2014         2021    True   \n",
       "232        Number 2022-08-25 08:00:00        2014         2021    True   \n",
       "233             - 2022-10-26 08:00:00        2014         2021    True   \n",
       "234             - 2022-09-16 08:00:00        2005         2021    True   \n",
       "\n",
       "                                             variables  \n",
       "0                            [employment status, time]  \n",
       "1                            [employment status, time]  \n",
       "2                  [employment status, age, sex, time]  \n",
       "3                  [employment status, age, sex, time]  \n",
       "4                    [employment status, region, time]  \n",
       "..                                                 ...  \n",
       "230                   [pension schemes, account, time]  \n",
       "231  [kind of pension, taxation, age, sex, unit, time]  \n",
       "232  [family type, age, sex, price unit, value of p...  \n",
       "233  [kind of pension, life insurance companies, ag...  \n",
       "234    [region, unit, sex, age, type of pension, time]  \n",
       "\n",
       "[235 rows x 8 columns]"
      ]
     },
     "metadata": {},
     "output_type": "display_data"
    }
   ],
   "source": [
    "tables = Dst.get_tables(subjects=['2'])\n",
    "print(type(tables))\n",
    "display(tables)"
   ]
  },
  {
   "cell_type": "markdown",
   "metadata": {},
   "source": [
    "**Variable in a dataset:**"
   ]
  },
  {
   "cell_type": "code",
   "execution_count": 8,
   "metadata": {},
   "outputs": [
    {
     "data": {
      "text/html": [
       "<div>\n",
       "<style scoped>\n",
       "    .dataframe tbody tr th:only-of-type {\n",
       "        vertical-align: middle;\n",
       "    }\n",
       "\n",
       "    .dataframe tbody tr th {\n",
       "        vertical-align: top;\n",
       "    }\n",
       "\n",
       "    .dataframe thead th {\n",
       "        text-align: right;\n",
       "    }\n",
       "</style>\n",
       "<table border=\"1\" class=\"dataframe\">\n",
       "  <thead>\n",
       "    <tr style=\"text-align: right;\">\n",
       "      <th></th>\n",
       "      <th>id</th>\n",
       "      <th>text</th>\n",
       "      <th>unit</th>\n",
       "      <th>updated</th>\n",
       "      <th>firstPeriod</th>\n",
       "      <th>latestPeriod</th>\n",
       "      <th>active</th>\n",
       "      <th>variables</th>\n",
       "    </tr>\n",
       "  </thead>\n",
       "  <tbody>\n",
       "    <tr>\n",
       "      <th>165</th>\n",
       "      <td>INDKP107</td>\n",
       "      <td>Income, persons</td>\n",
       "      <td>-</td>\n",
       "      <td>2022-11-24 08:00:00</td>\n",
       "      <td>2004</td>\n",
       "      <td>2021</td>\n",
       "      <td>True</td>\n",
       "      <td>[region, unit, sex, level of education, type o...</td>\n",
       "    </tr>\n",
       "  </tbody>\n",
       "</table>\n",
       "</div>"
      ],
      "text/plain": [
       "           id             text unit             updated firstPeriod  \\\n",
       "165  INDKP107  Income, persons    - 2022-11-24 08:00:00        2004   \n",
       "\n",
       "    latestPeriod  active                                          variables  \n",
       "165         2021    True  [region, unit, sex, level of education, type o...  "
      ]
     },
     "execution_count": 8,
     "metadata": {},
     "output_type": "execute_result"
    }
   ],
   "source": [
    "tables[tables.id == 'INDKP107']"
   ]
  },
  {
   "cell_type": "code",
   "execution_count": 9,
   "metadata": {},
   "outputs": [
    {
     "data": {
      "text/html": [
       "<div>\n",
       "<style scoped>\n",
       "    .dataframe tbody tr th:only-of-type {\n",
       "        vertical-align: middle;\n",
       "    }\n",
       "\n",
       "    .dataframe tbody tr th {\n",
       "        vertical-align: top;\n",
       "    }\n",
       "\n",
       "    .dataframe thead th {\n",
       "        text-align: right;\n",
       "    }\n",
       "</style>\n",
       "<table border=\"1\" class=\"dataframe\">\n",
       "  <thead>\n",
       "    <tr style=\"text-align: right;\">\n",
       "      <th></th>\n",
       "      <th>id</th>\n",
       "      <th>text</th>\n",
       "      <th>elimination</th>\n",
       "      <th>time</th>\n",
       "      <th>map</th>\n",
       "      <th>values</th>\n",
       "    </tr>\n",
       "  </thead>\n",
       "  <tbody>\n",
       "    <tr>\n",
       "      <th>0</th>\n",
       "      <td>OMRÅDE</td>\n",
       "      <td>region</td>\n",
       "      <td>True</td>\n",
       "      <td>False</td>\n",
       "      <td>denmark_municipality_07</td>\n",
       "      <td>[{'id': '000', 'text': 'All Denmark'}, {'id': ...</td>\n",
       "    </tr>\n",
       "    <tr>\n",
       "      <th>1</th>\n",
       "      <td>ENHED</td>\n",
       "      <td>unit</td>\n",
       "      <td>False</td>\n",
       "      <td>False</td>\n",
       "      <td>NaN</td>\n",
       "      <td>[{'id': '101', 'text': 'People with type of in...</td>\n",
       "    </tr>\n",
       "    <tr>\n",
       "      <th>2</th>\n",
       "      <td>KOEN</td>\n",
       "      <td>sex</td>\n",
       "      <td>True</td>\n",
       "      <td>False</td>\n",
       "      <td>NaN</td>\n",
       "      <td>[{'id': 'MOK', 'text': 'Men and women, total'}...</td>\n",
       "    </tr>\n",
       "    <tr>\n",
       "      <th>3</th>\n",
       "      <td>UDDNIV</td>\n",
       "      <td>level of education</td>\n",
       "      <td>False</td>\n",
       "      <td>False</td>\n",
       "      <td>NaN</td>\n",
       "      <td>[{'id': '10', 'text': '10 BASIC SCHOOL 8-10 gr...</td>\n",
       "    </tr>\n",
       "    <tr>\n",
       "      <th>4</th>\n",
       "      <td>INDKOMSTTYPE</td>\n",
       "      <td>type of income</td>\n",
       "      <td>False</td>\n",
       "      <td>False</td>\n",
       "      <td>NaN</td>\n",
       "      <td>[{'id': '100', 'text': '1 Disposable income (2...</td>\n",
       "    </tr>\n",
       "    <tr>\n",
       "      <th>5</th>\n",
       "      <td>Tid</td>\n",
       "      <td>time</td>\n",
       "      <td>False</td>\n",
       "      <td>True</td>\n",
       "      <td>NaN</td>\n",
       "      <td>[{'id': '2004', 'text': '2004'}, {'id': '2005'...</td>\n",
       "    </tr>\n",
       "  </tbody>\n",
       "</table>\n",
       "</div>"
      ],
      "text/plain": [
       "             id                text  elimination   time  \\\n",
       "0        OMRÅDE              region         True  False   \n",
       "1         ENHED                unit        False  False   \n",
       "2          KOEN                 sex         True  False   \n",
       "3        UDDNIV  level of education        False  False   \n",
       "4  INDKOMSTTYPE      type of income        False  False   \n",
       "5           Tid                time        False   True   \n",
       "\n",
       "                       map                                             values  \n",
       "0  denmark_municipality_07  [{'id': '000', 'text': 'All Denmark'}, {'id': ...  \n",
       "1                      NaN  [{'id': '101', 'text': 'People with type of in...  \n",
       "2                      NaN  [{'id': 'MOK', 'text': 'Men and women, total'}...  \n",
       "3                      NaN  [{'id': '10', 'text': '10 BASIC SCHOOL 8-10 gr...  \n",
       "4                      NaN  [{'id': '100', 'text': '1 Disposable income (2...  \n",
       "5                      NaN  [{'id': '2004', 'text': '2004'}, {'id': '2005'...  "
      ]
     },
     "execution_count": 9,
     "metadata": {},
     "output_type": "execute_result"
    }
   ],
   "source": [
    "indk_vars = Dst.get_variables(table_id='INDKP107')\n",
    "indk_vars"
   ]
  },
  {
   "cell_type": "markdown",
   "metadata": {},
   "source": [
    "We want to know the available levels of each conditioning variable that we may subset by. Use a loop to print out those levels. \n",
    "\n",
    "\n",
    "**Values of variable in a dataset:**"
   ]
  },
  {
   "cell_type": "code",
   "execution_count": 10,
   "metadata": {},
   "outputs": [
    {
     "name": "stdout",
     "output_type": "stream",
     "text": [
      "ENHED\n",
      " id = 101, text = People with type of income (number)\n",
      " id = 110, text = Amount of income (DKK 1.000)\n",
      " id = 116, text = Average income for all people (DKK)\n",
      " id = 121, text = Average income for people with type of income (DKK)\n",
      "KOEN\n",
      " id = MOK, text = Men and women, total\n",
      " id = M, text = Men\n",
      " id = K, text = Women\n",
      "UDDNIV\n",
      " id = 10, text = 10 BASIC SCHOOL 8-10 grade\n",
      " id = 26, text = 20+25 UPPER SECONDARY SCHOOL\n",
      " id = 35, text = 35 VOCATIONAL EDUCATION\n",
      " id = 40, text = 40 SHORT-CYCLE HIGHER EDUCATION\n",
      " id = 61, text = 50+60 MEDIUM-CYCLE HIGHER EDUCATION, BACHLEOR\n",
      " id = 65, text = 65 LONG-CYCLE HIGHER EDUCATION\n",
      " id = 9, text = Not stated\n",
      "INDKOMSTTYPE\n",
      " id = 100, text = 1 Disposable income (2+30-31-32-35)\n",
      " id = 105, text = 2 Pre-tax Income, total (3+7+22+26+29)\n",
      " id = 110, text = 3 Primary income (4+5+6)\n",
      " id = 115, text = 4 Wages and salaries etc., total\n",
      " id = 120, text = 5 Entrepreneurial income, total\n",
      " id = 125, text = 6 Received fees subject to labour market contributions\n",
      " id = 130, text = 7 Public transfer incomes(8+14+19)\n",
      " id = 135, text = 8 Unemployment and cash benefits (9+10+11+12+13)\n",
      " id = 140, text = 9 Unemployment benefits\n",
      " id = 145, text = 10 Other benefits from unemployment funds\n",
      " id = 150, text = 11 Cash benefits\n",
      " id = 155, text = 12 Job training & Limited employment benefits\n",
      " id = 160, text = 13 Sickness- & parental leave\n",
      " id = 165, text = 14 Other transfers(15+16+17+18)\n",
      " id = 170, text = 15 Public educational grants\n",
      " id = 175, text = 16 Housing benefits\n",
      " id = 180, text = 17 Child benefits\n",
      " id = 185, text = 18 Green check\n",
      " id = 190, text = 19 Public pensions(20+21)\n",
      " id = 195, text = 20 Early retirement pay\n",
      " id = 200, text = 21 Disability and old age pensions\n",
      " id = 205, text = 22 Private pensions(23+24+25)\n",
      " id = 210, text = 23 Public servants pension\n",
      " id = 215, text = 24 Pension from the ATP (Labour Market Supplementary Pension Scheme)\n",
      " id = 220, text = 25 Labour market and private pensions (Annuities only)\n",
      " id = 225, text = 26 Capital income, gross (27+28)\n",
      " id = 230, text = 27 Interest received\n",
      " id = 235, text = 28 Other property income (From stocks etc.)\n",
      " id = 240, text = 29 Other personal income\n",
      " id = 245, text = 30 Imputed rent\n",
      " id = 250, text = 31 Interest expenses\n",
      " id = 255, text = 32 Tax, total (33+34)\n",
      " id = 260, text = 33 Income taxes\n",
      " id = 265, text = 34 Labour market contributions etc.\n",
      " id = 270, text = 35 Paid alimonies\n",
      " id = 275, text = Equivalised Disposable income\n",
      " id = 280, text = Land tax home owners\n",
      " id = 285, text = Land tax, tenants\n",
      " id = 290, text = Taxable income\n"
     ]
    }
   ],
   "source": [
    "indk_vars = Dst.get_variables(table_id='INDKP107')\n",
    "\n",
    "for id in ['ENHED','KOEN','UDDNIV','INDKOMSTTYPE']:\n",
    "    print(id)\n",
    "    values = indk_vars.loc[indk_vars.id == id,['values']].values[0,0]\n",
    "    for value in values:      \n",
    "        print(f' id = {value[\"id\"]}, text = {value[\"text\"]}')"
   ]
  },
  {
   "cell_type": "markdown",
   "metadata": {},
   "source": [
    "There are quite a few to select from. Need to use a dictionary to specify the desired subset of data. Note: a **\\*** indicates that you want all levels. For example, we are subsetting all periods below.  \n",
    "\n",
    "**Get data:**"
   ]
  },
  {
   "cell_type": "code",
   "execution_count": 11,
   "metadata": {},
   "outputs": [
    {
     "data": {
      "text/html": [
       "<div>\n",
       "<style scoped>\n",
       "    .dataframe tbody tr th:only-of-type {\n",
       "        vertical-align: middle;\n",
       "    }\n",
       "\n",
       "    .dataframe tbody tr th {\n",
       "        vertical-align: top;\n",
       "    }\n",
       "\n",
       "    .dataframe thead th {\n",
       "        text-align: right;\n",
       "    }\n",
       "</style>\n",
       "<table border=\"1\" class=\"dataframe\">\n",
       "  <thead>\n",
       "    <tr style=\"text-align: right;\">\n",
       "      <th></th>\n",
       "      <th>OMRÅDE</th>\n",
       "      <th>ENHED</th>\n",
       "      <th>KOEN</th>\n",
       "      <th>TID</th>\n",
       "      <th>UDDNIV</th>\n",
       "      <th>INDKOMSTTYPE</th>\n",
       "      <th>INDHOLD</th>\n",
       "    </tr>\n",
       "  </thead>\n",
       "  <tbody>\n",
       "    <tr>\n",
       "      <th>3673</th>\n",
       "      <td>Aabenraa</td>\n",
       "      <td>Amount of income (DKK 1.000)</td>\n",
       "      <td>Men</td>\n",
       "      <td>2004</td>\n",
       "      <td>65 LONG-CYCLE HIGHER EDUCATION</td>\n",
       "      <td>1 Disposable income (2+30-31-32-35)</td>\n",
       "      <td>223232</td>\n",
       "    </tr>\n",
       "    <tr>\n",
       "      <th>3743</th>\n",
       "      <td>Aabenraa</td>\n",
       "      <td>Average income for all people (DKK)</td>\n",
       "      <td>Men</td>\n",
       "      <td>2004</td>\n",
       "      <td>65 LONG-CYCLE HIGHER EDUCATION</td>\n",
       "      <td>1 Disposable income (2+30-31-32-35)</td>\n",
       "      <td>296851</td>\n",
       "    </tr>\n",
       "    <tr>\n",
       "      <th>3674</th>\n",
       "      <td>Aabenraa</td>\n",
       "      <td>Amount of income (DKK 1.000)</td>\n",
       "      <td>Women</td>\n",
       "      <td>2004</td>\n",
       "      <td>65 LONG-CYCLE HIGHER EDUCATION</td>\n",
       "      <td>1 Disposable income (2+30-31-32-35)</td>\n",
       "      <td>104081</td>\n",
       "    </tr>\n",
       "    <tr>\n",
       "      <th>3744</th>\n",
       "      <td>Aabenraa</td>\n",
       "      <td>Average income for all people (DKK)</td>\n",
       "      <td>Women</td>\n",
       "      <td>2004</td>\n",
       "      <td>65 LONG-CYCLE HIGHER EDUCATION</td>\n",
       "      <td>1 Disposable income (2+30-31-32-35)</td>\n",
       "      <td>238172</td>\n",
       "    </tr>\n",
       "    <tr>\n",
       "      <th>2750</th>\n",
       "      <td>Aabenraa</td>\n",
       "      <td>Amount of income (DKK 1.000)</td>\n",
       "      <td>Men</td>\n",
       "      <td>2005</td>\n",
       "      <td>65 LONG-CYCLE HIGHER EDUCATION</td>\n",
       "      <td>1 Disposable income (2+30-31-32-35)</td>\n",
       "      <td>237525</td>\n",
       "    </tr>\n",
       "  </tbody>\n",
       "</table>\n",
       "</div>"
      ],
      "text/plain": [
       "        OMRÅDE                                ENHED   KOEN   TID  \\\n",
       "3673  Aabenraa         Amount of income (DKK 1.000)    Men  2004   \n",
       "3743  Aabenraa  Average income for all people (DKK)    Men  2004   \n",
       "3674  Aabenraa         Amount of income (DKK 1.000)  Women  2004   \n",
       "3744  Aabenraa  Average income for all people (DKK)  Women  2004   \n",
       "2750  Aabenraa         Amount of income (DKK 1.000)    Men  2005   \n",
       "\n",
       "                              UDDNIV                         INDKOMSTTYPE  \\\n",
       "3673  65 LONG-CYCLE HIGHER EDUCATION  1 Disposable income (2+30-31-32-35)   \n",
       "3743  65 LONG-CYCLE HIGHER EDUCATION  1 Disposable income (2+30-31-32-35)   \n",
       "3674  65 LONG-CYCLE HIGHER EDUCATION  1 Disposable income (2+30-31-32-35)   \n",
       "3744  65 LONG-CYCLE HIGHER EDUCATION  1 Disposable income (2+30-31-32-35)   \n",
       "2750  65 LONG-CYCLE HIGHER EDUCATION  1 Disposable income (2+30-31-32-35)   \n",
       "\n",
       "      INDHOLD  \n",
       "3673   223232  \n",
       "3743   296851  \n",
       "3674   104081  \n",
       "3744   238172  \n",
       "2750   237525  "
      ]
     },
     "execution_count": 11,
     "metadata": {},
     "output_type": "execute_result"
    }
   ],
   "source": [
    "variables = {'OMRÅDE':['*'],'ENHED':['110', '116'],'KOEN':['M','K'],'TID':['*'],'UDDNIV':['65'],'INDKOMSTTYPE':['100']}\n",
    "inc_api = Dst.get_data(table_id = 'INDKP107', variables=variables)\n",
    "inc_api.sort_values(by=['OMRÅDE', 'TID', 'KOEN'], inplace=True)\n",
    "inc_api.head(5)"
   ]
  },
  {
   "cell_type": "markdown",
   "metadata": {},
   "source": [
    ".. now you have a data set ready for cleaning and renaming."
   ]
  },
  {
   "cell_type": "markdown",
   "metadata": {},
   "source": [
    "### 1.2. <a id='toc1_2_'></a>[FRED (Federal Reserve Economic Data)](#toc0_)"
   ]
  },
  {
   "cell_type": "markdown",
   "metadata": {},
   "source": [
    "**GDP data** for the US"
   ]
  },
  {
   "cell_type": "code",
   "execution_count": 12,
   "metadata": {},
   "outputs": [
    {
     "name": "stdout",
     "output_type": "stream",
     "text": [
      "total number of days: 4383\n"
     ]
    }
   ],
   "source": [
    "# Need first to encode dates in a python friendly to specify the length of the desired time period. \n",
    "# Use the datetime module - it is the general way to handle dates in python. \n",
    "start = datetime.datetime(2005,1,1)\n",
    "end = datetime.datetime(2017,1,1)\n",
    "timespan = end - start # We can investigate the precise time span by just subtracting to time variables.\n",
    "print('total number of days:', timespan.days) # The timespan object has a days attribute."
   ]
  },
  {
   "cell_type": "code",
   "execution_count": 13,
   "metadata": {},
   "outputs": [
    {
     "data": {
      "text/html": [
       "<div>\n",
       "<style scoped>\n",
       "    .dataframe tbody tr th:only-of-type {\n",
       "        vertical-align: middle;\n",
       "    }\n",
       "\n",
       "    .dataframe tbody tr th {\n",
       "        vertical-align: top;\n",
       "    }\n",
       "\n",
       "    .dataframe thead th {\n",
       "        text-align: right;\n",
       "    }\n",
       "</style>\n",
       "<table border=\"1\" class=\"dataframe\">\n",
       "  <thead>\n",
       "    <tr style=\"text-align: right;\">\n",
       "      <th></th>\n",
       "      <th>GDP</th>\n",
       "    </tr>\n",
       "    <tr>\n",
       "      <th>DATE</th>\n",
       "      <th></th>\n",
       "    </tr>\n",
       "  </thead>\n",
       "  <tbody>\n",
       "    <tr>\n",
       "      <th>2005-01-01</th>\n",
       "      <td>12767.286</td>\n",
       "    </tr>\n",
       "    <tr>\n",
       "      <th>2005-04-01</th>\n",
       "      <td>12922.656</td>\n",
       "    </tr>\n",
       "    <tr>\n",
       "      <th>2005-07-01</th>\n",
       "      <td>13142.642</td>\n",
       "    </tr>\n",
       "    <tr>\n",
       "      <th>2005-10-01</th>\n",
       "      <td>13324.204</td>\n",
       "    </tr>\n",
       "    <tr>\n",
       "      <th>2006-01-01</th>\n",
       "      <td>13599.160</td>\n",
       "    </tr>\n",
       "    <tr>\n",
       "      <th>2006-04-01</th>\n",
       "      <td>13753.424</td>\n",
       "    </tr>\n",
       "    <tr>\n",
       "      <th>2006-07-01</th>\n",
       "      <td>13870.188</td>\n",
       "    </tr>\n",
       "    <tr>\n",
       "      <th>2006-10-01</th>\n",
       "      <td>14039.560</td>\n",
       "    </tr>\n",
       "    <tr>\n",
       "      <th>2007-01-01</th>\n",
       "      <td>14215.651</td>\n",
       "    </tr>\n",
       "    <tr>\n",
       "      <th>2007-04-01</th>\n",
       "      <td>14402.082</td>\n",
       "    </tr>\n",
       "  </tbody>\n",
       "</table>\n",
       "</div>"
      ],
      "text/plain": [
       "                  GDP\n",
       "DATE                 \n",
       "2005-01-01  12767.286\n",
       "2005-04-01  12922.656\n",
       "2005-07-01  13142.642\n",
       "2005-10-01  13324.204\n",
       "2006-01-01  13599.160\n",
       "2006-04-01  13753.424\n",
       "2006-07-01  13870.188\n",
       "2006-10-01  14039.560\n",
       "2007-01-01  14215.651\n",
       "2007-04-01  14402.082"
      ]
     },
     "execution_count": 13,
     "metadata": {},
     "output_type": "execute_result"
    }
   ],
   "source": [
    "# Call the FRED api using pandas_datareader \n",
    "gdp = pandas_datareader.data.DataReader('GDP', 'fred', start, end)\n",
    "gdp.head(10)"
   ]
  },
  {
   "cell_type": "markdown",
   "metadata": {},
   "source": [
    "**Finding data:**\n",
    "\n",
    "1. go to https://fred.stlouisfed.org \n",
    "2. search for data in main bar, e.g. employment and unemployment\n",
    "3. click the first links\n",
    "4. table name is next to header "
   ]
  },
  {
   "cell_type": "markdown",
   "metadata": {},
   "source": [
    "We now want to pull down data on aggregate employment (PAYEMS) and unemployment (UNEMPLOY) levels and then plot the development. \n",
    "\n",
    "**Pulling the data:**"
   ]
  },
  {
   "cell_type": "code",
   "execution_count": 14,
   "metadata": {},
   "outputs": [],
   "source": [
    "start = datetime.datetime(1939,1,1)\n",
    "end = datetime.datetime(2021,12,1)\n",
    "\n",
    "# We can pull from multiple sources in one go. Just combine them in a list.\n",
    "empl_us = pandas_datareader.data.DataReader(['PAYEMS', 'UNEMPLOY'], 'fred', start, end)"
   ]
  },
  {
   "cell_type": "markdown",
   "metadata": {},
   "source": [
    "**Plot:**"
   ]
  },
  {
   "cell_type": "code",
   "execution_count": 15,
   "metadata": {},
   "outputs": [
    {
     "data": {
      "image/png": "[encoded data removed]",
      "text/plain": [
       "<Figure size 640x480 with 1 Axes>"
      ]
     },
     "metadata": {},
     "output_type": "display_data"
    }
   ],
   "source": [
    "fig = plt.figure()\n",
    "ax = fig.add_subplot(1,1,1)\n",
    "\n",
    "# Now we are just plotting directly from the pandas dataframe. Still using matplotlib under the hood.\n",
    "empl_us.plot(ax=ax)\n",
    "\n",
    "ax.legend(frameon=True)\n",
    "ax.set_xlabel('')\n",
    "ax.set_ylabel('employment (US)');"
   ]
  },
  {
   "cell_type": "markdown",
   "metadata": {},
   "source": [
    "### 1.3. <a id='toc1_3_'></a>[World Bank indicators: `wb`](#toc0_)"
   ]
  },
  {
   "cell_type": "markdown",
   "metadata": {},
   "source": [
    "**Finding data:**\n",
    "\n",
    "1. go to https://data.worldbank.org/indicator/\n",
    "2. search for GDP \n",
    "3. variable name (\"NY.GDP.PCAP.KD\") is in the URL"
   ]
  },
  {
   "cell_type": "markdown",
   "metadata": {},
   "source": [
    "**Pull GDP numbers:**"
   ]
  },
  {
   "cell_type": "code",
   "execution_count": 16,
   "metadata": {},
   "outputs": [],
   "source": [
    "# Need a different module than in the FRED case\n",
    "from pandas_datareader import wb"
   ]
  },
  {
   "cell_type": "code",
   "execution_count": 17,
   "metadata": {},
   "outputs": [
    {
     "data": {
      "text/html": [
       "<div>\n",
       "<style scoped>\n",
       "    .dataframe tbody tr th:only-of-type {\n",
       "        vertical-align: middle;\n",
       "    }\n",
       "\n",
       "    .dataframe tbody tr th {\n",
       "        vertical-align: top;\n",
       "    }\n",
       "\n",
       "    .dataframe thead th {\n",
       "        text-align: right;\n",
       "    }\n",
       "</style>\n",
       "<table border=\"1\" class=\"dataframe\">\n",
       "  <thead>\n",
       "    <tr style=\"text-align: right;\">\n",
       "      <th></th>\n",
       "      <th>country</th>\n",
       "      <th>year</th>\n",
       "      <th>GDP</th>\n",
       "    </tr>\n",
       "  </thead>\n",
       "  <tbody>\n",
       "    <tr>\n",
       "      <th>28</th>\n",
       "      <td>Norway</td>\n",
       "      <td>2017</td>\n",
       "      <td>75610.649483</td>\n",
       "    </tr>\n",
       "    <tr>\n",
       "      <th>65</th>\n",
       "      <td>Sweden</td>\n",
       "      <td>2008</td>\n",
       "      <td>48544.115894</td>\n",
       "    </tr>\n",
       "    <tr>\n",
       "      <th>60</th>\n",
       "      <td>Sweden</td>\n",
       "      <td>2013</td>\n",
       "      <td>49048.818750</td>\n",
       "    </tr>\n",
       "    <tr>\n",
       "      <th>11</th>\n",
       "      <td>Denmark</td>\n",
       "      <td>2006</td>\n",
       "      <td>53687.441547</td>\n",
       "    </tr>\n",
       "    <tr>\n",
       "      <th>8</th>\n",
       "      <td>Denmark</td>\n",
       "      <td>2009</td>\n",
       "      <td>50457.232489</td>\n",
       "    </tr>\n",
       "  </tbody>\n",
       "</table>\n",
       "</div>"
      ],
      "text/plain": [
       "    country  year           GDP\n",
       "28   Norway  2017  75610.649483\n",
       "65   Sweden  2008  48544.115894\n",
       "60   Sweden  2013  49048.818750\n",
       "11  Denmark  2006  53687.441547\n",
       "8   Denmark  2009  50457.232489"
      ]
     },
     "execution_count": 17,
     "metadata": {},
     "output_type": "execute_result"
    }
   ],
   "source": [
    "wb_gdp = wb.download(indicator='NY.GDP.PCAP.KD', country=['SE','DK','NO'], start=1990, end=2017)\n",
    "\n",
    "wb_gdp = wb_gdp.rename(columns = {'NY.GDP.PCAP.KD':'GDP'})\n",
    "wb_gdp = wb_gdp.reset_index()\n",
    "wb_gdp.sample(5)"
   ]
  },
  {
   "cell_type": "code",
   "execution_count": 18,
   "metadata": {},
   "outputs": [
    {
     "name": "stdout",
     "output_type": "stream",
     "text": [
      "<class 'pandas.core.frame.DataFrame'>\n",
      "RangeIndex: 84 entries, 0 to 83\n",
      "Data columns (total 3 columns):\n",
      " #   Column   Non-Null Count  Dtype  \n",
      "---  ------   --------------  -----  \n",
      " 0   country  84 non-null     object \n",
      " 1   year     84 non-null     object \n",
      " 2   GDP      84 non-null     float64\n",
      "dtypes: float64(1), object(2)\n",
      "memory usage: 2.1+ KB\n"
     ]
    }
   ],
   "source": [
    "wb_gdp.info()"
   ]
  },
  {
   "cell_type": "markdown",
   "metadata": {},
   "source": [
    "**Problems:** \n",
    "* It turns out that the dataframe has stored the variable *year* as an \"object\", meaning in practice that it is a string. This must be converted to an int, as we want to use it as a number. \n",
    "* *country* is in fact a text variable, so it is acceptable to have it as an object type. But pandas has implemented a string type on its own. It is called 'string', while the text type of object that you normally encounter is of type 'str'. Yes, confusing!!  But you want to get it right, because an object variable can also contain numbers in addition to text. Which is bad. \n",
    "* Fortunately, GDP is a float (i.e. a number). "
   ]
  },
  {
   "cell_type": "code",
   "execution_count": 19,
   "metadata": {},
   "outputs": [
    {
     "name": "stdout",
     "output_type": "stream",
     "text": [
      "<class 'pandas.core.frame.DataFrame'>\n",
      "RangeIndex: 84 entries, 0 to 83\n",
      "Data columns (total 3 columns):\n",
      " #   Column   Non-Null Count  Dtype  \n",
      "---  ------   --------------  -----  \n",
      " 0   country  84 non-null     string \n",
      " 1   year     84 non-null     int32  \n",
      " 2   GDP      84 non-null     float64\n",
      "dtypes: float64(1), int32(1), string(1)\n",
      "memory usage: 1.8 KB\n"
     ]
    }
   ],
   "source": [
    "wb_gdp.year = wb_gdp.year.astype(int) # convert year\n",
    "wb_gdp.country = wb_gdp.country.astype('string') # convert country to the special pandas string type\n",
    "wb_gdp.info()"
   ]
  },
  {
   "cell_type": "markdown",
   "metadata": {},
   "source": [
    "**Fetch employment-to-population ratio:**"
   ]
  },
  {
   "cell_type": "code",
   "execution_count": 20,
   "metadata": {},
   "outputs": [
    {
     "data": {
      "text/html": [
       "<div>\n",
       "<style scoped>\n",
       "    .dataframe tbody tr th:only-of-type {\n",
       "        vertical-align: middle;\n",
       "    }\n",
       "\n",
       "    .dataframe tbody tr th {\n",
       "        vertical-align: top;\n",
       "    }\n",
       "\n",
       "    .dataframe thead th {\n",
       "        text-align: right;\n",
       "    }\n",
       "</style>\n",
       "<table border=\"1\" class=\"dataframe\">\n",
       "  <thead>\n",
       "    <tr style=\"text-align: right;\">\n",
       "      <th></th>\n",
       "      <th>country</th>\n",
       "      <th>year</th>\n",
       "      <th>employment_to_pop</th>\n",
       "    </tr>\n",
       "  </thead>\n",
       "  <tbody>\n",
       "    <tr>\n",
       "      <th>45</th>\n",
       "      <td>Norway</td>\n",
       "      <td>2000</td>\n",
       "      <td>64.613998</td>\n",
       "    </tr>\n",
       "    <tr>\n",
       "      <th>10</th>\n",
       "      <td>Denmark</td>\n",
       "      <td>2007</td>\n",
       "      <td>63.213001</td>\n",
       "    </tr>\n",
       "    <tr>\n",
       "      <th>30</th>\n",
       "      <td>Norway</td>\n",
       "      <td>2015</td>\n",
       "      <td>62.186001</td>\n",
       "    </tr>\n",
       "  </tbody>\n",
       "</table>\n",
       "</div>"
      ],
      "text/plain": [
       "    country  year  employment_to_pop\n",
       "45   Norway  2000          64.613998\n",
       "10  Denmark  2007          63.213001\n",
       "30   Norway  2015          62.186001"
      ]
     },
     "execution_count": 20,
     "metadata": {},
     "output_type": "execute_result"
    }
   ],
   "source": [
    "wb_empl = wb.download(indicator='SL.EMP.TOTL.SP.ZS', country=['SE','DK','NO'], start=1990, end=2017) # don't need the special datetime here.\n",
    "wb_empl.rename(columns = {'SL.EMP.TOTL.SP.ZS':'employment_to_pop'}, inplace=True) # Better col name\n",
    "wb_empl.reset_index(inplace = True)\n",
    "wb_empl.year = wb_empl.year.astype(int)\n",
    "wb_empl.sample(3)"
   ]
  },
  {
   "cell_type": "markdown",
   "metadata": {},
   "source": [
    "**Merge:**"
   ]
  },
  {
   "cell_type": "code",
   "execution_count": 21,
   "metadata": {
    "tags": []
   },
   "outputs": [
    {
     "data": {
      "text/html": [
       "<div>\n",
       "<style scoped>\n",
       "    .dataframe tbody tr th:only-of-type {\n",
       "        vertical-align: middle;\n",
       "    }\n",
       "\n",
       "    .dataframe tbody tr th {\n",
       "        vertical-align: top;\n",
       "    }\n",
       "\n",
       "    .dataframe thead th {\n",
       "        text-align: right;\n",
       "    }\n",
       "</style>\n",
       "<table border=\"1\" class=\"dataframe\">\n",
       "  <thead>\n",
       "    <tr style=\"text-align: right;\">\n",
       "      <th></th>\n",
       "      <th>country</th>\n",
       "      <th>year</th>\n",
       "      <th>GDP</th>\n",
       "      <th>employment_to_pop</th>\n",
       "    </tr>\n",
       "  </thead>\n",
       "  <tbody>\n",
       "    <tr>\n",
       "      <th>0</th>\n",
       "      <td>Denmark</td>\n",
       "      <td>2017</td>\n",
       "      <td>55735.764901</td>\n",
       "      <td>58.122002</td>\n",
       "    </tr>\n",
       "    <tr>\n",
       "      <th>1</th>\n",
       "      <td>Denmark</td>\n",
       "      <td>2016</td>\n",
       "      <td>54556.068955</td>\n",
       "      <td>57.957001</td>\n",
       "    </tr>\n",
       "    <tr>\n",
       "      <th>2</th>\n",
       "      <td>Denmark</td>\n",
       "      <td>2015</td>\n",
       "      <td>53254.856370</td>\n",
       "      <td>57.469002</td>\n",
       "    </tr>\n",
       "    <tr>\n",
       "      <th>3</th>\n",
       "      <td>Denmark</td>\n",
       "      <td>2014</td>\n",
       "      <td>52404.763971</td>\n",
       "      <td>57.014999</td>\n",
       "    </tr>\n",
       "    <tr>\n",
       "      <th>4</th>\n",
       "      <td>Denmark</td>\n",
       "      <td>2013</td>\n",
       "      <td>51831.797931</td>\n",
       "      <td>56.887001</td>\n",
       "    </tr>\n",
       "  </tbody>\n",
       "</table>\n",
       "</div>"
      ],
      "text/plain": [
       "   country  year           GDP  employment_to_pop\n",
       "0  Denmark  2017  55735.764901          58.122002\n",
       "1  Denmark  2016  54556.068955          57.957001\n",
       "2  Denmark  2015  53254.856370          57.469002\n",
       "3  Denmark  2014  52404.763971          57.014999\n",
       "4  Denmark  2013  51831.797931          56.887001"
      ]
     },
     "execution_count": 21,
     "metadata": {},
     "output_type": "execute_result"
    }
   ],
   "source": [
    "wb = pd.merge(wb_gdp, wb_empl, how = 'outer', on = ['country','year']);\n",
    "wb.head(5)"
   ]
  },
  {
   "cell_type": "markdown",
   "metadata": {},
   "source": [
    "## 2. <a id='toc2_'></a>[A few examples of open access APIs](#toc0_)\n",
    "\n",
    "As already demonstrated, you can pull data from DST using their API. Just to give a few examples of where else you may find open access to data by API: \n",
    "* Check out the [documentation for pandas_datareader](https://pandas-datareader.readthedocs.io/en/latest/remote_data.html). There is a bunch of economic data banks to access through that. \n",
    "* There is an API for [covid-19 data](https://pypi.org/project/covid19-data/) that draws on several sources. \n",
    "* The National Museum of Art (DK) gives access to their collection [by an API](https://www.smk.dk/article/smk-api/). \n",
    "* NASA has its own API. [Look here](https://api.nasa.gov/) for their documentation and [here](https://pypi.org/project/python-nasa-api/) for a Python wrapper. \n",
    "\n",
    "## 3. <a id='toc3_'></a>[Other sources](#toc0_)\n",
    "* **A crazy large collection of APIs** found on [this Github repo](https://github.com/public-apis/public-apis). Stocks, government, map data, lol memes, anything..\n",
    "* Datasets behind [FiveThirtyEight articles](https://github.com/fivethirtyeight/data)  (youknow.. [this site](https://fivethirtyeight.com/))"
   ]
  }
 ],
 "metadata": {
  "kernelspec": {
   "display_name": "base",
   "language": "python",
   "name": "python3"
  },
  "language_info": {
   "codemirror_mode": {
    "name": "ipython",
    "version": 3
   },
   "file_extension": ".py",
   "mimetype": "text/x-python",
   "name": "python",
   "nbconvert_exporter": "python",
   "pygments_lexer": "ipython3",
   "version": "3.9.16"
  },
  "orig_nbformat": 4,
  "vscode": {
   "interpreter": {
    "hash": "2164e4eaf16dd6cd705646718fcef4f5f263bad5b7d103e76e9308c0132ca24b"
   }
  }
 },
 "nbformat": 4,
 "nbformat_minor": 2
}
